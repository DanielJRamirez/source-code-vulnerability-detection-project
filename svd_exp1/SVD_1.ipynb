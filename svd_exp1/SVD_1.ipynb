{
 "cells": [
  {
   "cell_type": "markdown",
   "metadata": {},
   "source": [
    "# Software Vulnerability Detection using Deep Learning (Experiment Replication)"
   ]
  },
  {
   "cell_type": "markdown",
   "metadata": {},
   "source": [
    "### Multicolumn experiment (All CWEs and others)"
   ]
  },
  {
   "cell_type": "markdown",
   "metadata": {},
   "source": [
    "* This is from Russell et. al work (Automated Vulnerability Detection in Source Code Using Deep Representation Learning) https://arxiv.org/abs/1807.04320\n",
    "* Datasets downloaded from https://osf.io/d45bw/\n",
    "* Datasets distribution: Training (80%), Validation (10%), Testing (10%)\n",
    "* The dataset consists of the source code of 1.27 million functions mined from open source software, labeled by static analysis for potential vulnerabilities.\n",
    "* Each function's raw source code, starting from the function name, is stored as a variable-length UTF-8 string. Five binary 'vulnerability' labels are provided for each function, corresponding to the four most common CWEs in our data plus all others: \n",
    " * CWE-120 (3.7% of functions)\n",
    " * CWE-119 (1.9% of functions)\n",
    " * CWE-469 (0.95% of functions)\n",
    " * CWE-476 (0.21% of functions)\n",
    " * CWE-other (2.7% of functions)\n",
    "* Functions may have more than one detected CWE each.\n",
    "* Python 3.6 and Tensorflow 2.0.0"
   ]
  },
  {
   "cell_type": "markdown",
   "metadata": {},
   "source": [
    "## Pre-processing"
   ]
  },
  {
   "cell_type": "markdown",
   "metadata": {},
   "source": [
    "Converting the HDF5 files for training/validation/testing datasets to python pickle for ease of future usage"
   ]
  },
  {
   "cell_type": "code",
   "execution_count": 9,
   "metadata": {},
   "outputs": [],
   "source": [
    "import h5py\n",
    "import pandas as pd"
   ]
  },
  {
   "cell_type": "code",
   "execution_count": 15,
   "metadata": {},
   "outputs": [],
   "source": [
    "# 3 datasets available\n",
    "\n",
    "data = h5py.File(\"VDISC_train.hdf5\",'r')\n",
    "#data = h5py.File(\"VDISC_validate.hdf5\",'r')\n",
    "#data = h5py.File(\"VDISC_test.hdf5\",'r')"
   ]
  },
  {
   "cell_type": "code",
   "execution_count": 30,
   "metadata": {},
   "outputs": [
    {
     "name": "stdout",
     "output_type": "stream",
     "text": [
      "CWE-119\n",
      "CWE-120\n",
      "CWE-469\n",
      "CWE-476\n",
      "CWE-other\n",
      "functionSource\n"
     ]
    }
   ],
   "source": [
    "# List all groups\n",
    "data.visit(print)"
   ]
  },
  {
   "cell_type": "markdown",
   "metadata": {},
   "source": [
    "Create a new dataframe from the HDF5 file"
   ]
  },
  {
   "cell_type": "code",
   "execution_count": 16,
   "metadata": {},
   "outputs": [],
   "source": [
    "mydf = pd.DataFrame(list(data['functionSource']))"
   ]
  },
  {
   "cell_type": "code",
   "execution_count": 17,
   "metadata": {},
   "outputs": [],
   "source": [
    "mydf['CWE-119']=list(data['CWE-119']); mydf['CWE-120']=list(data['CWE-120']); mydf['CWE-469']=list(data['CWE-469']); mydf['CWE-476']=list(data['CWE-476']); mydf['CWE-other']=list(data['CWE-other']) "
   ]
  },
  {
   "cell_type": "code",
   "execution_count": 18,
   "metadata": {},
   "outputs": [],
   "source": [
    "mydf.rename(columns={0:'functionSource'},inplace=True)"
   ]
  },
  {
   "cell_type": "code",
   "execution_count": 71,
   "metadata": {},
   "outputs": [
    {
     "data": {
      "text/html": [
       "<div>\n",
       "<style scoped>\n",
       "    .dataframe tbody tr th:only-of-type {\n",
       "        vertical-align: middle;\n",
       "    }\n",
       "\n",
       "    .dataframe tbody tr th {\n",
       "        vertical-align: top;\n",
       "    }\n",
       "\n",
       "    .dataframe thead th {\n",
       "        text-align: right;\n",
       "    }\n",
       "</style>\n",
       "<table border=\"1\" class=\"dataframe\">\n",
       "  <thead>\n",
       "    <tr style=\"text-align: right;\">\n",
       "      <th></th>\n",
       "      <th>functionSource</th>\n",
       "      <th>CWE-119</th>\n",
       "      <th>CWE-120</th>\n",
       "      <th>CWE-469</th>\n",
       "      <th>CWE-476</th>\n",
       "      <th>CWE-other</th>\n",
       "    </tr>\n",
       "  </thead>\n",
       "  <tbody>\n",
       "    <tr>\n",
       "      <th>0</th>\n",
       "      <td>clear_area(int startx, int starty, int xsize, ...</td>\n",
       "      <td>False</td>\n",
       "      <td>False</td>\n",
       "      <td>False</td>\n",
       "      <td>False</td>\n",
       "      <td>False</td>\n",
       "    </tr>\n",
       "    <tr>\n",
       "      <th>1</th>\n",
       "      <td>ReconstructDuList(Statement* head)\\n{\\n    Sta...</td>\n",
       "      <td>False</td>\n",
       "      <td>False</td>\n",
       "      <td>False</td>\n",
       "      <td>False</td>\n",
       "      <td>False</td>\n",
       "    </tr>\n",
       "    <tr>\n",
       "      <th>2</th>\n",
       "      <td>free_speaker(void)\\n{\\n   if(Lengths)\\n       ...</td>\n",
       "      <td>False</td>\n",
       "      <td>False</td>\n",
       "      <td>False</td>\n",
       "      <td>False</td>\n",
       "      <td>False</td>\n",
       "    </tr>\n",
       "    <tr>\n",
       "      <th>3</th>\n",
       "      <td>mlx4_register_device(struct mlx4_dev *dev)\\n{\\...</td>\n",
       "      <td>False</td>\n",
       "      <td>False</td>\n",
       "      <td>False</td>\n",
       "      <td>False</td>\n",
       "      <td>False</td>\n",
       "    </tr>\n",
       "    <tr>\n",
       "      <th>4</th>\n",
       "      <td>Parse_Env_Var(void)\\n{\\n  char *p = getenv(\"LI...</td>\n",
       "      <td>True</td>\n",
       "      <td>True</td>\n",
       "      <td>False</td>\n",
       "      <td>False</td>\n",
       "      <td>True</td>\n",
       "    </tr>\n",
       "  </tbody>\n",
       "</table>\n",
       "</div>"
      ],
      "text/plain": [
       "                                      functionSource  CWE-119  CWE-120  \\\n",
       "0  clear_area(int startx, int starty, int xsize, ...    False    False   \n",
       "1  ReconstructDuList(Statement* head)\\n{\\n    Sta...    False    False   \n",
       "2  free_speaker(void)\\n{\\n   if(Lengths)\\n       ...    False    False   \n",
       "3  mlx4_register_device(struct mlx4_dev *dev)\\n{\\...    False    False   \n",
       "4  Parse_Env_Var(void)\\n{\\n  char *p = getenv(\"LI...     True     True   \n",
       "\n",
       "   CWE-469  CWE-476  CWE-other  \n",
       "0    False    False      False  \n",
       "1    False    False      False  \n",
       "2    False    False      False  \n",
       "3    False    False      False  \n",
       "4    False    False       True  "
      ]
     },
     "execution_count": 71,
     "metadata": {},
     "output_type": "execute_result"
    }
   ],
   "source": [
    "mydf.iloc[0:5,0:]"
   ]
  },
  {
   "cell_type": "code",
   "execution_count": 19,
   "metadata": {},
   "outputs": [],
   "source": [
    "mydf.to_pickle(\"VDISC_train.pickle\")\n",
    "#mydf.to_pickle(\"VDISC_validate.pickle\")\n",
    "#mydf.to_pickle(\"VDISC_test.pickle\")"
   ]
  },
  {
   "cell_type": "markdown",
   "metadata": {},
   "source": [
    "## Exploratory Data Analysis"
   ]
  },
  {
   "cell_type": "markdown",
   "metadata": {},
   "source": [
    "### Importing processed datasets"
   ]
  },
  {
   "cell_type": "code",
   "execution_count": 66,
   "metadata": {},
   "outputs": [],
   "source": [
    "train=pd.read_pickle(\"VDISC_train.pickle\")\n",
    "validate=pd.read_pickle(\"VDISC_validate.pickle\")\n",
    "test=pd.read_pickle(\"VDISC_test.pickle\")"
   ]
  },
  {
   "cell_type": "code",
   "execution_count": 4,
   "metadata": {},
   "outputs": [],
   "source": [
    "### CONTINUE LATER"
   ]
  },
  {
   "cell_type": "markdown",
   "metadata": {},
   "source": [
    "## Learning Phase"
   ]
  },
  {
   "cell_type": "markdown",
   "metadata": {},
   "source": [
    "### Importing libraries"
   ]
  },
  {
   "cell_type": "code",
   "execution_count": 1,
   "metadata": {},
   "outputs": [
    {
     "name": "stdout",
     "output_type": "stream",
     "text": [
      "Tensorlfow version:  2.0.0\n",
      "Eager mode:  True\n",
      "GPU is available\n"
     ]
    }
   ],
   "source": [
    "import tensorflow as tf\n",
    "import numpy as np\n",
    "import pandas as pd\n",
    "import matplotlib.pyplot as plt\n",
    "import sklearn.metrics\n",
    "import pickle\n",
    "\n",
    "print(\"Tensorlfow version: \", tf.__version__)\n",
    "print(\"Eager mode: \", tf.executing_eagerly())\n",
    "print(\"GPU is\", \"available\" if tf.test.is_gpu_available() else \"NOT AVAILABLE\")"
   ]
  },
  {
   "cell_type": "markdown",
   "metadata": {},
   "source": [
    "### Setting static and global variables"
   ]
  },
  {
   "cell_type": "code",
   "execution_count": 2,
   "metadata": {},
   "outputs": [
    {
     "name": "stdout",
     "output_type": "stream",
     "text": [
      "Random seed is: 71926\n"
     ]
    }
   ],
   "source": [
    "# Generate random seed\n",
    "#myrand=np.random.randint(1, 99999 + 1)\n",
    "myrand=71926\n",
    "np.random.seed(myrand)\n",
    "tf.random.set_seed(myrand)\n",
    "print(\"Random seed is:\",myrand)"
   ]
  },
  {
   "cell_type": "code",
   "execution_count": 3,
   "metadata": {},
   "outputs": [],
   "source": [
    "# Set the global value\n",
    "WORDS_SIZE=10000\n",
    "INPUT_SIZE=500\n",
    "NUM_CLASSES=2\n",
    "MODEL_NUM=0\n",
    "EPOCHS=10"
   ]
  },
  {
   "cell_type": "markdown",
   "metadata": {},
   "source": [
    "### Importing processed datasets"
   ]
  },
  {
   "cell_type": "code",
   "execution_count": 4,
   "metadata": {},
   "outputs": [],
   "source": [
    "train=pd.read_pickle(\"VDISC_train.pickle\")\n",
    "validate=pd.read_pickle(\"VDISC_validate.pickle\")\n",
    "test=pd.read_pickle(\"VDISC_test.pickle\")\n",
    "\n",
    "for dataset in [train,validate,test]:\n",
    "    for col in range(1,6):\n",
    "        dataset.iloc[:,col] = dataset.iloc[:,col].map({False: 0, True: 1})\n",
    "\n",
    "# Create source code sdata for tokenization\n",
    "x_all = train['functionSource']\n",
    "#x_all = x_all.append(validate['functionSource'])\n",
    "#x_all = x_all.append(test['functionSource'])"
   ]
  },
  {
   "cell_type": "code",
   "execution_count": 5,
   "metadata": {},
   "outputs": [
    {
     "data": {
      "text/html": [
       "<div>\n",
       "<style scoped>\n",
       "    .dataframe tbody tr th:only-of-type {\n",
       "        vertical-align: middle;\n",
       "    }\n",
       "\n",
       "    .dataframe tbody tr th {\n",
       "        vertical-align: top;\n",
       "    }\n",
       "\n",
       "    .dataframe thead th {\n",
       "        text-align: right;\n",
       "    }\n",
       "</style>\n",
       "<table border=\"1\" class=\"dataframe\">\n",
       "  <thead>\n",
       "    <tr style=\"text-align: right;\">\n",
       "      <th></th>\n",
       "      <th>functionSource</th>\n",
       "      <th>CWE-119</th>\n",
       "      <th>CWE-120</th>\n",
       "      <th>CWE-469</th>\n",
       "      <th>CWE-476</th>\n",
       "      <th>CWE-other</th>\n",
       "    </tr>\n",
       "  </thead>\n",
       "  <tbody>\n",
       "    <tr>\n",
       "      <td>0</td>\n",
       "      <td>clear_area(int startx, int starty, int xsize, ...</td>\n",
       "      <td>False</td>\n",
       "      <td>False</td>\n",
       "      <td>False</td>\n",
       "      <td>False</td>\n",
       "      <td>False</td>\n",
       "    </tr>\n",
       "    <tr>\n",
       "      <td>1</td>\n",
       "      <td>ReconstructDuList(Statement* head)\\n{\\n    Sta...</td>\n",
       "      <td>False</td>\n",
       "      <td>False</td>\n",
       "      <td>False</td>\n",
       "      <td>False</td>\n",
       "      <td>False</td>\n",
       "    </tr>\n",
       "    <tr>\n",
       "      <td>2</td>\n",
       "      <td>free_speaker(void)\\n{\\n   if(Lengths)\\n       ...</td>\n",
       "      <td>False</td>\n",
       "      <td>False</td>\n",
       "      <td>False</td>\n",
       "      <td>False</td>\n",
       "      <td>False</td>\n",
       "    </tr>\n",
       "    <tr>\n",
       "      <td>3</td>\n",
       "      <td>mlx4_register_device(struct mlx4_dev *dev)\\n{\\...</td>\n",
       "      <td>False</td>\n",
       "      <td>False</td>\n",
       "      <td>False</td>\n",
       "      <td>False</td>\n",
       "      <td>False</td>\n",
       "    </tr>\n",
       "    <tr>\n",
       "      <td>4</td>\n",
       "      <td>Parse_Env_Var(void)\\n{\\n  char *p = getenv(\"LI...</td>\n",
       "      <td>True</td>\n",
       "      <td>True</td>\n",
       "      <td>False</td>\n",
       "      <td>False</td>\n",
       "      <td>True</td>\n",
       "    </tr>\n",
       "  </tbody>\n",
       "</table>\n",
       "</div>"
      ],
      "text/plain": [
       "                                      functionSource  CWE-119  CWE-120  \\\n",
       "0  clear_area(int startx, int starty, int xsize, ...    False    False   \n",
       "1  ReconstructDuList(Statement* head)\\n{\\n    Sta...    False    False   \n",
       "2  free_speaker(void)\\n{\\n   if(Lengths)\\n       ...    False    False   \n",
       "3  mlx4_register_device(struct mlx4_dev *dev)\\n{\\...    False    False   \n",
       "4  Parse_Env_Var(void)\\n{\\n  char *p = getenv(\"LI...     True     True   \n",
       "\n",
       "   CWE-469  CWE-476  CWE-other  \n",
       "0    False    False      False  \n",
       "1    False    False      False  \n",
       "2    False    False      False  \n",
       "3    False    False      False  \n",
       "4    False    False       True  "
      ]
     },
     "execution_count": 5,
     "metadata": {},
     "output_type": "execute_result"
    }
   ],
   "source": [
    "# Overview of the datasets\n",
    "train.head()"
   ]
  },
  {
   "cell_type": "markdown",
   "metadata": {},
   "source": [
    "### Tokenizing the source codes"
   ]
  },
  {
   "cell_type": "code",
   "execution_count": 5,
   "metadata": {},
   "outputs": [
    {
     "name": "stdout",
     "output_type": "stream",
     "text": [
      "Number of tokens:  1094129\n"
     ]
    }
   ],
   "source": [
    "# Tokenizer with word-level\n",
    "tokenizer = tf.keras.preprocessing.text.Tokenizer(char_level=False)\n",
    "tokenizer.fit_on_texts(list(x_all))\n",
    "del(x_all)\n",
    "print('Number of tokens: ',len(tokenizer.word_counts))"
   ]
  },
  {
   "cell_type": "code",
   "execution_count": 6,
   "metadata": {},
   "outputs": [],
   "source": [
    "# Reducing to top N words\n",
    "tokenizer.num_words = WORDS_SIZE"
   ]
  },
  {
   "cell_type": "code",
   "execution_count": 8,
   "metadata": {},
   "outputs": [
    {
     "data": {
      "text/plain": [
       "[('if', 3908040),\n",
       " ('0', 2633095),\n",
       " ('return', 2182544),\n",
       " ('i', 1720280),\n",
       " ('1', 1483872),\n",
       " ('int', 1271988),\n",
       " ('null', 1222633),\n",
       " ('the', 990541),\n",
       " ('t', 917046),\n",
       " ('n', 892342)]"
      ]
     },
     "execution_count": 8,
     "metadata": {},
     "output_type": "execute_result"
    }
   ],
   "source": [
    "# Top 10 words\n",
    "sorted(tokenizer.word_counts.items(), key=lambda x:x[1], reverse=True)[0:10]"
   ]
  },
  {
   "cell_type": "markdown",
   "metadata": {},
   "source": [
    "### Create sequence files from the tokens"
   ]
  },
  {
   "cell_type": "code",
   "execution_count": 7,
   "metadata": {},
   "outputs": [],
   "source": [
    "## Tokkenizing train data and create matrix\n",
    "list_tokenized_train = tokenizer.texts_to_sequences(train['functionSource'])\n",
    "x_train = tf.keras.preprocessing.sequence.pad_sequences(list_tokenized_train, \n",
    "                                  maxlen=INPUT_SIZE,\n",
    "                                  padding='post')\n",
    "x_train = x_train.astype(np.int64)"
   ]
  },
  {
   "cell_type": "code",
   "execution_count": 8,
   "metadata": {},
   "outputs": [],
   "source": [
    "## Tokkenizing test data and create matrix\n",
    "list_tokenized_test = tokenizer.texts_to_sequences(test['functionSource'])\n",
    "x_test = tf.keras.preprocessing.sequence.pad_sequences(list_tokenized_test, \n",
    "                                 maxlen=INPUT_SIZE,\n",
    "                                 padding='post')\n",
    "x_test = x_test.astype(np.int64)"
   ]
  },
  {
   "cell_type": "code",
   "execution_count": 9,
   "metadata": {},
   "outputs": [],
   "source": [
    "## Tokkenizing validate data and create matrix\n",
    "list_tokenized_validate = tokenizer.texts_to_sequences(validate['functionSource'])\n",
    "x_validate = tf.keras.preprocessing.sequence.pad_sequences(list_tokenized_validate, \n",
    "                                 maxlen=INPUT_SIZE,\n",
    "                                 padding='post')\n",
    "x_validate = x_validate.astype(np.int64)"
   ]
  },
  {
   "cell_type": "code",
   "execution_count": 65,
   "metadata": {},
   "outputs": [
    {
     "data": {
      "text/html": [
       "<div>\n",
       "<style scoped>\n",
       "    .dataframe tbody tr th:only-of-type {\n",
       "        vertical-align: middle;\n",
       "    }\n",
       "\n",
       "    .dataframe tbody tr th {\n",
       "        vertical-align: top;\n",
       "    }\n",
       "\n",
       "    .dataframe thead th {\n",
       "        text-align: right;\n",
       "    }\n",
       "</style>\n",
       "<table border=\"1\" class=\"dataframe\">\n",
       "  <thead>\n",
       "    <tr style=\"text-align: right;\">\n",
       "      <th></th>\n",
       "      <th>CWE-119</th>\n",
       "      <th>CWE-120</th>\n",
       "      <th>CWE-469</th>\n",
       "      <th>CWE-476</th>\n",
       "      <th>CWE-other</th>\n",
       "    </tr>\n",
       "  </thead>\n",
       "  <tbody>\n",
       "    <tr>\n",
       "      <td>0</td>\n",
       "      <td>False</td>\n",
       "      <td>False</td>\n",
       "      <td>False</td>\n",
       "      <td>False</td>\n",
       "      <td>False</td>\n",
       "    </tr>\n",
       "    <tr>\n",
       "      <td>1</td>\n",
       "      <td>False</td>\n",
       "      <td>False</td>\n",
       "      <td>False</td>\n",
       "      <td>False</td>\n",
       "      <td>False</td>\n",
       "    </tr>\n",
       "    <tr>\n",
       "      <td>2</td>\n",
       "      <td>False</td>\n",
       "      <td>False</td>\n",
       "      <td>False</td>\n",
       "      <td>False</td>\n",
       "      <td>False</td>\n",
       "    </tr>\n",
       "    <tr>\n",
       "      <td>3</td>\n",
       "      <td>False</td>\n",
       "      <td>False</td>\n",
       "      <td>False</td>\n",
       "      <td>False</td>\n",
       "      <td>False</td>\n",
       "    </tr>\n",
       "    <tr>\n",
       "      <td>4</td>\n",
       "      <td>False</td>\n",
       "      <td>False</td>\n",
       "      <td>False</td>\n",
       "      <td>False</td>\n",
       "      <td>False</td>\n",
       "    </tr>\n",
       "  </tbody>\n",
       "</table>\n",
       "</div>"
      ],
      "text/plain": [
       "   CWE-119  CWE-120  CWE-469  CWE-476  CWE-other\n",
       "0    False    False    False    False      False\n",
       "1    False    False    False    False      False\n",
       "2    False    False    False    False      False\n",
       "3    False    False    False    False      False\n",
       "4    False    False    False    False      False"
      ]
     },
     "execution_count": 65,
     "metadata": {},
     "output_type": "execute_result"
    }
   ],
   "source": [
    "# Example data\n",
    "test.iloc[0:5,1:6]"
   ]
  },
  {
   "cell_type": "markdown",
   "metadata": {},
   "source": [
    "### One-Hot-Enconding (OHE) on the datasets"
   ]
  },
  {
   "cell_type": "code",
   "execution_count": 10,
   "metadata": {},
   "outputs": [],
   "source": [
    "y_train=[]\n",
    "y_test=[]\n",
    "y_validate=[]\n",
    "\n",
    "for col in range(1,6):\n",
    "    y_train.append(tf.keras.utils.to_categorical(train.iloc[:,col], num_classes=NUM_CLASSES).astype(np.int64))\n",
    "    y_test.append(tf.keras.utils.to_categorical(test.iloc[:,col], num_classes=NUM_CLASSES).astype(np.int64))\n",
    "    y_validate.append(tf.keras.utils.to_categorical(validate.iloc[:,col], num_classes=NUM_CLASSES).astype(np.int64))"
   ]
  },
  {
   "cell_type": "code",
   "execution_count": 14,
   "metadata": {},
   "outputs": [
    {
     "data": {
      "text/plain": [
       "array([[1, 0],\n",
       "       [1, 0],\n",
       "       [1, 0],\n",
       "       [1, 0],\n",
       "       [1, 0],\n",
       "       [1, 0],\n",
       "       [1, 0],\n",
       "       [1, 0],\n",
       "       [1, 0]], dtype=int64)"
      ]
     },
     "execution_count": 14,
     "metadata": {},
     "output_type": "execute_result"
    }
   ],
   "source": [
    "# Example data\n",
    "y_test[0][1:10]"
   ]
  },
  {
   "cell_type": "markdown",
   "metadata": {},
   "source": [
    "### Model Definition (CNN with Gaussian Noise and 5 Output Splits)"
   ]
  },
  {
   "cell_type": "code",
   "execution_count": 11,
   "metadata": {},
   "outputs": [],
   "source": [
    "# Create a random weights matrix\n",
    "\n",
    "random_weights = np.random.normal(size=(WORDS_SIZE, 13),scale=0.01)"
   ]
  },
  {
   "cell_type": "code",
   "execution_count": 22,
   "metadata": {},
   "outputs": [
    {
     "name": "stdout",
     "output_type": "stream",
     "text": [
      "CNN model built: \n",
      "Model: \"model_2\"\n",
      "__________________________________________________________________________________________________\n",
      "Layer (type)                    Output Shape         Param #     Connected to                     \n",
      "==================================================================================================\n",
      "input_4 (InputLayer)            [(None, 500)]        0                                            \n",
      "__________________________________________________________________________________________________\n",
      "embedding_5 (Embedding)         (None, 500, 13)      130000      input_4[0][0]                    \n",
      "__________________________________________________________________________________________________\n",
      "conv1d_5 (Conv1D)               (None, 500, 512)     60416       embedding_5[0][0]                \n",
      "__________________________________________________________________________________________________\n",
      "max_pooling1d_3 (MaxPooling1D)  (None, 100, 512)     0           conv1d_5[0][0]                   \n",
      "__________________________________________________________________________________________________\n",
      "dropout_2 (Dropout)             (None, 100, 512)     0           max_pooling1d_3[0][0]            \n",
      "__________________________________________________________________________________________________\n",
      "flatten_3 (Flatten)             (None, 51200)        0           dropout_2[0][0]                  \n",
      "__________________________________________________________________________________________________\n",
      "dense_15 (Dense)                (None, 64)           3276864     flatten_3[0][0]                  \n",
      "__________________________________________________________________________________________________\n",
      "dense_16 (Dense)                (None, 16)           1040        dense_15[0][0]                   \n",
      "__________________________________________________________________________________________________\n",
      "dense_17 (Dense)                (None, 2)            34          dense_16[0][0]                   \n",
      "__________________________________________________________________________________________________\n",
      "dense_18 (Dense)                (None, 2)            34          dense_16[0][0]                   \n",
      "__________________________________________________________________________________________________\n",
      "dense_19 (Dense)                (None, 2)            34          dense_16[0][0]                   \n",
      "__________________________________________________________________________________________________\n",
      "dense_20 (Dense)                (None, 2)            34          dense_16[0][0]                   \n",
      "__________________________________________________________________________________________________\n",
      "dense_21 (Dense)                (None, 2)            34          dense_16[0][0]                   \n",
      "==================================================================================================\n",
      "Total params: 3,468,490\n",
      "Trainable params: 3,468,490\n",
      "Non-trainable params: 0\n",
      "__________________________________________________________________________________________________\n"
     ]
    }
   ],
   "source": [
    "# Must use non-sequential model building to create branches in the output layer\n",
    "inp_layer = tf.keras.layers.Input(shape=(INPUT_SIZE,))\n",
    "mid_layers = tf.keras.layers.Embedding(input_dim = WORDS_SIZE,\n",
    "                                    output_dim = 13,\n",
    "                                    weights=[random_weights],\n",
    "                                    input_length = INPUT_SIZE)(inp_layer)\n",
    "mid_layers = tf.keras.layers.Convolution1D(filters=512, kernel_size=(9), padding='same', activation='relu')(mid_layers)\n",
    "mid_layers = tf.keras.layers.MaxPool1D(pool_size=5)(mid_layers)\n",
    "mid_layers = tf.keras.layers.Dropout(0.5)(mid_layers)\n",
    "mid_layers = tf.keras.layers.Flatten()(mid_layers)\n",
    "mid_layers = tf.keras.layers.Dense(64, activation='relu')(mid_layers)\n",
    "mid_layers = tf.keras.layers.Dense(16, activation='relu')(mid_layers)\n",
    "output1 = tf.keras.layers.Dense(2, activation='softmax')(mid_layers)\n",
    "output2 = tf.keras.layers.Dense(2, activation='softmax')(mid_layers)\n",
    "output3 = tf.keras.layers.Dense(2, activation='softmax')(mid_layers)\n",
    "output4 =tf.keras.layers.Dense(2, activation='softmax')(mid_layers)\n",
    "output5 = tf.keras.layers.Dense(2, activation='softmax')(mid_layers)\n",
    "model = tf.keras.Model(inp_layer,[output1,output2,output3,output4,output5])\n",
    "\n",
    "# Define custom optimizers\n",
    "adam = tf.keras.optimizers.Adam(lr=0.005, beta_1=0.9, beta_2=0.999, epsilon=1, decay=0.0, amsgrad=False)\n",
    "\n",
    "## Compile model with metrics\n",
    "model.compile(optimizer=adam, loss='categorical_crossentropy', metrics=['accuracy'])\n",
    "print(\"CNN model built: \")\n",
    "model.summary()"
   ]
  },
  {
   "cell_type": "markdown",
   "metadata": {},
   "source": [
    "### Tensorboard Callbacks"
   ]
  },
  {
   "cell_type": "code",
   "execution_count": 23,
   "metadata": {},
   "outputs": [],
   "source": [
    "## Create TensorBoard callbacks\n",
    "\n",
    "callbackdir= 'D:\\\\temp\\\\cb'\n",
    "\n",
    "tbCallback = tf.keras.callbacks.TensorBoard(log_dir=callbackdir, \n",
    "                         histogram_freq=1,\n",
    "                         embeddings_freq=1,\n",
    "                         write_graph=True, \n",
    "                         write_images=True)\n",
    "\n",
    "tbCallback.set_model(model)\n",
    "mld = 'model/model-ALL-{epoch:02d}.hdf5'\n",
    "\n",
    "## Create best model callback\n",
    "mcp = tf.keras.callbacks.ModelCheckpoint(filepath=mld, \n",
    "                                         monitor=\"val_loss\",\n",
    "                                         save_best_only=True, \n",
    "                                         mode='auto', \n",
    "                                         save_freq='epoch', \n",
    "                                         verbose=1)"
   ]
  },
  {
   "cell_type": "markdown",
   "metadata": {},
   "source": [
    "### Model Training"
   ]
  },
  {
   "cell_type": "code",
   "execution_count": 24,
   "metadata": {},
   "outputs": [
    {
     "name": "stdout",
     "output_type": "stream",
     "text": [
      "Train on 1019471 samples, validate on 127476 samples\n",
      "Epoch 1/40\n",
      "\n",
      "Epoch 00001: val_loss improved from inf to 1.22285, saving model to model/model-ALL-01.hdf5\n",
      "1019471/1019471 - 207s - loss: 1.4301 - dense_17_loss: 0.2974 - dense_18_loss: 0.4755 - dense_19_loss: 0.0630 - dense_20_loss: 0.1981 - dense_21_loss: 0.3960 - dense_17_accuracy: 0.9801 - dense_18_accuracy: 0.9608 - dense_19_accuracy: 0.9977 - dense_20_accuracy: 0.9902 - dense_21_accuracy: 0.9716 - val_loss: 1.2229 - val_dense_17_loss: 0.2347 - val_dense_18_loss: 0.4010 - val_dense_19_loss: 0.0445 - val_dense_20_loss: 0.1886 - val_dense_21_loss: 0.3541 - val_dense_17_accuracy: 0.9751 - val_dense_18_accuracy: 0.9465 - val_dense_19_accuracy: 0.9980 - val_dense_20_accuracy: 0.9905 - val_dense_21_accuracy: 0.9673\n",
      "Epoch 2/40\n",
      "\n",
      "Epoch 00002: val_loss improved from 1.22285 to 1.13063, saving model to model/model-ALL-02.hdf5\n",
      "1019471/1019471 - 203s - loss: 1.1590 - dense_17_loss: 0.2164 - dense_18_loss: 0.3676 - dense_19_loss: 0.0443 - dense_20_loss: 0.1876 - dense_21_loss: 0.3431 - dense_17_accuracy: 0.9699 - dense_18_accuracy: 0.9321 - dense_19_accuracy: 0.9979 - dense_20_accuracy: 0.9905 - dense_21_accuracy: 0.9645 - val_loss: 1.1306 - val_dense_17_loss: 0.2139 - val_dense_18_loss: 0.3478 - val_dense_19_loss: 0.0426 - val_dense_20_loss: 0.1841 - val_dense_21_loss: 0.3423 - val_dense_17_accuracy: 0.9723 - val_dense_18_accuracy: 0.9356 - val_dense_19_accuracy: 0.9980 - val_dense_20_accuracy: 0.9905 - val_dense_21_accuracy: 0.9669\n",
      "Epoch 3/40\n",
      "\n",
      "Epoch 00003: val_loss improved from 1.13063 to 1.08562, saving model to model/model-ALL-03.hdf5\n",
      "1019471/1019471 - 198s - loss: 1.0901 - dense_17_loss: 0.2074 - dense_18_loss: 0.3225 - dense_19_loss: 0.0430 - dense_20_loss: 0.1851 - dense_21_loss: 0.3321 - dense_17_accuracy: 0.9701 - dense_18_accuracy: 0.9240 - dense_19_accuracy: 0.9979 - dense_20_accuracy: 0.9905 - dense_21_accuracy: 0.9648 - val_loss: 1.0856 - val_dense_17_loss: 0.2114 - val_dense_18_loss: 0.3152 - val_dense_19_loss: 0.0418 - val_dense_20_loss: 0.1835 - val_dense_21_loss: 0.3338 - val_dense_17_accuracy: 0.9615 - val_dense_18_accuracy: 0.9052 - val_dense_19_accuracy: 0.9980 - val_dense_20_accuracy: 0.9905 - val_dense_21_accuracy: 0.9586\n",
      "Epoch 4/40\n",
      "\n",
      "Epoch 00004: val_loss improved from 1.08562 to 1.04840, saving model to model/model-ALL-04.hdf5\n",
      "1019471/1019471 - 198s - loss: 1.0492 - dense_17_loss: 0.2034 - dense_18_loss: 0.2969 - dense_19_loss: 0.0419 - dense_20_loss: 0.1834 - dense_21_loss: 0.3235 - dense_17_accuracy: 0.9706 - dense_18_accuracy: 0.9212 - dense_19_accuracy: 0.9979 - dense_20_accuracy: 0.9905 - dense_21_accuracy: 0.9635 - val_loss: 1.0484 - val_dense_17_loss: 0.2053 - val_dense_18_loss: 0.2979 - val_dense_19_loss: 0.0406 - val_dense_20_loss: 0.1805 - val_dense_21_loss: 0.3241 - val_dense_17_accuracy: 0.9688 - val_dense_18_accuracy: 0.9267 - val_dense_19_accuracy: 0.9980 - val_dense_20_accuracy: 0.9905 - val_dense_21_accuracy: 0.9607\n",
      "Epoch 5/40\n",
      "\n",
      "Epoch 00005: val_loss improved from 1.04840 to 1.03451, saving model to model/model-ALL-05.hdf5\n",
      "1019471/1019471 - 198s - loss: 1.0279 - dense_17_loss: 0.2001 - dense_18_loss: 0.2877 - dense_19_loss: 0.0415 - dense_20_loss: 0.1808 - dense_21_loss: 0.3178 - dense_17_accuracy: 0.9688 - dense_18_accuracy: 0.9232 - dense_19_accuracy: 0.9979 - dense_20_accuracy: 0.9905 - dense_21_accuracy: 0.9614 - val_loss: 1.0345 - val_dense_17_loss: 0.2038 - val_dense_18_loss: 0.2903 - val_dense_19_loss: 0.0404 - val_dense_20_loss: 0.1796 - val_dense_21_loss: 0.3205 - val_dense_17_accuracy: 0.9743 - val_dense_18_accuracy: 0.9221 - val_dense_19_accuracy: 0.9980 - val_dense_20_accuracy: 0.9905 - val_dense_21_accuracy: 0.9644\n",
      "Epoch 6/40\n",
      "\n",
      "Epoch 00006: val_loss improved from 1.03451 to 1.03276, saving model to model/model-ALL-06.hdf5\n",
      "1019471/1019471 - 198s - loss: 1.0118 - dense_17_loss: 0.1970 - dense_18_loss: 0.2821 - dense_19_loss: 0.0410 - dense_20_loss: 0.1781 - dense_21_loss: 0.3136 - dense_17_accuracy: 0.9677 - dense_18_accuracy: 0.9238 - dense_19_accuracy: 0.9979 - dense_20_accuracy: 0.9905 - dense_21_accuracy: 0.9603 - val_loss: 1.0328 - val_dense_17_loss: 0.2054 - val_dense_18_loss: 0.2940 - val_dense_19_loss: 0.0402 - val_dense_20_loss: 0.1756 - val_dense_21_loss: 0.3178 - val_dense_17_accuracy: 0.9714 - val_dense_18_accuracy: 0.9353 - val_dense_19_accuracy: 0.9980 - val_dense_20_accuracy: 0.9905 - val_dense_21_accuracy: 0.9622\n",
      "Epoch 7/40\n",
      "\n",
      "Epoch 00007: val_loss improved from 1.03276 to 1.01366, saving model to model/model-ALL-07.hdf5\n",
      "1019471/1019471 - 198s - loss: 0.9954 - dense_17_loss: 0.1937 - dense_18_loss: 0.2780 - dense_19_loss: 0.0405 - dense_20_loss: 0.1737 - dense_21_loss: 0.3095 - dense_17_accuracy: 0.9670 - dense_18_accuracy: 0.9253 - dense_19_accuracy: 0.9979 - dense_20_accuracy: 0.9905 - dense_21_accuracy: 0.9596 - val_loss: 1.0137 - val_dense_17_loss: 0.2002 - val_dense_18_loss: 0.2874 - val_dense_19_loss: 0.0403 - val_dense_20_loss: 0.1707 - val_dense_21_loss: 0.3150 - val_dense_17_accuracy: 0.9620 - val_dense_18_accuracy: 0.9166 - val_dense_19_accuracy: 0.9980 - val_dense_20_accuracy: 0.9905 - val_dense_21_accuracy: 0.9572\n",
      "Epoch 8/40\n",
      "\n",
      "Epoch 00008: val_loss improved from 1.01366 to 1.00058, saving model to model/model-ALL-08.hdf5\n",
      "1019471/1019471 - 198s - loss: 0.9795 - dense_17_loss: 0.1906 - dense_18_loss: 0.2744 - dense_19_loss: 0.0403 - dense_20_loss: 0.1677 - dense_21_loss: 0.3065 - dense_17_accuracy: 0.9668 - dense_18_accuracy: 0.9262 - dense_19_accuracy: 0.9979 - dense_20_accuracy: 0.9905 - dense_21_accuracy: 0.9587 - val_loss: 1.0006 - val_dense_17_loss: 0.1990 - val_dense_18_loss: 0.2836 - val_dense_19_loss: 0.0397 - val_dense_20_loss: 0.1644 - val_dense_21_loss: 0.3138 - val_dense_17_accuracy: 0.9575 - val_dense_18_accuracy: 0.9199 - val_dense_19_accuracy: 0.9980 - val_dense_20_accuracy: 0.9906 - val_dense_21_accuracy: 0.9482\n",
      "Epoch 9/40\n",
      "\n",
      "Epoch 00009: val_loss improved from 1.00058 to 0.98209, saving model to model/model-ALL-09.hdf5\n",
      "1019471/1019471 - 198s - loss: 0.9627 - dense_17_loss: 0.1875 - dense_18_loss: 0.2712 - dense_19_loss: 0.0399 - dense_20_loss: 0.1611 - dense_21_loss: 0.3030 - dense_17_accuracy: 0.9667 - dense_18_accuracy: 0.9265 - dense_19_accuracy: 0.9979 - dense_20_accuracy: 0.9905 - dense_21_accuracy: 0.9587 - val_loss: 0.9821 - val_dense_17_loss: 0.1951 - val_dense_18_loss: 0.2806 - val_dense_19_loss: 0.0390 - val_dense_20_loss: 0.1582 - val_dense_21_loss: 0.3092 - val_dense_17_accuracy: 0.9695 - val_dense_18_accuracy: 0.9281 - val_dense_19_accuracy: 0.9980 - val_dense_20_accuracy: 0.9905 - val_dense_21_accuracy: 0.9601\n",
      "Epoch 10/40\n",
      "\n",
      "Epoch 00010: val_loss improved from 0.98209 to 0.96769, saving model to model/model-ALL-10.hdf5\n",
      "1019471/1019471 - 198s - loss: 0.9435 - dense_17_loss: 0.1834 - dense_18_loss: 0.2671 - dense_19_loss: 0.0395 - dense_20_loss: 0.1543 - dense_21_loss: 0.2992 - dense_17_accuracy: 0.9669 - dense_18_accuracy: 0.9272 - dense_19_accuracy: 0.9979 - dense_20_accuracy: 0.9903 - dense_21_accuracy: 0.9585 - val_loss: 0.9677 - val_dense_17_loss: 0.1893 - val_dense_18_loss: 0.2768 - val_dense_19_loss: 0.0393 - val_dense_20_loss: 0.1552 - val_dense_21_loss: 0.3071 - val_dense_17_accuracy: 0.9646 - val_dense_18_accuracy: 0.9295 - val_dense_19_accuracy: 0.9980 - val_dense_20_accuracy: 0.9898 - val_dense_21_accuracy: 0.9542\n",
      "Epoch 11/40\n",
      "\n",
      "Epoch 00011: val_loss improved from 0.96769 to 0.94785, saving model to model/model-ALL-11.hdf5\n",
      "1019471/1019471 - 198s - loss: 0.9253 - dense_17_loss: 0.1784 - dense_18_loss: 0.2629 - dense_19_loss: 0.0392 - dense_20_loss: 0.1492 - dense_21_loss: 0.2956 - dense_17_accuracy: 0.9674 - dense_18_accuracy: 0.9283 - dense_19_accuracy: 0.9979 - dense_20_accuracy: 0.9899 - dense_21_accuracy: 0.9587 - val_loss: 0.9479 - val_dense_17_loss: 0.1851 - val_dense_18_loss: 0.2732 - val_dense_19_loss: 0.0389 - val_dense_20_loss: 0.1480 - val_dense_21_loss: 0.3027 - val_dense_17_accuracy: 0.9682 - val_dense_18_accuracy: 0.9290 - val_dense_19_accuracy: 0.9980 - val_dense_20_accuracy: 0.9898 - val_dense_21_accuracy: 0.9553\n",
      "Epoch 12/40\n",
      "\n",
      "Epoch 00012: val_loss improved from 0.94785 to 0.94246, saving model to model/model-ALL-12.hdf5\n",
      "1019471/1019471 - 198s - loss: 0.9058 - dense_17_loss: 0.1726 - dense_18_loss: 0.2587 - dense_19_loss: 0.0389 - dense_20_loss: 0.1446 - dense_21_loss: 0.2910 - dense_17_accuracy: 0.9685 - dense_18_accuracy: 0.9299 - dense_19_accuracy: 0.9979 - dense_20_accuracy: 0.9896 - dense_21_accuracy: 0.9590 - val_loss: 0.9425 - val_dense_17_loss: 0.1810 - val_dense_18_loss: 0.2727 - val_dense_19_loss: 0.0388 - val_dense_20_loss: 0.1472 - val_dense_21_loss: 0.3028 - val_dense_17_accuracy: 0.9698 - val_dense_18_accuracy: 0.9319 - val_dense_19_accuracy: 0.9980 - val_dense_20_accuracy: 0.9902 - val_dense_21_accuracy: 0.9633\n",
      "Epoch 13/40\n",
      "\n",
      "Epoch 00013: val_loss improved from 0.94246 to 0.92658, saving model to model/model-ALL-13.hdf5\n",
      "1019471/1019471 - 198s - loss: 0.8879 - dense_17_loss: 0.1671 - dense_18_loss: 0.2550 - dense_19_loss: 0.0388 - dense_20_loss: 0.1412 - dense_21_loss: 0.2858 - dense_17_accuracy: 0.9695 - dense_18_accuracy: 0.9313 - dense_19_accuracy: 0.9979 - dense_20_accuracy: 0.9895 - dense_21_accuracy: 0.9591 - val_loss: 0.9266 - val_dense_17_loss: 0.1764 - val_dense_18_loss: 0.2719 - val_dense_19_loss: 0.0388 - val_dense_20_loss: 0.1432 - val_dense_21_loss: 0.2963 - val_dense_17_accuracy: 0.9702 - val_dense_18_accuracy: 0.9363 - val_dense_19_accuracy: 0.9980 - val_dense_20_accuracy: 0.9896 - val_dense_21_accuracy: 0.9541\n",
      "Epoch 14/40\n",
      "\n",
      "Epoch 00014: val_loss improved from 0.92658 to 0.92363, saving model to model/model-ALL-14.hdf5\n",
      "1019471/1019471 - 197s - loss: 0.8718 - dense_17_loss: 0.1622 - dense_18_loss: 0.2516 - dense_19_loss: 0.0386 - dense_20_loss: 0.1380 - dense_21_loss: 0.2814 - dense_17_accuracy: 0.9700 - dense_18_accuracy: 0.9326 - dense_19_accuracy: 0.9979 - dense_20_accuracy: 0.9896 - dense_21_accuracy: 0.9593 - val_loss: 0.9236 - val_dense_17_loss: 0.1748 - val_dense_18_loss: 0.2706 - val_dense_19_loss: 0.0391 - val_dense_20_loss: 0.1474 - val_dense_21_loss: 0.2918 - val_dense_17_accuracy: 0.9723 - val_dense_18_accuracy: 0.9356 - val_dense_19_accuracy: 0.9980 - val_dense_20_accuracy: 0.9869 - val_dense_21_accuracy: 0.9569\n",
      "Epoch 15/40\n",
      "\n",
      "Epoch 00015: val_loss improved from 0.92363 to 0.90271, saving model to model/model-ALL-15.hdf5\n",
      "1019471/1019471 - 198s - loss: 0.8552 - dense_17_loss: 0.1574 - dense_18_loss: 0.2477 - dense_19_loss: 0.0383 - dense_20_loss: 0.1347 - dense_21_loss: 0.2770 - dense_17_accuracy: 0.9706 - dense_18_accuracy: 0.9336 - dense_19_accuracy: 0.9979 - dense_20_accuracy: 0.9894 - dense_21_accuracy: 0.9597 - val_loss: 0.9027 - val_dense_17_loss: 0.1694 - val_dense_18_loss: 0.2647 - val_dense_19_loss: 0.0390 - val_dense_20_loss: 0.1406 - val_dense_21_loss: 0.2890 - val_dense_17_accuracy: 0.9710 - val_dense_18_accuracy: 0.9300 - val_dense_19_accuracy: 0.9980 - val_dense_20_accuracy: 0.9900 - val_dense_21_accuracy: 0.9632\n",
      "Epoch 16/40\n",
      "\n",
      "Epoch 00016: val_loss improved from 0.90271 to 0.89718, saving model to model/model-ALL-16.hdf5\n",
      "1019471/1019471 - 198s - loss: 0.8424 - dense_17_loss: 0.1539 - dense_18_loss: 0.2448 - dense_19_loss: 0.0383 - dense_20_loss: 0.1321 - dense_21_loss: 0.2732 - dense_17_accuracy: 0.9708 - dense_18_accuracy: 0.9343 - dense_19_accuracy: 0.9979 - dense_20_accuracy: 0.9894 - dense_21_accuracy: 0.9601 - val_loss: 0.8972 - val_dense_17_loss: 0.1685 - val_dense_18_loss: 0.2647 - val_dense_19_loss: 0.0392 - val_dense_20_loss: 0.1395 - val_dense_21_loss: 0.2853 - val_dense_17_accuracy: 0.9649 - val_dense_18_accuracy: 0.9261 - val_dense_19_accuracy: 0.9979 - val_dense_20_accuracy: 0.9895 - val_dense_21_accuracy: 0.9584\n",
      "Epoch 17/40\n",
      "\n",
      "Epoch 00017: val_loss improved from 0.89718 to 0.88778, saving model to model/model-ALL-17.hdf5\n",
      "1019471/1019471 - 198s - loss: 0.8294 - dense_17_loss: 0.1502 - dense_18_loss: 0.2417 - dense_19_loss: 0.0381 - dense_20_loss: 0.1293 - dense_21_loss: 0.2701 - dense_17_accuracy: 0.9712 - dense_18_accuracy: 0.9351 - dense_19_accuracy: 0.9979 - dense_20_accuracy: 0.9893 - dense_21_accuracy: 0.9604 - val_loss: 0.8878 - val_dense_17_loss: 0.1649 - val_dense_18_loss: 0.2616 - val_dense_19_loss: 0.0388 - val_dense_20_loss: 0.1391 - val_dense_21_loss: 0.2834 - val_dense_17_accuracy: 0.9714 - val_dense_18_accuracy: 0.9344 - val_dense_19_accuracy: 0.9979 - val_dense_20_accuracy: 0.9898 - val_dense_21_accuracy: 0.9616\n",
      "Epoch 18/40\n",
      "\n",
      "Epoch 00018: val_loss did not improve from 0.88778\n",
      "1019471/1019471 - 197s - loss: 0.8183 - dense_17_loss: 0.1472 - dense_18_loss: 0.2391 - dense_19_loss: 0.0377 - dense_20_loss: 0.1276 - dense_21_loss: 0.2667 - dense_17_accuracy: 0.9714 - dense_18_accuracy: 0.9357 - dense_19_accuracy: 0.9979 - dense_20_accuracy: 0.9892 - dense_21_accuracy: 0.9606 - val_loss: 0.8887 - val_dense_17_loss: 0.1626 - val_dense_18_loss: 0.2594 - val_dense_19_loss: 0.0400 - val_dense_20_loss: 0.1454 - val_dense_21_loss: 0.2812 - val_dense_17_accuracy: 0.9733 - val_dense_18_accuracy: 0.9351 - val_dense_19_accuracy: 0.9980 - val_dense_20_accuracy: 0.9907 - val_dense_21_accuracy: 0.9610\n",
      "Epoch 19/40\n",
      "\n",
      "Epoch 00019: val_loss improved from 0.88778 to 0.87847, saving model to model/model-ALL-19.hdf5\n",
      "1019471/1019471 - 198s - loss: 0.8083 - dense_17_loss: 0.1445 - dense_18_loss: 0.2363 - dense_19_loss: 0.0375 - dense_20_loss: 0.1252 - dense_21_loss: 0.2647 - dense_17_accuracy: 0.9716 - dense_18_accuracy: 0.9363 - dense_19_accuracy: 0.9979 - dense_20_accuracy: 0.9891 - dense_21_accuracy: 0.9606 - val_loss: 0.8785 - val_dense_17_loss: 0.1615 - val_dense_18_loss: 0.2587 - val_dense_19_loss: 0.0384 - val_dense_20_loss: 0.1356 - val_dense_21_loss: 0.2843 - val_dense_17_accuracy: 0.9685 - val_dense_18_accuracy: 0.9320 - val_dense_19_accuracy: 0.9979 - val_dense_20_accuracy: 0.9895 - val_dense_21_accuracy: 0.9650\n",
      "Epoch 20/40\n",
      "\n",
      "Epoch 00020: val_loss did not improve from 0.87847\n",
      "1019471/1019471 - 198s - loss: 0.7984 - dense_17_loss: 0.1418 - dense_18_loss: 0.2336 - dense_19_loss: 0.0371 - dense_20_loss: 0.1233 - dense_21_loss: 0.2626 - dense_17_accuracy: 0.9720 - dense_18_accuracy: 0.9367 - dense_19_accuracy: 0.9978 - dense_20_accuracy: 0.9891 - dense_21_accuracy: 0.9606 - val_loss: 0.8843 - val_dense_17_loss: 0.1627 - val_dense_18_loss: 0.2606 - val_dense_19_loss: 0.0384 - val_dense_20_loss: 0.1375 - val_dense_21_loss: 0.2852 - val_dense_17_accuracy: 0.9694 - val_dense_18_accuracy: 0.9337 - val_dense_19_accuracy: 0.9979 - val_dense_20_accuracy: 0.9900 - val_dense_21_accuracy: 0.9647\n",
      "Epoch 21/40\n",
      "\n",
      "Epoch 00021: val_loss improved from 0.87847 to 0.86654, saving model to model/model-ALL-21.hdf5\n",
      "1019471/1019471 - 198s - loss: 0.7899 - dense_17_loss: 0.1395 - dense_18_loss: 0.2314 - dense_19_loss: 0.0367 - dense_20_loss: 0.1216 - dense_21_loss: 0.2607 - dense_17_accuracy: 0.9721 - dense_18_accuracy: 0.9370 - dense_19_accuracy: 0.9978 - dense_20_accuracy: 0.9889 - dense_21_accuracy: 0.9607 - val_loss: 0.8665 - val_dense_17_loss: 0.1595 - val_dense_18_loss: 0.2562 - val_dense_19_loss: 0.0389 - val_dense_20_loss: 0.1343 - val_dense_21_loss: 0.2777 - val_dense_17_accuracy: 0.9675 - val_dense_18_accuracy: 0.9326 - val_dense_19_accuracy: 0.9978 - val_dense_20_accuracy: 0.9878 - val_dense_21_accuracy: 0.9567\n",
      "Epoch 22/40\n",
      "\n",
      "Epoch 00022: val_loss did not improve from 0.86654\n",
      "1019471/1019471 - 197s - loss: 0.7805 - dense_17_loss: 0.1372 - dense_18_loss: 0.2289 - dense_19_loss: 0.0365 - dense_20_loss: 0.1200 - dense_21_loss: 0.2580 - dense_17_accuracy: 0.9724 - dense_18_accuracy: 0.9377 - dense_19_accuracy: 0.9978 - dense_20_accuracy: 0.9889 - dense_21_accuracy: 0.9605 - val_loss: 0.8687 - val_dense_17_loss: 0.1624 - val_dense_18_loss: 0.2572 - val_dense_19_loss: 0.0380 - val_dense_20_loss: 0.1337 - val_dense_21_loss: 0.2774 - val_dense_17_accuracy: 0.9729 - val_dense_18_accuracy: 0.9356 - val_dense_19_accuracy: 0.9979 - val_dense_20_accuracy: 0.9883 - val_dense_21_accuracy: 0.9602\n",
      "Epoch 23/40\n",
      "\n",
      "Epoch 00023: val_loss did not improve from 0.86654\n",
      "1019471/1019471 - 198s - loss: 0.7726 - dense_17_loss: 0.1350 - dense_18_loss: 0.2264 - dense_19_loss: 0.0360 - dense_20_loss: 0.1187 - dense_21_loss: 0.2565 - dense_17_accuracy: 0.9727 - dense_18_accuracy: 0.9381 - dense_19_accuracy: 0.9978 - dense_20_accuracy: 0.9889 - dense_21_accuracy: 0.9605 - val_loss: 0.8719 - val_dense_17_loss: 0.1643 - val_dense_18_loss: 0.2601 - val_dense_19_loss: 0.0385 - val_dense_20_loss: 0.1323 - val_dense_21_loss: 0.2768 - val_dense_17_accuracy: 0.9755 - val_dense_18_accuracy: 0.9415 - val_dense_19_accuracy: 0.9979 - val_dense_20_accuracy: 0.9882 - val_dense_21_accuracy: 0.9543\n",
      "Epoch 24/40\n",
      "\n",
      "Epoch 00024: val_loss improved from 0.86654 to 0.86315, saving model to model/model-ALL-24.hdf5\n",
      "1019471/1019471 - 198s - loss: 0.7645 - dense_17_loss: 0.1329 - dense_18_loss: 0.2239 - dense_19_loss: 0.0357 - dense_20_loss: 0.1172 - dense_21_loss: 0.2547 - dense_17_accuracy: 0.9727 - dense_18_accuracy: 0.9388 - dense_19_accuracy: 0.9978 - dense_20_accuracy: 0.9888 - dense_21_accuracy: 0.9603 - val_loss: 0.8632 - val_dense_17_loss: 0.1581 - val_dense_18_loss: 0.2542 - val_dense_19_loss: 0.0380 - val_dense_20_loss: 0.1375 - val_dense_21_loss: 0.2755 - val_dense_17_accuracy: 0.9683 - val_dense_18_accuracy: 0.9310 - val_dense_19_accuracy: 0.9979 - val_dense_20_accuracy: 0.9903 - val_dense_21_accuracy: 0.9557\n",
      "Epoch 25/40\n",
      "\n",
      "Epoch 00025: val_loss improved from 0.86315 to 0.85892, saving model to model/model-ALL-25.hdf5\n",
      "1019471/1019471 - 197s - loss: 0.7567 - dense_17_loss: 0.1307 - dense_18_loss: 0.2215 - dense_19_loss: 0.0354 - dense_20_loss: 0.1163 - dense_21_loss: 0.2527 - dense_17_accuracy: 0.9731 - dense_18_accuracy: 0.9393 - dense_19_accuracy: 0.9978 - dense_20_accuracy: 0.9889 - dense_21_accuracy: 0.9605 - val_loss: 0.8589 - val_dense_17_loss: 0.1585 - val_dense_18_loss: 0.2540 - val_dense_19_loss: 0.0379 - val_dense_20_loss: 0.1335 - val_dense_21_loss: 0.2750 - val_dense_17_accuracy: 0.9701 - val_dense_18_accuracy: 0.9346 - val_dense_19_accuracy: 0.9979 - val_dense_20_accuracy: 0.9897 - val_dense_21_accuracy: 0.9591\n",
      "Epoch 26/40\n",
      "\n",
      "Epoch 00026: val_loss did not improve from 0.85892\n",
      "1019471/1019471 - 197s - loss: 0.7497 - dense_17_loss: 0.1291 - dense_18_loss: 0.2198 - dense_19_loss: 0.0350 - dense_20_loss: 0.1146 - dense_21_loss: 0.2512 - dense_17_accuracy: 0.9732 - dense_18_accuracy: 0.9396 - dense_19_accuracy: 0.9978 - dense_20_accuracy: 0.9888 - dense_21_accuracy: 0.9604 - val_loss: 0.8651 - val_dense_17_loss: 0.1596 - val_dense_18_loss: 0.2582 - val_dense_19_loss: 0.0384 - val_dense_20_loss: 0.1329 - val_dense_21_loss: 0.2761 - val_dense_17_accuracy: 0.9727 - val_dense_18_accuracy: 0.9407 - val_dense_19_accuracy: 0.9979 - val_dense_20_accuracy: 0.9897 - val_dense_21_accuracy: 0.9515\n",
      "Epoch 27/40\n",
      "\n",
      "Epoch 00027: val_loss did not improve from 0.85892\n",
      "1019471/1019471 - 198s - loss: 0.7419 - dense_17_loss: 0.1270 - dense_18_loss: 0.2173 - dense_19_loss: 0.0348 - dense_20_loss: 0.1135 - dense_21_loss: 0.2492 - dense_17_accuracy: 0.9734 - dense_18_accuracy: 0.9403 - dense_19_accuracy: 0.9978 - dense_20_accuracy: 0.9888 - dense_21_accuracy: 0.9602 - val_loss: 0.8672 - val_dense_17_loss: 0.1641 - val_dense_18_loss: 0.2568 - val_dense_19_loss: 0.0380 - val_dense_20_loss: 0.1322 - val_dense_21_loss: 0.2762 - val_dense_17_accuracy: 0.9757 - val_dense_18_accuracy: 0.9411 - val_dense_19_accuracy: 0.9979 - val_dense_20_accuracy: 0.9888 - val_dense_21_accuracy: 0.9604\n",
      "Epoch 28/40\n",
      "\n",
      "Epoch 00028: val_loss improved from 0.85892 to 0.85492, saving model to model/model-ALL-28.hdf5\n",
      "1019471/1019471 - 198s - loss: 0.7343 - dense_17_loss: 0.1249 - dense_18_loss: 0.2149 - dense_19_loss: 0.0346 - dense_20_loss: 0.1124 - dense_21_loss: 0.2475 - dense_17_accuracy: 0.9738 - dense_18_accuracy: 0.9410 - dense_19_accuracy: 0.9978 - dense_20_accuracy: 0.9888 - dense_21_accuracy: 0.9602 - val_loss: 0.8549 - val_dense_17_loss: 0.1572 - val_dense_18_loss: 0.2543 - val_dense_19_loss: 0.0378 - val_dense_20_loss: 0.1311 - val_dense_21_loss: 0.2744 - val_dense_17_accuracy: 0.9699 - val_dense_18_accuracy: 0.9385 - val_dense_19_accuracy: 0.9978 - val_dense_20_accuracy: 0.9883 - val_dense_21_accuracy: 0.9574\n",
      "Epoch 29/40\n",
      "\n",
      "Epoch 00029: val_loss improved from 0.85492 to 0.85382, saving model to model/model-ALL-29.hdf5\n",
      "1019471/1019471 - 197s - loss: 0.7272 - dense_17_loss: 0.1229 - dense_18_loss: 0.2128 - dense_19_loss: 0.0342 - dense_20_loss: 0.1113 - dense_21_loss: 0.2460 - dense_17_accuracy: 0.9740 - dense_18_accuracy: 0.9414 - dense_19_accuracy: 0.9978 - dense_20_accuracy: 0.9888 - dense_21_accuracy: 0.9602 - val_loss: 0.8538 - val_dense_17_loss: 0.1585 - val_dense_18_loss: 0.2532 - val_dense_19_loss: 0.0380 - val_dense_20_loss: 0.1312 - val_dense_21_loss: 0.2730 - val_dense_17_accuracy: 0.9727 - val_dense_18_accuracy: 0.9380 - val_dense_19_accuracy: 0.9978 - val_dense_20_accuracy: 0.9871 - val_dense_21_accuracy: 0.9560\n",
      "Epoch 30/40\n",
      "\n",
      "Epoch 00030: val_loss did not improve from 0.85382\n",
      "1019471/1019471 - 198s - loss: 0.7198 - dense_17_loss: 0.1213 - dense_18_loss: 0.2104 - dense_19_loss: 0.0338 - dense_20_loss: 0.1101 - dense_21_loss: 0.2441 - dense_17_accuracy: 0.9742 - dense_18_accuracy: 0.9419 - dense_19_accuracy: 0.9978 - dense_20_accuracy: 0.9887 - dense_21_accuracy: 0.9602 - val_loss: 0.8654 - val_dense_17_loss: 0.1621 - val_dense_18_loss: 0.2552 - val_dense_19_loss: 0.0382 - val_dense_20_loss: 0.1361 - val_dense_21_loss: 0.2739 - val_dense_17_accuracy: 0.9740 - val_dense_18_accuracy: 0.9400 - val_dense_19_accuracy: 0.9978 - val_dense_20_accuracy: 0.9899 - val_dense_21_accuracy: 0.9549\n",
      "Epoch 31/40\n",
      "\n",
      "Epoch 00031: val_loss improved from 0.85382 to 0.85216, saving model to model/model-ALL-31.hdf5\n",
      "1019471/1019471 - 198s - loss: 0.7121 - dense_17_loss: 0.1189 - dense_18_loss: 0.2078 - dense_19_loss: 0.0338 - dense_20_loss: 0.1091 - dense_21_loss: 0.2425 - dense_17_accuracy: 0.9746 - dense_18_accuracy: 0.9426 - dense_19_accuracy: 0.9978 - dense_20_accuracy: 0.9888 - dense_21_accuracy: 0.9602 - val_loss: 0.8522 - val_dense_17_loss: 0.1580 - val_dense_18_loss: 0.2529 - val_dense_19_loss: 0.0378 - val_dense_20_loss: 0.1307 - val_dense_21_loss: 0.2727 - val_dense_17_accuracy: 0.9696 - val_dense_18_accuracy: 0.9356 - val_dense_19_accuracy: 0.9977 - val_dense_20_accuracy: 0.9870 - val_dense_21_accuracy: 0.9575\n",
      "Epoch 32/40\n",
      "\n",
      "Epoch 00032: val_loss did not improve from 0.85216\n",
      "1019471/1019471 - 197s - loss: 0.7052 - dense_17_loss: 0.1172 - dense_18_loss: 0.2056 - dense_19_loss: 0.0334 - dense_20_loss: 0.1082 - dense_21_loss: 0.2407 - dense_17_accuracy: 0.9748 - dense_18_accuracy: 0.9432 - dense_19_accuracy: 0.9977 - dense_20_accuracy: 0.9887 - dense_21_accuracy: 0.9603 - val_loss: 0.8593 - val_dense_17_loss: 0.1582 - val_dense_18_loss: 0.2531 - val_dense_19_loss: 0.0383 - val_dense_20_loss: 0.1352 - val_dense_21_loss: 0.2745 - val_dense_17_accuracy: 0.9704 - val_dense_18_accuracy: 0.9370 - val_dense_19_accuracy: 0.9977 - val_dense_20_accuracy: 0.9837 - val_dense_21_accuracy: 0.9604\n",
      "Epoch 33/40\n",
      "\n",
      "Epoch 00033: val_loss improved from 0.85216 to 0.85108, saving model to model/model-ALL-33.hdf5\n",
      "1019471/1019471 - 198s - loss: 0.6977 - dense_17_loss: 0.1152 - dense_18_loss: 0.2035 - dense_19_loss: 0.0331 - dense_20_loss: 0.1069 - dense_21_loss: 0.2390 - dense_17_accuracy: 0.9750 - dense_18_accuracy: 0.9438 - dense_19_accuracy: 0.9977 - dense_20_accuracy: 0.9887 - dense_21_accuracy: 0.9600 - val_loss: 0.8511 - val_dense_17_loss: 0.1569 - val_dense_18_loss: 0.2515 - val_dense_19_loss: 0.0376 - val_dense_20_loss: 0.1312 - val_dense_21_loss: 0.2739 - val_dense_17_accuracy: 0.9687 - val_dense_18_accuracy: 0.9364 - val_dense_19_accuracy: 0.9977 - val_dense_20_accuracy: 0.9874 - val_dense_21_accuracy: 0.9592\n",
      "Epoch 34/40\n",
      "\n",
      "Epoch 00034: val_loss did not improve from 0.85108\n",
      "1019471/1019471 - 198s - loss: 0.6907 - dense_17_loss: 0.1134 - dense_18_loss: 0.2010 - dense_19_loss: 0.0326 - dense_20_loss: 0.1061 - dense_21_loss: 0.2377 - dense_17_accuracy: 0.9753 - dense_18_accuracy: 0.9444 - dense_19_accuracy: 0.9977 - dense_20_accuracy: 0.9886 - dense_21_accuracy: 0.9602 - val_loss: 0.8713 - val_dense_17_loss: 0.1682 - val_dense_18_loss: 0.2619 - val_dense_19_loss: 0.0381 - val_dense_20_loss: 0.1307 - val_dense_21_loss: 0.2724 - val_dense_17_accuracy: 0.9765 - val_dense_18_accuracy: 0.9459 - val_dense_19_accuracy: 0.9979 - val_dense_20_accuracy: 0.9886 - val_dense_21_accuracy: 0.9576\n",
      "Epoch 35/40\n",
      "\n",
      "Epoch 00035: val_loss did not improve from 0.85108\n",
      "1019471/1019471 - 197s - loss: 0.6836 - dense_17_loss: 0.1114 - dense_18_loss: 0.1989 - dense_19_loss: 0.0325 - dense_20_loss: 0.1054 - dense_21_loss: 0.2354 - dense_17_accuracy: 0.9755 - dense_18_accuracy: 0.9449 - dense_19_accuracy: 0.9977 - dense_20_accuracy: 0.9887 - dense_21_accuracy: 0.9600 - val_loss: 0.8558 - val_dense_17_loss: 0.1587 - val_dense_18_loss: 0.2525 - val_dense_19_loss: 0.0378 - val_dense_20_loss: 0.1323 - val_dense_21_loss: 0.2744 - val_dense_17_accuracy: 0.9696 - val_dense_18_accuracy: 0.9337 - val_dense_19_accuracy: 0.9978 - val_dense_20_accuracy: 0.9877 - val_dense_21_accuracy: 0.9595\n",
      "Epoch 36/40\n",
      "\n",
      "Epoch 00036: val_loss did not improve from 0.85108\n",
      "1019471/1019471 - 198s - loss: 0.6767 - dense_17_loss: 0.1098 - dense_18_loss: 0.1965 - dense_19_loss: 0.0321 - dense_20_loss: 0.1038 - dense_21_loss: 0.2345 - dense_17_accuracy: 0.9758 - dense_18_accuracy: 0.9456 - dense_19_accuracy: 0.9977 - dense_20_accuracy: 0.9887 - dense_21_accuracy: 0.9603 - val_loss: 0.8723 - val_dense_17_loss: 0.1646 - val_dense_18_loss: 0.2604 - val_dense_19_loss: 0.0385 - val_dense_20_loss: 0.1326 - val_dense_21_loss: 0.2762 - val_dense_17_accuracy: 0.9732 - val_dense_18_accuracy: 0.9406 - val_dense_19_accuracy: 0.9978 - val_dense_20_accuracy: 0.9879 - val_dense_21_accuracy: 0.9597\n",
      "Epoch 37/40\n",
      "\n",
      "Epoch 00037: val_loss did not improve from 0.85108\n",
      "1019471/1019471 - 197s - loss: 0.6692 - dense_17_loss: 0.1074 - dense_18_loss: 0.1943 - dense_19_loss: 0.0318 - dense_20_loss: 0.1031 - dense_21_loss: 0.2325 - dense_17_accuracy: 0.9762 - dense_18_accuracy: 0.9460 - dense_19_accuracy: 0.9977 - dense_20_accuracy: 0.9887 - dense_21_accuracy: 0.9602 - val_loss: 0.8646 - val_dense_17_loss: 0.1622 - val_dense_18_loss: 0.2582 - val_dense_19_loss: 0.0379 - val_dense_20_loss: 0.1314 - val_dense_21_loss: 0.2750 - val_dense_17_accuracy: 0.9713 - val_dense_18_accuracy: 0.9379 - val_dense_19_accuracy: 0.9977 - val_dense_20_accuracy: 0.9876 - val_dense_21_accuracy: 0.9521\n",
      "Epoch 38/40\n",
      "\n",
      "Epoch 00038: val_loss did not improve from 0.85108\n",
      "1019471/1019471 - 198s - loss: 0.6619 - dense_17_loss: 0.1058 - dense_18_loss: 0.1920 - dense_19_loss: 0.0312 - dense_20_loss: 0.1021 - dense_21_loss: 0.2307 - dense_17_accuracy: 0.9766 - dense_18_accuracy: 0.9467 - dense_19_accuracy: 0.9976 - dense_20_accuracy: 0.9886 - dense_21_accuracy: 0.9602 - val_loss: 0.8795 - val_dense_17_loss: 0.1702 - val_dense_18_loss: 0.2631 - val_dense_19_loss: 0.0385 - val_dense_20_loss: 0.1307 - val_dense_21_loss: 0.2770 - val_dense_17_accuracy: 0.9757 - val_dense_18_accuracy: 0.9436 - val_dense_19_accuracy: 0.9977 - val_dense_20_accuracy: 0.9884 - val_dense_21_accuracy: 0.9575\n",
      "Epoch 39/40\n",
      "\n",
      "Epoch 00039: val_loss did not improve from 0.85108\n",
      "1019471/1019471 - 198s - loss: 0.6541 - dense_17_loss: 0.1038 - dense_18_loss: 0.1897 - dense_19_loss: 0.0312 - dense_20_loss: 0.1006 - dense_21_loss: 0.2287 - dense_17_accuracy: 0.9768 - dense_18_accuracy: 0.9471 - dense_19_accuracy: 0.9976 - dense_20_accuracy: 0.9887 - dense_21_accuracy: 0.9602 - val_loss: 0.8649 - val_dense_17_loss: 0.1615 - val_dense_18_loss: 0.2568 - val_dense_19_loss: 0.0379 - val_dense_20_loss: 0.1331 - val_dense_21_loss: 0.2756 - val_dense_17_accuracy: 0.9681 - val_dense_18_accuracy: 0.9318 - val_dense_19_accuracy: 0.9976 - val_dense_20_accuracy: 0.9878 - val_dense_21_accuracy: 0.9518\n",
      "Epoch 40/40\n",
      "\n",
      "Epoch 00040: val_loss did not improve from 0.85108\n",
      "1019471/1019471 - 198s - loss: 0.6467 - dense_17_loss: 0.1016 - dense_18_loss: 0.1872 - dense_19_loss: 0.0307 - dense_20_loss: 0.1003 - dense_21_loss: 0.2269 - dense_17_accuracy: 0.9772 - dense_18_accuracy: 0.9479 - dense_19_accuracy: 0.9976 - dense_20_accuracy: 0.9887 - dense_21_accuracy: 0.9604 - val_loss: 0.8682 - val_dense_17_loss: 0.1618 - val_dense_18_loss: 0.2575 - val_dense_19_loss: 0.0379 - val_dense_20_loss: 0.1350 - val_dense_21_loss: 0.2760 - val_dense_17_accuracy: 0.9688 - val_dense_18_accuracy: 0.9370 - val_dense_19_accuracy: 0.9976 - val_dense_20_accuracy: 0.9893 - val_dense_21_accuracy: 0.9506\n"
     ]
    }
   ],
   "source": [
    "class_weights = [{0: 1., 1: 5.},{0: 1., 1: 5.},{0: 1., 1: 5.},{0: 1., 1: 5.},{0: 1., 1: 5.}]\n",
    "\n",
    "history = model.fit(x = x_train,\n",
    "          y = [y_train[0], y_train[1], y_train[2], y_train[3], y_train[4]],\n",
    "          validation_data = (x_validate, [y_validate[0], y_validate[1], y_validate[2], y_validate[3], y_validate[4]]),\n",
    "          epochs = 40,\n",
    "          batch_size = 128,\n",
    "          verbose =2,\n",
    "          class_weight= class_weights,\n",
    "          callbacks=[mcp,tbCallback])\n",
    "\n",
    "with open('history/History-ALL-40EP-CNN', 'wb') as file_pi:\n",
    "    pickle.dump(history.history, file_pi)"
   ]
  },
  {
   "cell_type": "markdown",
   "metadata": {},
   "source": [
    "### Model Evaluation using Testing Set"
   ]
  },
  {
   "cell_type": "code",
   "execution_count": 25,
   "metadata": {},
   "outputs": [],
   "source": [
    "# Load model\n",
    "model = tf.keras.models.load_model(\"model/model-ALL-31.hdf5\")"
   ]
  },
  {
   "cell_type": "code",
   "execution_count": 128,
   "metadata": {},
   "outputs": [
    {
     "name": "stderr",
     "output_type": "stream",
     "text": [
      "IOPub data rate exceeded.\n",
      "The notebook server will temporarily stop sending output\n",
      "to the client in order to avoid crashing it.\n",
      "To change this limit, set the config variable\n",
      "`--NotebookApp.iopub_data_rate_limit`.\n",
      "\n",
      "Current values:\n",
      "NotebookApp.iopub_data_rate_limit=1000000.0 (bytes/sec)\n",
      "NotebookApp.rate_limit_window=3.0 (secs)\n",
      "\n"
     ]
    },
    {
     "name": "stdout",
     "output_type": "stream",
     "text": [
      "loss: 0.6153901273691805\n",
      "dense_2_loss: 0.13200821\n",
      "dense_3_loss: 0.19983554\n",
      "dense_4_loss: 0.032241087\n",
      "dense_5_loss: 0.08332161\n",
      "dense_6_loss: 0.1679906\n",
      "dense_2_accuracy: 0.9807564\n",
      "dense_3_accuracy: 0.96161485\n",
      "dense_4_accuracy: 0.99781823\n",
      "dense_5_accuracy: 0.99064505\n",
      "dense_6_accuracy: 0.97261006\n"
     ]
    }
   ],
   "source": [
    "results = model.evaluate(x_test, y_test, batch_size=128)\n",
    "for num in range(0,len(model.metrics_names)):\n",
    "    print(model.metrics_names[num]+': '+str(results[num]))"
   ]
  },
  {
   "cell_type": "markdown",
   "metadata": {},
   "source": [
    "### Check The Evaluation Metrics"
   ]
  },
  {
   "cell_type": "code",
   "execution_count": 28,
   "metadata": {},
   "outputs": [],
   "source": [
    "predicted = model.predict(x_test)"
   ]
  },
  {
   "cell_type": "code",
   "execution_count": null,
   "metadata": {},
   "outputs": [],
   "source": [
    "pred_test = [[],[],[],[],[]]\n",
    "\n",
    "for col in range(0,len(predicted)):\n",
    "    for row in predicted[col]:\n",
    "        if row[0] >= row[1]:\n",
    "            pred_test[col].append(0)\n",
    "        else:\n",
    "            pred_test[col].append(1)\n",
    "            \n",
    "for col in range(0,len(predicted)):\n",
    "    print(pd.value_counts(pred_test[col]))"
   ]
  },
  {
   "cell_type": "markdown",
   "metadata": {},
   "source": [
    "### Evaluate on the testing set"
   ]
  },
  {
   "cell_type": "code",
   "execution_count": 97,
   "metadata": {},
   "outputs": [
    {
     "name": "stdout",
     "output_type": "stream",
     "text": [
      "\n",
      "This is evaluation for column 1\n",
      "[[121949   3018]\n",
      " [   779   1673]]\n",
      "\n",
      "TP: 1673\n",
      "FP: 3018\n",
      "TN: 121949\n",
      "FN: 779\n",
      "\n",
      "Accuracy: 0.9702006765082131\n",
      "Precision: 0.3566403751865274\n",
      "Recall: 0.682300163132137\n",
      "F-measure: 0.46843063138737223\n",
      "Precision-Recall AUC: 0.3864869549314679\n",
      "AUC: 0.9452323096821215\n",
      "MCC: 0.4801512959877963\n",
      "\n",
      "This is evaluation for column 2\n",
      "[[115497   7031]\n",
      " [  1029   3862]]\n",
      "\n",
      "TP: 3862\n",
      "FP: 7031\n",
      "TN: 115497\n",
      "FN: 1029\n",
      "\n",
      "Accuracy: 0.9367441276418744\n",
      "Precision: 0.35453961259524464\n",
      "Recall: 0.7896135759558373\n",
      "F-measure: 0.48935631018753173\n",
      "Precision-Recall AUC: 0.4154790926728632\n",
      "AUC: 0.939386866918996\n",
      "MCC: 0.5031289528185057\n",
      "\n",
      "This is evaluation for column 3\n",
      "[[127104     37]\n",
      " [   267     11]]\n",
      "\n",
      "TP: 11\n",
      "FP: 37\n",
      "TN: 127104\n",
      "FN: 267\n",
      "\n",
      "Accuracy: 0.9976141705711079\n",
      "Precision: 0.22916666666666666\n",
      "Recall: 0.039568345323741004\n",
      "F-measure: 0.06748466257668712\n",
      "Precision-Recall AUC: 0.05998085827581194\n",
      "AUC: 0.9390521026364034\n",
      "MCC: 0.0944389755422792\n",
      "\n",
      "This is evaluation for column 4\n",
      "[[125344    883]\n",
      " [   749    443]]\n",
      "\n",
      "TP: 443\n",
      "FP: 883\n",
      "TN: 125344\n",
      "FN: 749\n",
      "\n",
      "Accuracy: 0.9871918630659478\n",
      "Precision: 0.33408748114630465\n",
      "Recall: 0.3716442953020134\n",
      "F-measure: 0.35186656076250994\n",
      "Precision-Recall AUC: 0.2860876411310055\n",
      "AUC: 0.8731800525238885\n",
      "MCC: 0.3459170656353217\n",
      "\n",
      "This is evaluation for column 5\n",
      "[[120381   3548]\n",
      " [  1853   1637]]\n",
      "\n",
      "TP: 1637\n",
      "FP: 3548\n",
      "TN: 120381\n",
      "FN: 1853\n",
      "\n",
      "Accuracy: 0.9576122870215588\n",
      "Precision: 0.315718418514947\n",
      "Recall: 0.46905444126074497\n",
      "F-measure: 0.37740634005763685\n",
      "Precision-Recall AUC: 0.2912473936684399\n",
      "AUC: 0.886174992608879\n",
      "MCC: 0.3638320054463654\n"
     ]
    }
   ],
   "source": [
    "\n",
    "for col in range(1,6):\n",
    "    print('\\nThis is evaluation for column',col)\n",
    "    confusion = sklearn.metrics.confusion_matrix(y_true=test.iloc[:,col].to_numpy(), y_pred=pred_test[col-1])\n",
    "    print(confusion)\n",
    "    tn, fp, fn, tp = confusion.ravel()\n",
    "    print('\\nTP:',tp)\n",
    "    print('FP:',fp)\n",
    "    print('TN:',tn)\n",
    "    print('FN:',fn)\n",
    "\n",
    "    ## Performance measure\n",
    "    print('\\nAccuracy: '+ str(sklearn.metrics.accuracy_score(y_true=test.iloc[:,col].to_numpy(), y_pred=pred_test[col-1])))\n",
    "    print('Precision: '+ str(sklearn.metrics.precision_score(y_true=test.iloc[:,col].to_numpy(), y_pred=pred_test[col-1])))\n",
    "    print('Recall: '+ str(sklearn.metrics.recall_score(y_true=test.iloc[:,col].to_numpy(), y_pred=pred_test[col-1])))\n",
    "    print('F-measure: '+ str(sklearn.metrics.f1_score(y_true=test.iloc[:,col].to_numpy(), y_pred=pred_test[col-1])))\n",
    "    print('Precision-Recall AUC: '+ str(sklearn.metrics.average_precision_score(y_true=test.iloc[:,col].to_numpy(), y_score=predicted[col-1][:,1])))\n",
    "    print('AUC: '+ str(sklearn.metrics.roc_auc_score(y_true=test.iloc[:,col].to_numpy(), y_score=predicted[col-1][:,1])))\n",
    "    print('MCC: '+ str(sklearn.metrics.matthews_corrcoef(y_true=test.iloc[:,col].to_numpy(), y_pred=pred_test[col-1])))"
   ]
  },
  {
   "cell_type": "markdown",
   "metadata": {},
   "source": [
    "### Plot The Model's Training History"
   ]
  },
  {
   "cell_type": "code",
   "execution_count": 98,
   "metadata": {},
   "outputs": [
    {
     "data": {
      "text/plain": [
       "<matplotlib.legend.Legend at 0x1efdcda0d30>"
      ]
     },
     "execution_count": 98,
     "metadata": {},
     "output_type": "execute_result"
    },
    {
     "data": {
      "image/png": "[encoded data removed]",
      "text/plain": [
       "<Figure size 1440x1080 with 4 Axes>"
      ]
     },
     "metadata": {
      "needs_background": "light"
     },
     "output_type": "display_data"
    }
   ],
   "source": [
    "epochs_range = range(len(history.history[model.metrics_names[1]]))\n",
    "\n",
    "fig, axs = plt.subplots(2, 2, figsize=(20,15))\n",
    "fig.suptitle('CNN with 10 Epochs')\n",
    "\n",
    "axs[0,0].plot(epochs_range, history.history['val_%s'%(model.metrics_names[6])], 'b', label='CWE-119', color='green')\n",
    "axs[0,0].plot(epochs_range, history.history['val_%s'%(model.metrics_names[7])], 'b', label='CWE-120', color='blue')\n",
    "axs[0,0].plot(epochs_range, history.history['val_%s'%(model.metrics_names[8])], 'b', label='CWE-469', color='red')\n",
    "axs[0,0].plot(epochs_range, history.history['val_%s'%(model.metrics_names[9])], 'b', label='CWE-479', color='purple')\n",
    "axs[0,0].plot(epochs_range, history.history['val_%s'%(model.metrics_names[10])], 'b', label='CWE-Other', color='orange')\n",
    "axs[0,0].set_title('Training accuracy')\n",
    "axs[0,0].legend()\n",
    "\n",
    "\n",
    "axs[0,1].plot(epochs_range, history.history['val_%s'%(model.metrics_names[1])], 'b', label='CWE-119', color='green')\n",
    "axs[0,1].plot(epochs_range, history.history['val_%s'%(model.metrics_names[2])], 'b', label='CWE-120', color='blue')\n",
    "axs[0,1].plot(epochs_range, history.history['val_%s'%(model.metrics_names[3])], 'b', label='CWE-469', color='red')\n",
    "axs[0,1].plot(epochs_range, history.history['val_%s'%(model.metrics_names[4])], 'b', label='CWE-479', color='purple')\n",
    "axs[0,1].plot(epochs_range, history.history['val_%s'%(model.metrics_names[5])], 'b', label='CWE-Other', color='orange')\n",
    "axs[0,1].set_title('Training Loss')\n",
    "axs[0,1].legend()\n",
    "\n",
    "axs[1,0].plot(epochs_range, history.history[model.metrics_names[6]], 'b', label='CWE-119', color='green')\n",
    "axs[1,0].plot(epochs_range, history.history[model.metrics_names[7]], 'b', label='CWE-120', color='blue')\n",
    "axs[1,0].plot(epochs_range, history.history[model.metrics_names[8]], 'b', label='CWE-469', color='red')\n",
    "axs[1,0].plot(epochs_range, history.history[model.metrics_names[9]], 'b', label='CWE-479', color='purple')\n",
    "axs[1,0].plot(epochs_range, history.history[model.metrics_names[10]], 'b', label='CWE-Other', color='orange')\n",
    "axs[1,0].set_title('Validation accuracy')\n",
    "axs[1,0].legend()\n",
    "\n",
    "\n",
    "axs[1,1].plot(epochs_range, history.history[model.metrics_names[1]], 'b', label='CWE-119', color='green')\n",
    "axs[1,1].plot(epochs_range, history.history[model.metrics_names[2]], 'b', label='CWE-120', color='blue')\n",
    "axs[1,1].plot(epochs_range, history.history[model.metrics_names[3]], 'b', label='CWE-469', color='red')\n",
    "axs[1,1].plot(epochs_range, history.history[model.metrics_names[4]], 'b', label='CWE-479', color='purple')\n",
    "axs[1,1].plot(epochs_range, history.history[model.metrics_names[5]], 'b', label='CWE-Other', color='orange')\n",
    "axs[1,1].set_title('Validation Loss')\n",
    "axs[1,1].legend()\n",
    "\n"
   ]
  },
  {
   "cell_type": "code",
   "execution_count": null,
   "metadata": {},
   "outputs": [],
   "source": []
  }
 ],
 "metadata": {
  "kernelspec": {
   "display_name": "Python 3",
   "language": "python",
   "name": "python3"
  },
  "language_info": {
   "codemirror_mode": {
    "name": "ipython",
    "version": 3
   },
   "file_extension": ".py",
   "mimetype": "text/x-python",
   "name": "python",
   "nbconvert_exporter": "python",
   "pygments_lexer": "ipython3",
   "version": "3.6.9"
  }
 },
 "nbformat": 4,
 "nbformat_minor": 4
}
