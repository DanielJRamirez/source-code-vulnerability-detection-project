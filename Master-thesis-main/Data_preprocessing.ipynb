{
 "cells": [
  {
   "cell_type": "markdown",
   "metadata": {},
   "source": [
    "This notebook contains all steps realated to data preprocessing.\n",
    "Two configurations are applied to build up balanced dataset:\n",
    "1) Per-vulnerability models\n",
    "2) Combining all vulnerability types in one class\n"
   ]
  },
  {
   "cell_type": "code",
   "execution_count": 3,
   "metadata": {},
   "outputs": [],
   "source": [
    "import h5py\n",
    "import pandas as pd\n",
    "import numpy as np\n",
    "import matplotlib.pyplot as plt\n",
    "import seaborn as sns"
   ]
  },
  {
   "cell_type": "markdown",
   "metadata": {},
   "source": [
    "First download the Draper dataset from : https://osf.io/d45bw/ to the './Dataset' directory.\n",
    "\n",
    "Then uploading the 'Draper VDISC dataset, which contains train, validate and test subsets."
   ]
  },
  {
   "cell_type": "code",
   "execution_count": 4,
   "metadata": {},
   "outputs": [
    {
     "name": "stderr",
     "output_type": "stream",
     "text": [
      "<ipython-input-4-f47f9fd913a9>:1: H5pyDeprecationWarning: The default file mode will change to 'r' (read-only) in h5py 3.0. To suppress this warning, pass the mode you need to h5py.File(), or set the global default h5.get_config().default_file_mode, or set the environment variable H5PY_DEFAULT_READONLY=1. Available modes are: 'r', 'r+', 'w', 'w-'/'x', 'a'. See the docs for details.\n",
      "  vdisc_train = h5py.File('./Dataset/VDISC_train.hdf5')\n",
      "<ipython-input-4-f47f9fd913a9>:2: H5pyDeprecationWarning: The default file mode will change to 'r' (read-only) in h5py 3.0. To suppress this warning, pass the mode you need to h5py.File(), or set the global default h5.get_config().default_file_mode, or set the environment variable H5PY_DEFAULT_READONLY=1. Available modes are: 'r', 'r+', 'w', 'w-'/'x', 'a'. See the docs for details.\n",
      "  vdisc_validate = h5py.File('./Dataset/VDISC_validate.hdf5')\n",
      "<ipython-input-4-f47f9fd913a9>:3: H5pyDeprecationWarning: The default file mode will change to 'r' (read-only) in h5py 3.0. To suppress this warning, pass the mode you need to h5py.File(), or set the global default h5.get_config().default_file_mode, or set the environment variable H5PY_DEFAULT_READONLY=1. Available modes are: 'r', 'r+', 'w', 'w-'/'x', 'a'. See the docs for details.\n",
      "  vdisc_test = h5py.File('./Dataset/VDISC_test.hdf5')\n"
     ]
    }
   ],
   "source": [
    "vdisc_train = h5py.File('./Dataset/VDISC_train.hdf5')\n",
    "vdisc_validate = h5py.File('./Dataset/VDISC_validate.hdf5')\n",
    "vdisc_test = h5py.File('./Dataset/VDISC_test.hdf5')"
   ]
  },
  {
   "cell_type": "markdown",
   "metadata": {},
   "source": [
    "Converting to Pandas"
   ]
  },
  {
   "cell_type": "code",
   "execution_count": 5,
   "metadata": {},
   "outputs": [],
   "source": [
    "def convert_to_pandas(vdisc_h5py):\n",
    "    data_frame = {\n",
    "        'code': vdisc_h5py['functionSource'],\n",
    "        'CWE-119': vdisc_h5py['CWE-119'],\n",
    "        'CWE-120': vdisc_h5py['CWE-120'],\n",
    "        'CWE-469': vdisc_h5py['CWE-469'],\n",
    "        'CWE-476': vdisc_h5py['CWE-476'],\n",
    "        'CWE-OTHERS': vdisc_h5py['CWE-other'],\n",
    "    }\n",
    "    return pd.DataFrame(data=data_frame)"
   ]
  },
  {
   "cell_type": "code",
   "execution_count": 6,
   "metadata": {},
   "outputs": [],
   "source": [
    "vdisc_train_pandas = convert_to_pandas(vdisc_train)\n",
    "vdisc_test_pandas = convert_to_pandas(vdisc_test)\n",
    "vdisc_validate_pandas = convert_to_pandas(vdisc_validate)"
   ]
  },
  {
   "cell_type": "markdown",
   "metadata": {},
   "source": [
    "Explor the dataset"
   ]
  },
  {
   "cell_type": "code",
   "execution_count": 7,
   "metadata": {},
   "outputs": [
    {
     "data": {
      "text/html": [
       "<div>\n",
       "<style scoped>\n",
       "    .dataframe tbody tr th:only-of-type {\n",
       "        vertical-align: middle;\n",
       "    }\n",
       "\n",
       "    .dataframe tbody tr th {\n",
       "        vertical-align: top;\n",
       "    }\n",
       "\n",
       "    .dataframe thead th {\n",
       "        text-align: right;\n",
       "    }\n",
       "</style>\n",
       "<table border=\"1\" class=\"dataframe\">\n",
       "  <thead>\n",
       "    <tr style=\"text-align: right;\">\n",
       "      <th></th>\n",
       "      <th>code</th>\n",
       "      <th>CWE-119</th>\n",
       "      <th>CWE-120</th>\n",
       "      <th>CWE-469</th>\n",
       "      <th>CWE-476</th>\n",
       "      <th>CWE-OTHERS</th>\n",
       "    </tr>\n",
       "  </thead>\n",
       "  <tbody>\n",
       "    <tr>\n",
       "      <th>0</th>\n",
       "      <td>clear_area(int startx, int starty, int xsize, ...</td>\n",
       "      <td>False</td>\n",
       "      <td>False</td>\n",
       "      <td>False</td>\n",
       "      <td>False</td>\n",
       "      <td>False</td>\n",
       "    </tr>\n",
       "    <tr>\n",
       "      <th>1</th>\n",
       "      <td>ReconstructDuList(Statement* head)\\n{\\n    Sta...</td>\n",
       "      <td>False</td>\n",
       "      <td>False</td>\n",
       "      <td>False</td>\n",
       "      <td>False</td>\n",
       "      <td>False</td>\n",
       "    </tr>\n",
       "    <tr>\n",
       "      <th>2</th>\n",
       "      <td>free_speaker(void)\\n{\\n   if(Lengths)\\n       ...</td>\n",
       "      <td>False</td>\n",
       "      <td>False</td>\n",
       "      <td>False</td>\n",
       "      <td>False</td>\n",
       "      <td>False</td>\n",
       "    </tr>\n",
       "    <tr>\n",
       "      <th>3</th>\n",
       "      <td>mlx4_register_device(struct mlx4_dev *dev)\\n{\\...</td>\n",
       "      <td>False</td>\n",
       "      <td>False</td>\n",
       "      <td>False</td>\n",
       "      <td>False</td>\n",
       "      <td>False</td>\n",
       "    </tr>\n",
       "    <tr>\n",
       "      <th>4</th>\n",
       "      <td>Parse_Env_Var(void)\\n{\\n  char *p = getenv(\"LI...</td>\n",
       "      <td>True</td>\n",
       "      <td>True</td>\n",
       "      <td>False</td>\n",
       "      <td>False</td>\n",
       "      <td>True</td>\n",
       "    </tr>\n",
       "  </tbody>\n",
       "</table>\n",
       "</div>"
      ],
      "text/plain": [
       "                                                code  CWE-119  CWE-120  \\\n",
       "0  clear_area(int startx, int starty, int xsize, ...    False    False   \n",
       "1  ReconstructDuList(Statement* head)\\n{\\n    Sta...    False    False   \n",
       "2  free_speaker(void)\\n{\\n   if(Lengths)\\n       ...    False    False   \n",
       "3  mlx4_register_device(struct mlx4_dev *dev)\\n{\\...    False    False   \n",
       "4  Parse_Env_Var(void)\\n{\\n  char *p = getenv(\"LI...     True     True   \n",
       "\n",
       "   CWE-469  CWE-476  CWE-OTHERS  \n",
       "0    False    False       False  \n",
       "1    False    False       False  \n",
       "2    False    False       False  \n",
       "3    False    False       False  \n",
       "4    False    False        True  "
      ]
     },
     "execution_count": 7,
     "metadata": {},
     "output_type": "execute_result"
    }
   ],
   "source": [
    "vdisc_train_pandas.head()"
   ]
  },
  {
   "cell_type": "code",
   "execution_count": 8,
   "metadata": {},
   "outputs": [
    {
     "name": "stdout",
     "output_type": "stream",
     "text": [
      "<class 'pandas.core.frame.DataFrame'>\n",
      "RangeIndex: 1019471 entries, 0 to 1019470\n",
      "Data columns (total 6 columns):\n",
      " #   Column      Non-Null Count    Dtype \n",
      "---  ------      --------------    ----- \n",
      " 0   code        1019471 non-null  object\n",
      " 1   CWE-119     1019471 non-null  bool  \n",
      " 2   CWE-120     1019471 non-null  bool  \n",
      " 3   CWE-469     1019471 non-null  bool  \n",
      " 4   CWE-476     1019471 non-null  bool  \n",
      " 5   CWE-OTHERS  1019471 non-null  bool  \n",
      "dtypes: bool(5), object(1)\n",
      "memory usage: 12.6+ MB\n"
     ]
    }
   ],
   "source": [
    "vdisc_train_pandas.info()"
   ]
  },
  {
   "cell_type": "markdown",
   "metadata": {},
   "source": [
    "Concatenate train, valid and test dataframes to make preprocessing and embedding processes easer. Later in the ML experiments dataset will be splitted up again"
   ]
  },
  {
   "cell_type": "code",
   "execution_count": 9,
   "metadata": {},
   "outputs": [],
   "source": [
    "vdisc_joined = pd.concat([vdisc_train_pandas, vdisc_validate_pandas, vdisc_test_pandas], ignore_index=True)"
   ]
  },
  {
   "cell_type": "code",
   "execution_count": 10,
   "metadata": {},
   "outputs": [
    {
     "name": "stdout",
     "output_type": "stream",
     "text": [
      "<class 'pandas.core.frame.DataFrame'>\n",
      "RangeIndex: 1274366 entries, 0 to 1274365\n",
      "Data columns (total 6 columns):\n",
      " #   Column      Non-Null Count    Dtype \n",
      "---  ------      --------------    ----- \n",
      " 0   code        1274366 non-null  object\n",
      " 1   CWE-119     1274366 non-null  bool  \n",
      " 2   CWE-120     1274366 non-null  bool  \n",
      " 3   CWE-469     1274366 non-null  bool  \n",
      " 4   CWE-476     1274366 non-null  bool  \n",
      " 5   CWE-OTHERS  1274366 non-null  bool  \n",
      "dtypes: bool(5), object(1)\n",
      "memory usage: 15.8+ MB\n"
     ]
    }
   ],
   "source": [
    "vdisc_joined.info()"
   ]
  },
  {
   "cell_type": "markdown",
   "metadata": {},
   "source": [
    "Solving the problem of unbalanced dataset:"
   ]
  },
  {
   "cell_type": "markdown",
   "metadata": {},
   "source": [
    "# 1) Per-vulnerability models\n",
    "extracting seperate CWE dataframes"
   ]
  },
  {
   "cell_type": "markdown",
   "metadata": {},
   "source": [
    "1) CWE-120"
   ]
  },
  {
   "cell_type": "code",
   "execution_count": 11,
   "metadata": {},
   "outputs": [],
   "source": [
    "cols_to_drop = [\"CWE-119\", \"CWE-469\", \"CWE-476\", \"CWE-OTHERS\"]\n",
    "CWE_120_df = vdisc_joined.drop(cols_to_drop, axis=1)"
   ]
  },
  {
   "cell_type": "markdown",
   "metadata": {},
   "source": [
    "2) CWE-119"
   ]
  },
  {
   "cell_type": "code",
   "execution_count": 12,
   "metadata": {},
   "outputs": [],
   "source": [
    "cols_to_drop = [\"CWE-120\", \"CWE-469\", \"CWE-476\", \"CWE-OTHERS\"]\n",
    "CWE_119_df = vdisc_joined.drop(cols_to_drop, axis=1)"
   ]
  },
  {
   "cell_type": "markdown",
   "metadata": {},
   "source": [
    "3) CWE-469"
   ]
  },
  {
   "cell_type": "code",
   "execution_count": 13,
   "metadata": {},
   "outputs": [],
   "source": [
    "cols_to_drop = [\"CWE-120\", \"CWE-119\", \"CWE-476\", \"CWE-OTHERS\"]\n",
    "CWE_469_df = vdisc_joined.drop(cols_to_drop, axis=1)"
   ]
  },
  {
   "cell_type": "markdown",
   "metadata": {},
   "source": [
    "4) CWE-476"
   ]
  },
  {
   "cell_type": "code",
   "execution_count": 14,
   "metadata": {},
   "outputs": [],
   "source": [
    "cols_to_drop = [\"CWE-120\", \"CWE-119\", \"CWE-469\", \"CWE-OTHERS\"]\n",
    "CWE_476_df = vdisc_joined.drop(cols_to_drop, axis=1)"
   ]
  },
  {
   "cell_type": "markdown",
   "metadata": {},
   "source": [
    "5) CWE-OTHERS"
   ]
  },
  {
   "cell_type": "code",
   "execution_count": 15,
   "metadata": {},
   "outputs": [],
   "source": [
    "cols_to_drop = [\"CWE-120\", \"CWE-119\", \"CWE-469\", \"CWE-476\"]\n",
    "CWE_OTHERS_df = vdisc_joined.drop(cols_to_drop, axis=1)"
   ]
  },
  {
   "cell_type": "code",
   "execution_count": 16,
   "metadata": {},
   "outputs": [
    {
     "data": {
      "text/html": [
       "<div>\n",
       "<style scoped>\n",
       "    .dataframe tbody tr th:only-of-type {\n",
       "        vertical-align: middle;\n",
       "    }\n",
       "\n",
       "    .dataframe tbody tr th {\n",
       "        vertical-align: top;\n",
       "    }\n",
       "\n",
       "    .dataframe thead th {\n",
       "        text-align: right;\n",
       "    }\n",
       "</style>\n",
       "<table border=\"1\" class=\"dataframe\">\n",
       "  <thead>\n",
       "    <tr style=\"text-align: right;\">\n",
       "      <th></th>\n",
       "      <th>code</th>\n",
       "      <th>CWE-120</th>\n",
       "    </tr>\n",
       "  </thead>\n",
       "  <tbody>\n",
       "    <tr>\n",
       "      <th>0</th>\n",
       "      <td>clear_area(int startx, int starty, int xsize, ...</td>\n",
       "      <td>False</td>\n",
       "    </tr>\n",
       "    <tr>\n",
       "      <th>1</th>\n",
       "      <td>ReconstructDuList(Statement* head)\\n{\\n    Sta...</td>\n",
       "      <td>False</td>\n",
       "    </tr>\n",
       "    <tr>\n",
       "      <th>2</th>\n",
       "      <td>free_speaker(void)\\n{\\n   if(Lengths)\\n       ...</td>\n",
       "      <td>False</td>\n",
       "    </tr>\n",
       "    <tr>\n",
       "      <th>3</th>\n",
       "      <td>mlx4_register_device(struct mlx4_dev *dev)\\n{\\...</td>\n",
       "      <td>False</td>\n",
       "    </tr>\n",
       "    <tr>\n",
       "      <th>4</th>\n",
       "      <td>Parse_Env_Var(void)\\n{\\n  char *p = getenv(\"LI...</td>\n",
       "      <td>True</td>\n",
       "    </tr>\n",
       "  </tbody>\n",
       "</table>\n",
       "</div>"
      ],
      "text/plain": [
       "                                                code  CWE-120\n",
       "0  clear_area(int startx, int starty, int xsize, ...    False\n",
       "1  ReconstructDuList(Statement* head)\\n{\\n    Sta...    False\n",
       "2  free_speaker(void)\\n{\\n   if(Lengths)\\n       ...    False\n",
       "3  mlx4_register_device(struct mlx4_dev *dev)\\n{\\...    False\n",
       "4  Parse_Env_Var(void)\\n{\\n  char *p = getenv(\"LI...     True"
      ]
     },
     "execution_count": 16,
     "metadata": {},
     "output_type": "execute_result"
    }
   ],
   "source": [
    "CWE_120_df.head()"
   ]
  },
  {
   "cell_type": "markdown",
   "metadata": {},
   "source": [
    "Checking up, how many samples (vulnerable & non-vulnerable) each CWE category has"
   ]
  },
  {
   "cell_type": "code",
   "execution_count": 17,
   "metadata": {},
   "outputs": [
    {
     "data": {
      "text/plain": [
       "False    1226706\n",
       "True       47660\n",
       "Name: CWE-120, dtype: int64"
      ]
     },
     "execution_count": 17,
     "metadata": {},
     "output_type": "execute_result"
    }
   ],
   "source": [
    "CWE_120_df['CWE-120'].value_counts()"
   ]
  },
  {
   "cell_type": "code",
   "execution_count": 18,
   "metadata": {},
   "outputs": [
    {
     "data": {
      "text/plain": [
       "False    1250209\n",
       "True       24157\n",
       "Name: CWE-119, dtype: int64"
      ]
     },
     "execution_count": 18,
     "metadata": {},
     "output_type": "execute_result"
    }
   ],
   "source": [
    "CWE_119_df['CWE-119'].value_counts()"
   ]
  },
  {
   "cell_type": "code",
   "execution_count": 19,
   "metadata": {},
   "outputs": [
    {
     "data": {
      "text/plain": [
       "False    1271741\n",
       "True        2625\n",
       "Name: CWE-469, dtype: int64"
      ]
     },
     "execution_count": 19,
     "metadata": {},
     "output_type": "execute_result"
    }
   ],
   "source": [
    "CWE_469_df['CWE-469'].value_counts()"
   ]
  },
  {
   "cell_type": "code",
   "execution_count": 20,
   "metadata": {},
   "outputs": [
    {
     "data": {
      "text/plain": [
       "False    1262272\n",
       "True       12094\n",
       "Name: CWE-476, dtype: int64"
      ]
     },
     "execution_count": 20,
     "metadata": {},
     "output_type": "execute_result"
    }
   ],
   "source": [
    "CWE_476_df['CWE-476'].value_counts()"
   ]
  },
  {
   "cell_type": "code",
   "execution_count": 21,
   "metadata": {},
   "outputs": [
    {
     "data": {
      "text/plain": [
       "False    1239338\n",
       "True       35028\n",
       "Name: CWE-OTHERS, dtype: int64"
      ]
     },
     "execution_count": 21,
     "metadata": {},
     "output_type": "execute_result"
    }
   ],
   "source": [
    "CWE_OTHERS_df['CWE-OTHERS'].value_counts()"
   ]
  },
  {
   "cell_type": "markdown",
   "metadata": {},
   "source": [
    "Ploting the CWE-120 subset"
   ]
  },
  {
   "cell_type": "code",
   "execution_count": 24,
   "metadata": {},
   "outputs": [
    {
     "name": "stderr",
     "output_type": "stream",
     "text": [
      "/home/feras/anaconda3/lib/python3.8/site-packages/seaborn/_decorators.py:36: FutureWarning: Pass the following variable as a keyword arg: x. From version 0.12, the only valid positional argument will be `data`, and passing other arguments without an explicit keyword will result in an error or misinterpretation.\n",
      "  warnings.warn(\n"
     ]
    },
    {
     "data": {
      "image/png": "[encoded data removed]",
      "text/plain": [
       "<Figure size 576x576 with 1 Axes>"
      ]
     },
     "metadata": {
      "needs_background": "light"
     },
     "output_type": "display_data"
    }
   ],
   "source": [
    "shuffled_df = CWE_120_df.sample(frac=1,random_state=4)\n",
    "vul_df = shuffled_df.loc[shuffled_df['CWE-120'] == True]\n",
    "non_vul_df = shuffled_df.loc[shuffled_df['CWE-120'] == False]\n",
    "non_normalized_df = pd.concat([vul_df, non_vul_df])\n",
    "plt.figure(figsize=(8, 8))\n",
    "sns.countplot('CWE-120', data=non_normalized_df)\n",
    "plt.title('Unbalanced Classes')\n",
    "#plt.show()\n",
    "#plt.rc('text', usetex=True)\n",
    "plt.rc('font', family='serif')\n",
    "plt.savefig('imbalanced.png')"
   ]
  },
  {
   "cell_type": "markdown",
   "metadata": {},
   "source": [
    "Applying under-sampling to generat a 50/50 non-vulnerable:vulnerable subset of CWE-120"
   ]
  },
  {
   "cell_type": "code",
   "execution_count": 25,
   "metadata": {},
   "outputs": [
    {
     "name": "stderr",
     "output_type": "stream",
     "text": [
      "/home/feras/anaconda3/lib/python3.8/site-packages/seaborn/_decorators.py:36: FutureWarning: Pass the following variable as a keyword arg: x. From version 0.12, the only valid positional argument will be `data`, and passing other arguments without an explicit keyword will result in an error or misinterpretation.\n",
      "  warnings.warn(\n"
     ]
    },
    {
     "data": {
      "image/png": "[encoded data removed]",
      "text/plain": [
       "<Figure size 576x576 with 1 Axes>"
      ]
     },
     "metadata": {
      "needs_background": "light"
     },
     "output_type": "display_data"
    },
    {
     "data": {
      "text/plain": [
       "<Figure size 432x288 with 0 Axes>"
      ]
     },
     "metadata": {},
     "output_type": "display_data"
    }
   ],
   "source": [
    "#The idea of applying undersampling can be seen in the following tutorial:\n",
    "# https://www.kdnuggets.com/2019/05/fix-unbalanced-dataset.html\n",
    "shuffled_df = CWE_120_df.sample(frac=1,random_state=4)\n",
    "\n",
    "# Put all the vulnerable class in a separate dataset.\n",
    "vul_df = shuffled_df.loc[shuffled_df['CWE-120'] == True]\n",
    "\n",
    "#Randomly select 47660 of observations from the non-vulnerable (majority class)to make 50/50 samples\n",
    "non_vul_df = shuffled_df.loc[shuffled_df['CWE-120'] == 0].sample(n=47660,random_state=42)\n",
    "\n",
    "# Concatenate both dataframes again\n",
    "normalized_df = pd.concat([vul_df, non_vul_df])\n",
    "\n",
    "#plot the dataset after the undersampling\n",
    "plt.figure(figsize=(8, 8))\n",
    "sns.countplot('CWE-120', data=normalized_df)\n",
    "plt.title('Balanced Classes')\n",
    "plt.show()\n",
    "plt.savefig('balanced.png')"
   ]
  },
  {
   "cell_type": "markdown",
   "metadata": {},
   "source": [
    "Applying under-sampling on all CWE categories"
   ]
  },
  {
   "cell_type": "code",
   "execution_count": 26,
   "metadata": {},
   "outputs": [],
   "source": [
    "#https://www.kdnuggets.com/2019/05/fix-unbalanced-dataset.html\n",
    "# Shuffle the Dataset.\n",
    "def undersampl(dataframe, vulnType, samples):\n",
    "    shuffled_df = dataframe.sample(frac=1,random_state=4)\n",
    "\n",
    "    # Put all the vulnerable class in a separate dataset.\n",
    "    vul_df = shuffled_df.loc[shuffled_df[vulnType] == True]\n",
    "\n",
    "    #Randomly select n samples of observations from the non-vulnerable (majority class)to make 50/50 samples\n",
    "    non_vul_df = shuffled_df.loc[shuffled_df[vulnType] == 0].sample(n=samples,random_state=42)\n",
    "\n",
    "    # Concatenate both dataframes again\n",
    "    normalized_df = pd.concat([vul_df, non_vul_df])\n",
    "\n",
    "    return normalized_df"
   ]
  },
  {
   "cell_type": "code",
   "execution_count": 27,
   "metadata": {},
   "outputs": [],
   "source": [
    "normilized_CWE_120 = undersampl(CWE_120_df, 'CWE-120', 47660)\n",
    "normilized_CWE_119 = undersampl(CWE_119_df, 'CWE-119', 24157)\n",
    "normilized_CWE_469 = undersampl(CWE_469_df, 'CWE-469', 2625)\n",
    "normilized_CWE_476 = undersampl(CWE_476_df, 'CWE-476', 12094)\n",
    "normilized_CWE_OTHERS = undersampl(CWE_OTHERS_df, 'CWE-OTHERS', 35028)"
   ]
  },
  {
   "cell_type": "markdown",
   "metadata": {},
   "source": [
    "Reset indices "
   ]
  },
  {
   "cell_type": "code",
   "execution_count": 28,
   "metadata": {},
   "outputs": [],
   "source": [
    "normilized_CWE_120.reset_index(inplace=True)\n",
    "normilized_CWE_119.reset_index(inplace=True)\n",
    "normilized_CWE_469.reset_index(inplace=True)\n",
    "normilized_CWE_476.reset_index(inplace=True)\n",
    "normilized_CWE_OTHERS.reset_index(inplace=True)"
   ]
  },
  {
   "cell_type": "markdown",
   "metadata": {},
   "source": [
    "Adding \"type\" column to each CWE dataframe"
   ]
  },
  {
   "cell_type": "code",
   "execution_count": 29,
   "metadata": {},
   "outputs": [],
   "source": [
    "normilized_CWE_120['type'] = \"CWE_120\"\n",
    "normilized_CWE_119['type'] = \"CWE_119\"\n",
    "normilized_CWE_469['type'] = \"CWE_469\"\n",
    "normilized_CWE_476['type'] = \"CWE_476\"\n",
    "normilized_CWE_OTHERS['type'] = \"CWE_OTHERS\""
   ]
  },
  {
   "cell_type": "code",
   "execution_count": 30,
   "metadata": {},
   "outputs": [
    {
     "name": "stdout",
     "output_type": "stream",
     "text": [
      "<class 'pandas.core.frame.DataFrame'>\n",
      "RangeIndex: 95320 entries, 0 to 95319\n",
      "Data columns (total 4 columns):\n",
      " #   Column   Non-Null Count  Dtype \n",
      "---  ------   --------------  ----- \n",
      " 0   index    95320 non-null  int64 \n",
      " 1   code     95320 non-null  object\n",
      " 2   CWE-120  95320 non-null  bool  \n",
      " 3   type     95320 non-null  object\n",
      "dtypes: bool(1), int64(1), object(2)\n",
      "memory usage: 2.3+ MB\n"
     ]
    }
   ],
   "source": [
    "normilized_CWE_120.info()"
   ]
  },
  {
   "cell_type": "markdown",
   "metadata": {},
   "source": [
    "Reorgenize each dataframe"
   ]
  },
  {
   "cell_type": "code",
   "execution_count": 31,
   "metadata": {},
   "outputs": [],
   "source": [
    "normilized_CWE_120.columns = ['testCase_ID', 'code', 'bug', 'type']\n",
    "normilized_CWE_119.columns = ['testCase_ID', 'code', 'bug', 'type']\n",
    "normilized_CWE_469.columns = ['testCase_ID', 'code', 'bug', 'type']\n",
    "normilized_CWE_476.columns = ['testCase_ID', 'code', 'bug', 'type']\n",
    "normilized_CWE_OTHERS.columns = ['testCase_ID', 'code', 'bug', 'type']"
   ]
  },
  {
   "cell_type": "code",
   "execution_count": 32,
   "metadata": {},
   "outputs": [
    {
     "name": "stdout",
     "output_type": "stream",
     "text": [
      "<class 'pandas.core.frame.DataFrame'>\n",
      "RangeIndex: 95320 entries, 0 to 95319\n",
      "Data columns (total 4 columns):\n",
      " #   Column       Non-Null Count  Dtype \n",
      "---  ------       --------------  ----- \n",
      " 0   testCase_ID  95320 non-null  int64 \n",
      " 1   code         95320 non-null  object\n",
      " 2   bug          95320 non-null  bool  \n",
      " 3   type         95320 non-null  object\n",
      "dtypes: bool(1), int64(1), object(2)\n",
      "memory usage: 2.3+ MB\n"
     ]
    }
   ],
   "source": [
    "normilized_CWE_120.info()"
   ]
  },
  {
   "cell_type": "code",
   "execution_count": 33,
   "metadata": {},
   "outputs": [],
   "source": [
    "normilized_CWE_120['testCase_ID'] = normilized_CWE_120.index\n",
    "normilized_CWE_119['testCase_ID'] = normilized_CWE_119.index\n",
    "normilized_CWE_469['testCase_ID'] = normilized_CWE_469.index\n",
    "normilized_CWE_476['testCase_ID'] = normilized_CWE_476.index\n",
    "normilized_CWE_OTHERS['testCase_ID'] = normilized_CWE_OTHERS.index"
   ]
  },
  {
   "cell_type": "code",
   "execution_count": 34,
   "metadata": {},
   "outputs": [
    {
     "data": {
      "text/html": [
       "<div>\n",
       "<style scoped>\n",
       "    .dataframe tbody tr th:only-of-type {\n",
       "        vertical-align: middle;\n",
       "    }\n",
       "\n",
       "    .dataframe tbody tr th {\n",
       "        vertical-align: top;\n",
       "    }\n",
       "\n",
       "    .dataframe thead th {\n",
       "        text-align: right;\n",
       "    }\n",
       "</style>\n",
       "<table border=\"1\" class=\"dataframe\">\n",
       "  <thead>\n",
       "    <tr style=\"text-align: right;\">\n",
       "      <th></th>\n",
       "      <th>testCase_ID</th>\n",
       "      <th>code</th>\n",
       "      <th>bug</th>\n",
       "      <th>type</th>\n",
       "    </tr>\n",
       "  </thead>\n",
       "  <tbody>\n",
       "    <tr>\n",
       "      <th>0</th>\n",
       "      <td>0</td>\n",
       "      <td>create_NUBspline_1d_z (NUgrid* x_grid, BCtype_...</td>\n",
       "      <td>True</td>\n",
       "      <td>CWE_120</td>\n",
       "    </tr>\n",
       "    <tr>\n",
       "      <th>1</th>\n",
       "      <td>1</td>\n",
       "      <td>m92_startup(void)\\r\\n{\\r\\n\\tunsigned char *RAM...</td>\n",
       "      <td>True</td>\n",
       "      <td>CWE_120</td>\n",
       "    </tr>\n",
       "    <tr>\n",
       "      <th>2</th>\n",
       "      <td>2</td>\n",
       "      <td>chirp_multi_lookup(const char *volume, const c...</td>\n",
       "      <td>True</td>\n",
       "      <td>CWE_120</td>\n",
       "    </tr>\n",
       "    <tr>\n",
       "      <th>3</th>\n",
       "      <td>3</td>\n",
       "      <td>_parse(VisuConfigFileEntry *entry, gchar **tok...</td>\n",
       "      <td>True</td>\n",
       "      <td>CWE_120</td>\n",
       "    </tr>\n",
       "    <tr>\n",
       "      <th>4</th>\n",
       "      <td>4</td>\n",
       "      <td>CDE_create_path_symlink_dirs() {\\n  char *p;\\n...</td>\n",
       "      <td>True</td>\n",
       "      <td>CWE_120</td>\n",
       "    </tr>\n",
       "  </tbody>\n",
       "</table>\n",
       "</div>"
      ],
      "text/plain": [
       "   testCase_ID                                               code   bug  \\\n",
       "0            0  create_NUBspline_1d_z (NUgrid* x_grid, BCtype_...  True   \n",
       "1            1  m92_startup(void)\\r\\n{\\r\\n\\tunsigned char *RAM...  True   \n",
       "2            2  chirp_multi_lookup(const char *volume, const c...  True   \n",
       "3            3  _parse(VisuConfigFileEntry *entry, gchar **tok...  True   \n",
       "4            4  CDE_create_path_symlink_dirs() {\\n  char *p;\\n...  True   \n",
       "\n",
       "      type  \n",
       "0  CWE_120  \n",
       "1  CWE_120  \n",
       "2  CWE_120  \n",
       "3  CWE_120  \n",
       "4  CWE_120  "
      ]
     },
     "execution_count": 34,
     "metadata": {},
     "output_type": "execute_result"
    }
   ],
   "source": [
    "normilized_CWE_120.head()"
   ]
  },
  {
   "cell_type": "markdown",
   "metadata": {},
   "source": [
    "Adding a \"filename\" column to each dataframe, which should be a string or object needed as input for the Clang parser used later in \"AST_extracting.ipynb\""
   ]
  },
  {
   "cell_type": "code",
   "execution_count": 35,
   "metadata": {},
   "outputs": [],
   "source": [
    "def add_column(row):\n",
    "    testCase_ID = row.testCase_ID\n",
    "\n",
    "    return {\n",
    "        \"filename\": str(testCase_ID) + \"_vdisc.c\"\n",
    "    }"
   ]
  },
  {
   "cell_type": "code",
   "execution_count": 36,
   "metadata": {},
   "outputs": [],
   "source": [
    "filename_CWE_120 = normilized_CWE_120.apply(add_column, axis=1, result_type=\"expand\")\n",
    "filename_CWE_119 = normilized_CWE_119.apply(add_column, axis=1, result_type=\"expand\")\n",
    "filename_CWE_469 = normilized_CWE_469.apply(add_column, axis=1, result_type=\"expand\")\n",
    "filename_CWE_476 = normilized_CWE_476.apply(add_column, axis=1, result_type=\"expand\")\n",
    "filename_CWE_OTHERS = normilized_CWE_OTHERS.apply(add_column, axis=1, result_type=\"expand\")"
   ]
  },
  {
   "cell_type": "code",
   "execution_count": 37,
   "metadata": {},
   "outputs": [
    {
     "data": {
      "text/html": [
       "<div>\n",
       "<style scoped>\n",
       "    .dataframe tbody tr th:only-of-type {\n",
       "        vertical-align: middle;\n",
       "    }\n",
       "\n",
       "    .dataframe tbody tr th {\n",
       "        vertical-align: top;\n",
       "    }\n",
       "\n",
       "    .dataframe thead th {\n",
       "        text-align: right;\n",
       "    }\n",
       "</style>\n",
       "<table border=\"1\" class=\"dataframe\">\n",
       "  <thead>\n",
       "    <tr style=\"text-align: right;\">\n",
       "      <th></th>\n",
       "      <th>filename</th>\n",
       "    </tr>\n",
       "  </thead>\n",
       "  <tbody>\n",
       "    <tr>\n",
       "      <th>0</th>\n",
       "      <td>0_vdisc.c</td>\n",
       "    </tr>\n",
       "    <tr>\n",
       "      <th>1</th>\n",
       "      <td>1_vdisc.c</td>\n",
       "    </tr>\n",
       "    <tr>\n",
       "      <th>2</th>\n",
       "      <td>2_vdisc.c</td>\n",
       "    </tr>\n",
       "    <tr>\n",
       "      <th>3</th>\n",
       "      <td>3_vdisc.c</td>\n",
       "    </tr>\n",
       "    <tr>\n",
       "      <th>4</th>\n",
       "      <td>4_vdisc.c</td>\n",
       "    </tr>\n",
       "  </tbody>\n",
       "</table>\n",
       "</div>"
      ],
      "text/plain": [
       "    filename\n",
       "0  0_vdisc.c\n",
       "1  1_vdisc.c\n",
       "2  2_vdisc.c\n",
       "3  3_vdisc.c\n",
       "4  4_vdisc.c"
      ]
     },
     "execution_count": 37,
     "metadata": {},
     "output_type": "execute_result"
    }
   ],
   "source": [
    "filename_CWE_119.head()"
   ]
  },
  {
   "cell_type": "code",
   "execution_count": 38,
   "metadata": {},
   "outputs": [],
   "source": [
    "normilized_CWE_120_new= normilized_CWE_120.insert(1,\"filename\", filename_CWE_120, True)\n",
    "normilized_CWE_119_new= normilized_CWE_119.insert(1,\"filename\", filename_CWE_119, True)\n",
    "normilized_CWE_469_new= normilized_CWE_469.insert(1,\"filename\", filename_CWE_469, True)\n",
    "normilized_CWE_476_new= normilized_CWE_476.insert(1,\"filename\", filename_CWE_476, True)\n",
    "normilized_CWE_OTHERS_new= normilized_CWE_OTHERS.insert(1,\"filename\", filename_CWE_OTHERS, True)"
   ]
  },
  {
   "cell_type": "code",
   "execution_count": 39,
   "metadata": {},
   "outputs": [
    {
     "data": {
      "text/html": [
       "<div>\n",
       "<style scoped>\n",
       "    .dataframe tbody tr th:only-of-type {\n",
       "        vertical-align: middle;\n",
       "    }\n",
       "\n",
       "    .dataframe tbody tr th {\n",
       "        vertical-align: top;\n",
       "    }\n",
       "\n",
       "    .dataframe thead th {\n",
       "        text-align: right;\n",
       "    }\n",
       "</style>\n",
       "<table border=\"1\" class=\"dataframe\">\n",
       "  <thead>\n",
       "    <tr style=\"text-align: right;\">\n",
       "      <th></th>\n",
       "      <th>testCase_ID</th>\n",
       "      <th>filename</th>\n",
       "      <th>code</th>\n",
       "      <th>bug</th>\n",
       "      <th>type</th>\n",
       "    </tr>\n",
       "  </thead>\n",
       "  <tbody>\n",
       "    <tr>\n",
       "      <th>0</th>\n",
       "      <td>0</td>\n",
       "      <td>0_vdisc.c</td>\n",
       "      <td>create_NUBspline_1d_z (NUgrid* x_grid, BCtype_...</td>\n",
       "      <td>True</td>\n",
       "      <td>CWE_120</td>\n",
       "    </tr>\n",
       "    <tr>\n",
       "      <th>1</th>\n",
       "      <td>1</td>\n",
       "      <td>1_vdisc.c</td>\n",
       "      <td>m92_startup(void)\\r\\n{\\r\\n\\tunsigned char *RAM...</td>\n",
       "      <td>True</td>\n",
       "      <td>CWE_120</td>\n",
       "    </tr>\n",
       "    <tr>\n",
       "      <th>2</th>\n",
       "      <td>2</td>\n",
       "      <td>2_vdisc.c</td>\n",
       "      <td>chirp_multi_lookup(const char *volume, const c...</td>\n",
       "      <td>True</td>\n",
       "      <td>CWE_120</td>\n",
       "    </tr>\n",
       "    <tr>\n",
       "      <th>3</th>\n",
       "      <td>3</td>\n",
       "      <td>3_vdisc.c</td>\n",
       "      <td>_parse(VisuConfigFileEntry *entry, gchar **tok...</td>\n",
       "      <td>True</td>\n",
       "      <td>CWE_120</td>\n",
       "    </tr>\n",
       "    <tr>\n",
       "      <th>4</th>\n",
       "      <td>4</td>\n",
       "      <td>4_vdisc.c</td>\n",
       "      <td>CDE_create_path_symlink_dirs() {\\n  char *p;\\n...</td>\n",
       "      <td>True</td>\n",
       "      <td>CWE_120</td>\n",
       "    </tr>\n",
       "  </tbody>\n",
       "</table>\n",
       "</div>"
      ],
      "text/plain": [
       "   testCase_ID   filename                                               code  \\\n",
       "0            0  0_vdisc.c  create_NUBspline_1d_z (NUgrid* x_grid, BCtype_...   \n",
       "1            1  1_vdisc.c  m92_startup(void)\\r\\n{\\r\\n\\tunsigned char *RAM...   \n",
       "2            2  2_vdisc.c  chirp_multi_lookup(const char *volume, const c...   \n",
       "3            3  3_vdisc.c  _parse(VisuConfigFileEntry *entry, gchar **tok...   \n",
       "4            4  4_vdisc.c  CDE_create_path_symlink_dirs() {\\n  char *p;\\n...   \n",
       "\n",
       "    bug     type  \n",
       "0  True  CWE_120  \n",
       "1  True  CWE_120  \n",
       "2  True  CWE_120  \n",
       "3  True  CWE_120  \n",
       "4  True  CWE_120  "
      ]
     },
     "execution_count": 39,
     "metadata": {},
     "output_type": "execute_result"
    }
   ],
   "source": [
    "normilized_CWE_120.head()"
   ]
  },
  {
   "cell_type": "code",
   "execution_count": 40,
   "metadata": {},
   "outputs": [
    {
     "name": "stdout",
     "output_type": "stream",
     "text": [
      "<class 'pandas.core.frame.DataFrame'>\n",
      "RangeIndex: 95320 entries, 0 to 95319\n",
      "Data columns (total 5 columns):\n",
      " #   Column       Non-Null Count  Dtype \n",
      "---  ------       --------------  ----- \n",
      " 0   testCase_ID  95320 non-null  int64 \n",
      " 1   filename     95320 non-null  object\n",
      " 2   code         95320 non-null  object\n",
      " 3   bug          95320 non-null  bool  \n",
      " 4   type         95320 non-null  object\n",
      "dtypes: bool(1), int64(1), object(3)\n",
      "memory usage: 3.0+ MB\n"
     ]
    }
   ],
   "source": [
    "normilized_CWE_120.info()"
   ]
  },
  {
   "cell_type": "markdown",
   "metadata": {},
   "source": [
    "Saving files as CSV"
   ]
  },
  {
   "cell_type": "code",
   "execution_count": 41,
   "metadata": {},
   "outputs": [],
   "source": [
    "normilized_CWE_120.to_csv(\"./Dataset/vdisc_CWE_120.csv.gz\")\n",
    "normilized_CWE_119.to_csv(\"./Dataset/vdisc_CWE_119.csv.gz\")\n",
    "normilized_CWE_469.to_csv(\"./Dataset/vdisc_CWE_469.csv.gz\")\n",
    "normilized_CWE_476.to_csv(\"./Dataset/vdisc_CWE_476.csv.gz\")\n",
    "normilized_CWE_OTHERS.to_csv(\"./Dataset/vdisc_CWE_OTHERS.csv.gz\")"
   ]
  },
  {
   "cell_type": "markdown",
   "metadata": {},
   "source": [
    "# 2) Combining all vulnerability types in one class"
   ]
  },
  {
   "cell_type": "code",
   "execution_count": 40,
   "metadata": {},
   "outputs": [
    {
     "data": {
      "text/html": [
       "<div>\n",
       "<style scoped>\n",
       "    .dataframe tbody tr th:only-of-type {\n",
       "        vertical-align: middle;\n",
       "    }\n",
       "\n",
       "    .dataframe tbody tr th {\n",
       "        vertical-align: top;\n",
       "    }\n",
       "\n",
       "    .dataframe thead th {\n",
       "        text-align: right;\n",
       "    }\n",
       "</style>\n",
       "<table border=\"1\" class=\"dataframe\">\n",
       "  <thead>\n",
       "    <tr style=\"text-align: right;\">\n",
       "      <th></th>\n",
       "      <th>code</th>\n",
       "      <th>CWE-119</th>\n",
       "      <th>CWE-120</th>\n",
       "      <th>CWE-469</th>\n",
       "      <th>CWE-476</th>\n",
       "      <th>CWE-OTHERS</th>\n",
       "    </tr>\n",
       "  </thead>\n",
       "  <tbody>\n",
       "    <tr>\n",
       "      <th>0</th>\n",
       "      <td>clear_area(int startx, int starty, int xsize, ...</td>\n",
       "      <td>False</td>\n",
       "      <td>False</td>\n",
       "      <td>False</td>\n",
       "      <td>False</td>\n",
       "      <td>False</td>\n",
       "    </tr>\n",
       "    <tr>\n",
       "      <th>1</th>\n",
       "      <td>ReconstructDuList(Statement* head)\\n{\\n    Sta...</td>\n",
       "      <td>False</td>\n",
       "      <td>False</td>\n",
       "      <td>False</td>\n",
       "      <td>False</td>\n",
       "      <td>False</td>\n",
       "    </tr>\n",
       "    <tr>\n",
       "      <th>2</th>\n",
       "      <td>free_speaker(void)\\n{\\n   if(Lengths)\\n       ...</td>\n",
       "      <td>False</td>\n",
       "      <td>False</td>\n",
       "      <td>False</td>\n",
       "      <td>False</td>\n",
       "      <td>False</td>\n",
       "    </tr>\n",
       "    <tr>\n",
       "      <th>3</th>\n",
       "      <td>mlx4_register_device(struct mlx4_dev *dev)\\n{\\...</td>\n",
       "      <td>False</td>\n",
       "      <td>False</td>\n",
       "      <td>False</td>\n",
       "      <td>False</td>\n",
       "      <td>False</td>\n",
       "    </tr>\n",
       "    <tr>\n",
       "      <th>4</th>\n",
       "      <td>Parse_Env_Var(void)\\n{\\n  char *p = getenv(\"LI...</td>\n",
       "      <td>True</td>\n",
       "      <td>True</td>\n",
       "      <td>False</td>\n",
       "      <td>False</td>\n",
       "      <td>True</td>\n",
       "    </tr>\n",
       "  </tbody>\n",
       "</table>\n",
       "</div>"
      ],
      "text/plain": [
       "                                                code  CWE-119  CWE-120  \\\n",
       "0  clear_area(int startx, int starty, int xsize, ...    False    False   \n",
       "1  ReconstructDuList(Statement* head)\\n{\\n    Sta...    False    False   \n",
       "2  free_speaker(void)\\n{\\n   if(Lengths)\\n       ...    False    False   \n",
       "3  mlx4_register_device(struct mlx4_dev *dev)\\n{\\...    False    False   \n",
       "4  Parse_Env_Var(void)\\n{\\n  char *p = getenv(\"LI...     True     True   \n",
       "\n",
       "   CWE-469  CWE-476  CWE-OTHERS  \n",
       "0    False    False       False  \n",
       "1    False    False       False  \n",
       "2    False    False       False  \n",
       "3    False    False       False  \n",
       "4    False    False        True  "
      ]
     },
     "execution_count": 40,
     "metadata": {},
     "output_type": "execute_result"
    }
   ],
   "source": [
    "vdisc_joined.head()"
   ]
  },
  {
   "cell_type": "markdown",
   "metadata": {},
   "source": [
    "Convert False, True into 0,1 to apply logical operators"
   ]
  },
  {
   "cell_type": "code",
   "execution_count": 12,
   "metadata": {},
   "outputs": [],
   "source": [
    "for dataset in [vdisc_joined]:\n",
    "    for col in range(1,6):\n",
    "        dataset.iloc[:,col] = dataset.iloc[:,col].map({False: 0, True: 1})"
   ]
  },
  {
   "cell_type": "code",
   "execution_count": 13,
   "metadata": {},
   "outputs": [
    {
     "name": "stdout",
     "output_type": "stream",
     "text": [
      "<class 'pandas.core.frame.DataFrame'>\n",
      "RangeIndex: 1274366 entries, 0 to 1274365\n",
      "Data columns (total 6 columns):\n",
      " #   Column      Non-Null Count    Dtype \n",
      "---  ------      --------------    ----- \n",
      " 0   code        1274366 non-null  object\n",
      " 1   CWE-119     1274366 non-null  int64 \n",
      " 2   CWE-120     1274366 non-null  int64 \n",
      " 3   CWE-469     1274366 non-null  int64 \n",
      " 4   CWE-476     1274366 non-null  int64 \n",
      " 5   CWE-OTHERS  1274366 non-null  int64 \n",
      "dtypes: int64(5), object(1)\n",
      "memory usage: 58.3+ MB\n"
     ]
    }
   ],
   "source": [
    "dataset.info()"
   ]
  },
  {
   "cell_type": "markdown",
   "metadata": {},
   "source": [
    "Applying AND , OR operators "
   ]
  },
  {
   "cell_type": "code",
   "execution_count": 14,
   "metadata": {},
   "outputs": [],
   "source": [
    "conditions= [\n",
    "    (vdisc_joined['CWE-119'] == 1) | (vdisc_joined['CWE-120'] == 1) | (vdisc_joined['CWE-469'] == 1 ) | (vdisc_joined['CWE-476'] == 1) | (vdisc_joined['CWE-OTHERS'] == 1),\n",
    "    (vdisc_joined['CWE-119'] == 0) & (vdisc_joined['CWE-120'] == 0) | (vdisc_joined['CWE-469'] == 0 ) & (vdisc_joined['CWE-476'] == 0) & (vdisc_joined['CWE-OTHERS'] == 0)\n",
    "]\n",
    "\n",
    "values = [1, 0] #1:True , 0: False\n",
    "\n",
    "# create a new column and use np.select to assign values to it using our lists as arguments\n",
    "vdisc_joined['CWE-COMBINED'] = np.select(conditions, values).astype('bool')"
   ]
  },
  {
   "cell_type": "code",
   "execution_count": 15,
   "metadata": {},
   "outputs": [
    {
     "data": {
      "text/html": [
       "<div>\n",
       "<style scoped>\n",
       "    .dataframe tbody tr th:only-of-type {\n",
       "        vertical-align: middle;\n",
       "    }\n",
       "\n",
       "    .dataframe tbody tr th {\n",
       "        vertical-align: top;\n",
       "    }\n",
       "\n",
       "    .dataframe thead th {\n",
       "        text-align: right;\n",
       "    }\n",
       "</style>\n",
       "<table border=\"1\" class=\"dataframe\">\n",
       "  <thead>\n",
       "    <tr style=\"text-align: right;\">\n",
       "      <th></th>\n",
       "      <th>code</th>\n",
       "      <th>CWE-119</th>\n",
       "      <th>CWE-120</th>\n",
       "      <th>CWE-469</th>\n",
       "      <th>CWE-476</th>\n",
       "      <th>CWE-OTHERS</th>\n",
       "      <th>CWE-COMBINED</th>\n",
       "    </tr>\n",
       "  </thead>\n",
       "  <tbody>\n",
       "    <tr>\n",
       "      <th>0</th>\n",
       "      <td>clear_area(int startx, int starty, int xsize, ...</td>\n",
       "      <td>0</td>\n",
       "      <td>0</td>\n",
       "      <td>0</td>\n",
       "      <td>0</td>\n",
       "      <td>0</td>\n",
       "      <td>False</td>\n",
       "    </tr>\n",
       "    <tr>\n",
       "      <th>1</th>\n",
       "      <td>ReconstructDuList(Statement* head)\\n{\\n    Sta...</td>\n",
       "      <td>0</td>\n",
       "      <td>0</td>\n",
       "      <td>0</td>\n",
       "      <td>0</td>\n",
       "      <td>0</td>\n",
       "      <td>False</td>\n",
       "    </tr>\n",
       "    <tr>\n",
       "      <th>2</th>\n",
       "      <td>free_speaker(void)\\n{\\n   if(Lengths)\\n       ...</td>\n",
       "      <td>0</td>\n",
       "      <td>0</td>\n",
       "      <td>0</td>\n",
       "      <td>0</td>\n",
       "      <td>0</td>\n",
       "      <td>False</td>\n",
       "    </tr>\n",
       "    <tr>\n",
       "      <th>3</th>\n",
       "      <td>mlx4_register_device(struct mlx4_dev *dev)\\n{\\...</td>\n",
       "      <td>0</td>\n",
       "      <td>0</td>\n",
       "      <td>0</td>\n",
       "      <td>0</td>\n",
       "      <td>0</td>\n",
       "      <td>False</td>\n",
       "    </tr>\n",
       "    <tr>\n",
       "      <th>4</th>\n",
       "      <td>Parse_Env_Var(void)\\n{\\n  char *p = getenv(\"LI...</td>\n",
       "      <td>1</td>\n",
       "      <td>1</td>\n",
       "      <td>0</td>\n",
       "      <td>0</td>\n",
       "      <td>1</td>\n",
       "      <td>True</td>\n",
       "    </tr>\n",
       "  </tbody>\n",
       "</table>\n",
       "</div>"
      ],
      "text/plain": [
       "                                                code  CWE-119  CWE-120  \\\n",
       "0  clear_area(int startx, int starty, int xsize, ...        0        0   \n",
       "1  ReconstructDuList(Statement* head)\\n{\\n    Sta...        0        0   \n",
       "2  free_speaker(void)\\n{\\n   if(Lengths)\\n       ...        0        0   \n",
       "3  mlx4_register_device(struct mlx4_dev *dev)\\n{\\...        0        0   \n",
       "4  Parse_Env_Var(void)\\n{\\n  char *p = getenv(\"LI...        1        1   \n",
       "\n",
       "   CWE-469  CWE-476  CWE-OTHERS  CWE-COMBINED  \n",
       "0        0        0           0         False  \n",
       "1        0        0           0         False  \n",
       "2        0        0           0         False  \n",
       "3        0        0           0         False  \n",
       "4        0        0           1          True  "
      ]
     },
     "execution_count": 15,
     "metadata": {},
     "output_type": "execute_result"
    }
   ],
   "source": [
    "vdisc_joined.head()"
   ]
  },
  {
   "cell_type": "markdown",
   "metadata": {},
   "source": [
    "Checking up, how many samples of vulnerable and non-vulnerable does the data frame has"
   ]
  },
  {
   "cell_type": "code",
   "execution_count": 16,
   "metadata": {},
   "outputs": [
    {
     "data": {
      "text/plain": [
       "False    1191955\n",
       "True       82411\n",
       "Name: CWE-COMBINED, dtype: int64"
      ]
     },
     "execution_count": 16,
     "metadata": {},
     "output_type": "execute_result"
    }
   ],
   "source": [
    "pd.Series(vdisc_joined[\"CWE-COMBINED\"]).value_counts()"
   ]
  },
  {
   "cell_type": "markdown",
   "metadata": {},
   "source": [
    "Drop out the old columns"
   ]
  },
  {
   "cell_type": "code",
   "execution_count": 17,
   "metadata": {},
   "outputs": [],
   "source": [
    "cols_to_drop = [\"CWE-119\", \"CWE-120\" , \"CWE-469\", \"CWE-476\", \"CWE-OTHERS\"]\n",
    "df = vdisc_joined.drop(cols_to_drop, axis=1)"
   ]
  },
  {
   "cell_type": "code",
   "execution_count": 18,
   "metadata": {},
   "outputs": [
    {
     "data": {
      "text/html": [
       "<div>\n",
       "<style scoped>\n",
       "    .dataframe tbody tr th:only-of-type {\n",
       "        vertical-align: middle;\n",
       "    }\n",
       "\n",
       "    .dataframe tbody tr th {\n",
       "        vertical-align: top;\n",
       "    }\n",
       "\n",
       "    .dataframe thead th {\n",
       "        text-align: right;\n",
       "    }\n",
       "</style>\n",
       "<table border=\"1\" class=\"dataframe\">\n",
       "  <thead>\n",
       "    <tr style=\"text-align: right;\">\n",
       "      <th></th>\n",
       "      <th>code</th>\n",
       "      <th>CWE-COMBINED</th>\n",
       "    </tr>\n",
       "  </thead>\n",
       "  <tbody>\n",
       "    <tr>\n",
       "      <th>0</th>\n",
       "      <td>clear_area(int startx, int starty, int xsize, ...</td>\n",
       "      <td>False</td>\n",
       "    </tr>\n",
       "    <tr>\n",
       "      <th>1</th>\n",
       "      <td>ReconstructDuList(Statement* head)\\n{\\n    Sta...</td>\n",
       "      <td>False</td>\n",
       "    </tr>\n",
       "    <tr>\n",
       "      <th>2</th>\n",
       "      <td>free_speaker(void)\\n{\\n   if(Lengths)\\n       ...</td>\n",
       "      <td>False</td>\n",
       "    </tr>\n",
       "    <tr>\n",
       "      <th>3</th>\n",
       "      <td>mlx4_register_device(struct mlx4_dev *dev)\\n{\\...</td>\n",
       "      <td>False</td>\n",
       "    </tr>\n",
       "    <tr>\n",
       "      <th>4</th>\n",
       "      <td>Parse_Env_Var(void)\\n{\\n  char *p = getenv(\"LI...</td>\n",
       "      <td>True</td>\n",
       "    </tr>\n",
       "  </tbody>\n",
       "</table>\n",
       "</div>"
      ],
      "text/plain": [
       "                                                code  CWE-COMBINED\n",
       "0  clear_area(int startx, int starty, int xsize, ...         False\n",
       "1  ReconstructDuList(Statement* head)\\n{\\n    Sta...         False\n",
       "2  free_speaker(void)\\n{\\n   if(Lengths)\\n       ...         False\n",
       "3  mlx4_register_device(struct mlx4_dev *dev)\\n{\\...         False\n",
       "4  Parse_Env_Var(void)\\n{\\n  char *p = getenv(\"LI...          True"
      ]
     },
     "execution_count": 18,
     "metadata": {},
     "output_type": "execute_result"
    }
   ],
   "source": [
    "df.head()"
   ]
  },
  {
   "cell_type": "code",
   "execution_count": 19,
   "metadata": {},
   "outputs": [
    {
     "name": "stdout",
     "output_type": "stream",
     "text": [
      "<class 'pandas.core.frame.DataFrame'>\n",
      "RangeIndex: 1274366 entries, 0 to 1274365\n",
      "Data columns (total 2 columns):\n",
      " #   Column        Non-Null Count    Dtype \n",
      "---  ------        --------------    ----- \n",
      " 0   code          1274366 non-null  object\n",
      " 1   CWE-COMBINED  1274366 non-null  bool  \n",
      "dtypes: bool(1), object(1)\n",
      "memory usage: 10.9+ MB\n"
     ]
    }
   ],
   "source": [
    "df.info()"
   ]
  },
  {
   "cell_type": "markdown",
   "metadata": {},
   "source": [
    "Applying under-sampling to generate a 50/50 non-vulnerable:vulnerable subset"
   ]
  },
  {
   "cell_type": "code",
   "execution_count": 21,
   "metadata": {},
   "outputs": [
    {
     "name": "stderr",
     "output_type": "stream",
     "text": [
      "/home/feras/anaconda3/lib/python3.8/site-packages/seaborn/_decorators.py:36: FutureWarning: Pass the following variable as a keyword arg: x. From version 0.12, the only valid positional argument will be `data`, and passing other arguments without an explicit keyword will result in an error or misinterpretation.\n",
      "  warnings.warn(\n"
     ]
    },
    {
     "data": {
      "image/png": "[encoded data removed]",
      "text/plain": [
       "<Figure size 576x576 with 1 Axes>"
      ]
     },
     "metadata": {
      "needs_background": "light"
     },
     "output_type": "display_data"
    }
   ],
   "source": [
    "shuffled_df = df.sample(frac=1,random_state=4)\n",
    "vul_df = shuffled_df.loc[shuffled_df['CWE-COMBINED'] == True]\n",
    "non_vul_df = shuffled_df.loc[shuffled_df['CWE-COMBINED'] == False]\n",
    "non_normalized_df = pd.concat([vul_df, non_vul_df])\n",
    "plt.figure(figsize=(8, 8))\n",
    "sns.countplot('CWE-COMBINED', data=non_normalized_df)\n",
    "plt.title('Unbalanced Classes')\n",
    "plt.show()"
   ]
  },
  {
   "cell_type": "code",
   "execution_count": 22,
   "metadata": {},
   "outputs": [
    {
     "name": "stderr",
     "output_type": "stream",
     "text": [
      "/home/feras/anaconda3/lib/python3.8/site-packages/seaborn/_decorators.py:36: FutureWarning: Pass the following variable as a keyword arg: x. From version 0.12, the only valid positional argument will be `data`, and passing other arguments without an explicit keyword will result in an error or misinterpretation.\n",
      "  warnings.warn(\n"
     ]
    },
    {
     "data": {
      "image/png": "[encoded data removed]",
      "text/plain": [
       "<Figure size 576x576 with 1 Axes>"
      ]
     },
     "metadata": {
      "needs_background": "light"
     },
     "output_type": "display_data"
    }
   ],
   "source": [
    "# Shuffle the Dataset.\n",
    "shuffled_df = df.sample(frac=1,random_state=4)\n",
    "\n",
    "# Randomly select 82411 of observations from vulnerable class in a separate dataset.\n",
    "vul_df = shuffled_df.loc[shuffled_df['CWE-COMBINED'] == True].sample(n=82411,random_state=42)\n",
    "\n",
    "#Randomly select 82411 of observations from the non-vulnerable (majority class)to make 50/50 samples\n",
    "non_vul_df = shuffled_df.loc[shuffled_df['CWE-COMBINED'] == False].sample(n=82411,random_state=42)\n",
    "\n",
    "# Concatenate both dataframes again\n",
    "normalized_df = pd.concat([vul_df, non_vul_df])\n",
    "\n",
    "#plot the dataset after the undersampling\n",
    "plt.figure(figsize=(8, 8))\n",
    "sns.countplot('CWE-COMBINED', data=normalized_df)\n",
    "plt.title('Balanced Classes')\n",
    "plt.show()"
   ]
  },
  {
   "cell_type": "code",
   "execution_count": 23,
   "metadata": {},
   "outputs": [],
   "source": [
    "normalized_df.reset_index(inplace=True)"
   ]
  },
  {
   "cell_type": "code",
   "execution_count": 24,
   "metadata": {},
   "outputs": [],
   "source": [
    "normalized_df['index'] = normalized_df.index"
   ]
  },
  {
   "cell_type": "code",
   "execution_count": 25,
   "metadata": {},
   "outputs": [
    {
     "data": {
      "text/html": [
       "<div>\n",
       "<style scoped>\n",
       "    .dataframe tbody tr th:only-of-type {\n",
       "        vertical-align: middle;\n",
       "    }\n",
       "\n",
       "    .dataframe tbody tr th {\n",
       "        vertical-align: top;\n",
       "    }\n",
       "\n",
       "    .dataframe thead th {\n",
       "        text-align: right;\n",
       "    }\n",
       "</style>\n",
       "<table border=\"1\" class=\"dataframe\">\n",
       "  <thead>\n",
       "    <tr style=\"text-align: right;\">\n",
       "      <th></th>\n",
       "      <th>index</th>\n",
       "      <th>code</th>\n",
       "      <th>CWE-COMBINED</th>\n",
       "    </tr>\n",
       "  </thead>\n",
       "  <tbody>\n",
       "    <tr>\n",
       "      <th>0</th>\n",
       "      <td>0</td>\n",
       "      <td>D_check_map_window(struct Cell_head *wind)\\n{\\...</td>\n",
       "      <td>True</td>\n",
       "    </tr>\n",
       "    <tr>\n",
       "      <th>1</th>\n",
       "      <td>1</td>\n",
       "      <td>UT_convertDimensionless(const char * sz)\\n{\\n\\...</td>\n",
       "      <td>True</td>\n",
       "    </tr>\n",
       "    <tr>\n",
       "      <th>2</th>\n",
       "      <td>2</td>\n",
       "      <td>c_escape(output::pointer op, const char *s, in...</td>\n",
       "      <td>True</td>\n",
       "    </tr>\n",
       "    <tr>\n",
       "      <th>3</th>\n",
       "      <td>3</td>\n",
       "      <td>jack_session_commands_free(jack_session_comman...</td>\n",
       "      <td>True</td>\n",
       "    </tr>\n",
       "    <tr>\n",
       "      <th>4</th>\n",
       "      <td>4</td>\n",
       "      <td>grow(Stream * s, int newlen, int need)\\n{\\n   ...</td>\n",
       "      <td>True</td>\n",
       "    </tr>\n",
       "  </tbody>\n",
       "</table>\n",
       "</div>"
      ],
      "text/plain": [
       "   index                                               code  CWE-COMBINED\n",
       "0      0  D_check_map_window(struct Cell_head *wind)\\n{\\...          True\n",
       "1      1  UT_convertDimensionless(const char * sz)\\n{\\n\\...          True\n",
       "2      2  c_escape(output::pointer op, const char *s, in...          True\n",
       "3      3  jack_session_commands_free(jack_session_comman...          True\n",
       "4      4  grow(Stream * s, int newlen, int need)\\n{\\n   ...          True"
      ]
     },
     "execution_count": 25,
     "metadata": {},
     "output_type": "execute_result"
    }
   ],
   "source": [
    "normalized_df.head()"
   ]
  },
  {
   "cell_type": "code",
   "execution_count": 26,
   "metadata": {},
   "outputs": [],
   "source": [
    "normalized_df['type'] = \"CWE_COMBINED\""
   ]
  },
  {
   "cell_type": "code",
   "execution_count": 27,
   "metadata": {},
   "outputs": [
    {
     "data": {
      "text/html": [
       "<div>\n",
       "<style scoped>\n",
       "    .dataframe tbody tr th:only-of-type {\n",
       "        vertical-align: middle;\n",
       "    }\n",
       "\n",
       "    .dataframe tbody tr th {\n",
       "        vertical-align: top;\n",
       "    }\n",
       "\n",
       "    .dataframe thead th {\n",
       "        text-align: right;\n",
       "    }\n",
       "</style>\n",
       "<table border=\"1\" class=\"dataframe\">\n",
       "  <thead>\n",
       "    <tr style=\"text-align: right;\">\n",
       "      <th></th>\n",
       "      <th>index</th>\n",
       "      <th>code</th>\n",
       "      <th>CWE-COMBINED</th>\n",
       "      <th>type</th>\n",
       "    </tr>\n",
       "  </thead>\n",
       "  <tbody>\n",
       "    <tr>\n",
       "      <th>0</th>\n",
       "      <td>0</td>\n",
       "      <td>D_check_map_window(struct Cell_head *wind)\\n{\\...</td>\n",
       "      <td>True</td>\n",
       "      <td>CWE_COMBINED</td>\n",
       "    </tr>\n",
       "    <tr>\n",
       "      <th>1</th>\n",
       "      <td>1</td>\n",
       "      <td>UT_convertDimensionless(const char * sz)\\n{\\n\\...</td>\n",
       "      <td>True</td>\n",
       "      <td>CWE_COMBINED</td>\n",
       "    </tr>\n",
       "    <tr>\n",
       "      <th>2</th>\n",
       "      <td>2</td>\n",
       "      <td>c_escape(output::pointer op, const char *s, in...</td>\n",
       "      <td>True</td>\n",
       "      <td>CWE_COMBINED</td>\n",
       "    </tr>\n",
       "    <tr>\n",
       "      <th>3</th>\n",
       "      <td>3</td>\n",
       "      <td>jack_session_commands_free(jack_session_comman...</td>\n",
       "      <td>True</td>\n",
       "      <td>CWE_COMBINED</td>\n",
       "    </tr>\n",
       "    <tr>\n",
       "      <th>4</th>\n",
       "      <td>4</td>\n",
       "      <td>grow(Stream * s, int newlen, int need)\\n{\\n   ...</td>\n",
       "      <td>True</td>\n",
       "      <td>CWE_COMBINED</td>\n",
       "    </tr>\n",
       "  </tbody>\n",
       "</table>\n",
       "</div>"
      ],
      "text/plain": [
       "   index                                               code  CWE-COMBINED  \\\n",
       "0      0  D_check_map_window(struct Cell_head *wind)\\n{\\...          True   \n",
       "1      1  UT_convertDimensionless(const char * sz)\\n{\\n\\...          True   \n",
       "2      2  c_escape(output::pointer op, const char *s, in...          True   \n",
       "3      3  jack_session_commands_free(jack_session_comman...          True   \n",
       "4      4  grow(Stream * s, int newlen, int need)\\n{\\n   ...          True   \n",
       "\n",
       "           type  \n",
       "0  CWE_COMBINED  \n",
       "1  CWE_COMBINED  \n",
       "2  CWE_COMBINED  \n",
       "3  CWE_COMBINED  \n",
       "4  CWE_COMBINED  "
      ]
     },
     "execution_count": 27,
     "metadata": {},
     "output_type": "execute_result"
    }
   ],
   "source": [
    "normalized_df.head()"
   ]
  },
  {
   "cell_type": "markdown",
   "metadata": {},
   "source": [
    "reorganizing the columns in the dataframe"
   ]
  },
  {
   "cell_type": "code",
   "execution_count": 28,
   "metadata": {},
   "outputs": [],
   "source": [
    "normalized_df.columns = ['testCase_ID', 'code', 'bug', 'type']"
   ]
  },
  {
   "cell_type": "code",
   "execution_count": 29,
   "metadata": {},
   "outputs": [
    {
     "name": "stdout",
     "output_type": "stream",
     "text": [
      "<class 'pandas.core.frame.DataFrame'>\n",
      "RangeIndex: 164822 entries, 0 to 164821\n",
      "Data columns (total 4 columns):\n",
      " #   Column       Non-Null Count   Dtype \n",
      "---  ------       --------------   ----- \n",
      " 0   testCase_ID  164822 non-null  int64 \n",
      " 1   code         164822 non-null  object\n",
      " 2   bug          164822 non-null  bool  \n",
      " 3   type         164822 non-null  object\n",
      "dtypes: bool(1), int64(1), object(2)\n",
      "memory usage: 3.9+ MB\n"
     ]
    }
   ],
   "source": [
    "normalized_df.info()"
   ]
  },
  {
   "cell_type": "code",
   "execution_count": 30,
   "metadata": {},
   "outputs": [],
   "source": [
    "def add_column(row):\n",
    "    testCase_ID = row.testCase_ID\n",
    "\n",
    "    return {\n",
    "        \"filename\": str(testCase_ID) + \"_vdisc.c\"\n",
    "    }"
   ]
  },
  {
   "cell_type": "markdown",
   "metadata": {},
   "source": [
    "Adding a \"filename\" column"
   ]
  },
  {
   "cell_type": "code",
   "execution_count": 31,
   "metadata": {},
   "outputs": [],
   "source": [
    "filename = normalized_df.apply(add_column, axis=1, result_type=\"expand\")"
   ]
  },
  {
   "cell_type": "code",
   "execution_count": 32,
   "metadata": {},
   "outputs": [
    {
     "data": {
      "text/html": [
       "<div>\n",
       "<style scoped>\n",
       "    .dataframe tbody tr th:only-of-type {\n",
       "        vertical-align: middle;\n",
       "    }\n",
       "\n",
       "    .dataframe tbody tr th {\n",
       "        vertical-align: top;\n",
       "    }\n",
       "\n",
       "    .dataframe thead th {\n",
       "        text-align: right;\n",
       "    }\n",
       "</style>\n",
       "<table border=\"1\" class=\"dataframe\">\n",
       "  <thead>\n",
       "    <tr style=\"text-align: right;\">\n",
       "      <th></th>\n",
       "      <th>filename</th>\n",
       "    </tr>\n",
       "  </thead>\n",
       "  <tbody>\n",
       "    <tr>\n",
       "      <th>0</th>\n",
       "      <td>0_vdisc.c</td>\n",
       "    </tr>\n",
       "    <tr>\n",
       "      <th>1</th>\n",
       "      <td>1_vdisc.c</td>\n",
       "    </tr>\n",
       "    <tr>\n",
       "      <th>2</th>\n",
       "      <td>2_vdisc.c</td>\n",
       "    </tr>\n",
       "    <tr>\n",
       "      <th>3</th>\n",
       "      <td>3_vdisc.c</td>\n",
       "    </tr>\n",
       "    <tr>\n",
       "      <th>4</th>\n",
       "      <td>4_vdisc.c</td>\n",
       "    </tr>\n",
       "  </tbody>\n",
       "</table>\n",
       "</div>"
      ],
      "text/plain": [
       "    filename\n",
       "0  0_vdisc.c\n",
       "1  1_vdisc.c\n",
       "2  2_vdisc.c\n",
       "3  3_vdisc.c\n",
       "4  4_vdisc.c"
      ]
     },
     "execution_count": 32,
     "metadata": {},
     "output_type": "execute_result"
    }
   ],
   "source": [
    "filename.head()"
   ]
  },
  {
   "cell_type": "code",
   "execution_count": 33,
   "metadata": {},
   "outputs": [],
   "source": [
    "vdisc_new= normalized_df.insert(1,\"filename\", filename, True)"
   ]
  },
  {
   "cell_type": "code",
   "execution_count": 34,
   "metadata": {},
   "outputs": [
    {
     "data": {
      "text/html": [
       "<div>\n",
       "<style scoped>\n",
       "    .dataframe tbody tr th:only-of-type {\n",
       "        vertical-align: middle;\n",
       "    }\n",
       "\n",
       "    .dataframe tbody tr th {\n",
       "        vertical-align: top;\n",
       "    }\n",
       "\n",
       "    .dataframe thead th {\n",
       "        text-align: right;\n",
       "    }\n",
       "</style>\n",
       "<table border=\"1\" class=\"dataframe\">\n",
       "  <thead>\n",
       "    <tr style=\"text-align: right;\">\n",
       "      <th></th>\n",
       "      <th>testCase_ID</th>\n",
       "      <th>filename</th>\n",
       "      <th>code</th>\n",
       "      <th>bug</th>\n",
       "      <th>type</th>\n",
       "    </tr>\n",
       "  </thead>\n",
       "  <tbody>\n",
       "    <tr>\n",
       "      <th>0</th>\n",
       "      <td>0</td>\n",
       "      <td>0_vdisc.c</td>\n",
       "      <td>D_check_map_window(struct Cell_head *wind)\\n{\\...</td>\n",
       "      <td>True</td>\n",
       "      <td>CWE_COMBINED</td>\n",
       "    </tr>\n",
       "    <tr>\n",
       "      <th>1</th>\n",
       "      <td>1</td>\n",
       "      <td>1_vdisc.c</td>\n",
       "      <td>UT_convertDimensionless(const char * sz)\\n{\\n\\...</td>\n",
       "      <td>True</td>\n",
       "      <td>CWE_COMBINED</td>\n",
       "    </tr>\n",
       "    <tr>\n",
       "      <th>2</th>\n",
       "      <td>2</td>\n",
       "      <td>2_vdisc.c</td>\n",
       "      <td>c_escape(output::pointer op, const char *s, in...</td>\n",
       "      <td>True</td>\n",
       "      <td>CWE_COMBINED</td>\n",
       "    </tr>\n",
       "    <tr>\n",
       "      <th>3</th>\n",
       "      <td>3</td>\n",
       "      <td>3_vdisc.c</td>\n",
       "      <td>jack_session_commands_free(jack_session_comman...</td>\n",
       "      <td>True</td>\n",
       "      <td>CWE_COMBINED</td>\n",
       "    </tr>\n",
       "    <tr>\n",
       "      <th>4</th>\n",
       "      <td>4</td>\n",
       "      <td>4_vdisc.c</td>\n",
       "      <td>grow(Stream * s, int newlen, int need)\\n{\\n   ...</td>\n",
       "      <td>True</td>\n",
       "      <td>CWE_COMBINED</td>\n",
       "    </tr>\n",
       "  </tbody>\n",
       "</table>\n",
       "</div>"
      ],
      "text/plain": [
       "   testCase_ID   filename                                               code  \\\n",
       "0            0  0_vdisc.c  D_check_map_window(struct Cell_head *wind)\\n{\\...   \n",
       "1            1  1_vdisc.c  UT_convertDimensionless(const char * sz)\\n{\\n\\...   \n",
       "2            2  2_vdisc.c  c_escape(output::pointer op, const char *s, in...   \n",
       "3            3  3_vdisc.c  jack_session_commands_free(jack_session_comman...   \n",
       "4            4  4_vdisc.c  grow(Stream * s, int newlen, int need)\\n{\\n   ...   \n",
       "\n",
       "    bug          type  \n",
       "0  True  CWE_COMBINED  \n",
       "1  True  CWE_COMBINED  \n",
       "2  True  CWE_COMBINED  \n",
       "3  True  CWE_COMBINED  \n",
       "4  True  CWE_COMBINED  "
      ]
     },
     "execution_count": 34,
     "metadata": {},
     "output_type": "execute_result"
    }
   ],
   "source": [
    "normalized_df.head()"
   ]
  },
  {
   "cell_type": "markdown",
   "metadata": {},
   "source": [
    "saving the file as CSV"
   ]
  },
  {
   "cell_type": "code",
   "execution_count": 35,
   "metadata": {},
   "outputs": [],
   "source": [
    "normalized_df.to_csv(\"./Dataset/vdisc_CWE_COMBINED.csv.gz\")"
   ]
  }
 ],
 "metadata": {
  "interpreter": {
   "hash": "ed38e45ff0aaff95ccfc69f4fb6b3b80052ffc6235959bf5d9d2fb5b2218aec2"
  },
  "kernelspec": {
   "display_name": "Python 3.8.10 64-bit ('base': conda)",
   "name": "python3"
  },
  "language_info": {
   "codemirror_mode": {
    "name": "ipython",
    "version": 3
   },
   "file_extension": ".py",
   "mimetype": "text/x-python",
   "name": "python",
   "nbconvert_exporter": "python",
   "pygments_lexer": "ipython3",
   "version": "3.8.10"
  }
 },
 "nbformat": 4,
 "nbformat_minor": 2
}