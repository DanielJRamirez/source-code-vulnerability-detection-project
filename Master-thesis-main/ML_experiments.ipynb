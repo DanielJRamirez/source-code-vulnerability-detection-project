{
 "cells": [
  {
   "cell_type": "markdown",
   "metadata": {},
   "source": [
    "This notebook is to train ML models such as SVM and MLP. These models take graph embeddings generated using graph2vec (can be seen under './graph2vec/features/') as well as labels from retrieved balanced subsets in './Dataset/ '"
   ]
  },
  {
   "cell_type": "markdown",
   "metadata": {},
   "source": [
    "## 1) Building and training a SVM "
   ]
  },
  {
   "cell_type": "code",
   "execution_count": 1,
   "metadata": {},
   "outputs": [],
   "source": [
    "import pandas as pd\n",
    "import numpy as np\n",
    "import sklearn\n",
    "from sklearn.model_selection import train_test_split\n",
    "import torch"
   ]
  },
  {
   "cell_type": "code",
   "execution_count": 2,
   "metadata": {},
   "outputs": [],
   "source": [
    "from sklearn.metrics import accuracy_score\n",
    "from sklearn.metrics import precision_score\n",
    "from sklearn.metrics import recall_score\n",
    "from sklearn.metrics import f1_score\n",
    "from sklearn.metrics import roc_curve, roc_auc_score\n",
    "from sklearn.metrics import confusion_matrix\n",
    "from sklearn.metrics import plot_confusion_matrix\n",
    "from sklearn.svm import LinearSVC\n",
    "from sklearn.pipeline import Pipeline\n",
    "from sklearn.preprocessing import StandardScaler\n",
    "import matplotlib.pyplot as plt\n",
    "from matplotlib import rc\n",
    "rc('font',**{'family':'serif','serif':['Palatino'], 'size'   : 24})\n",
    "rc('text', usetex=True)"
   ]
  },
  {
   "cell_type": "code",
   "execution_count": 3,
   "metadata": {},
   "outputs": [],
   "source": [
    "import matplotlib\n",
    "matplotlib.font_manager._rebuild()\n"
   ]
  },
  {
   "cell_type": "code",
   "execution_count": 4,
   "metadata": {},
   "outputs": [],
   "source": [
    "#get labels\n",
    "data = pd.read_csv(\"./Dataset/vdisc_CWE_119.csv.gz\")\n",
    "#get embeddings \n",
    "x= pd.read_csv(\"./graph2vec/features/graphEmbedding_CWE_119.csv\")"
   ]
  },
  {
   "cell_type": "code",
   "execution_count": 5,
   "metadata": {},
   "outputs": [
    {
     "name": "stdout",
     "output_type": "stream",
     "text": [
      "<class 'pandas.core.frame.DataFrame'>\n",
      "RangeIndex: 48314 entries, 0 to 48313\n",
      "Data columns (total 6 columns):\n",
      " #   Column       Non-Null Count  Dtype \n",
      "---  ------       --------------  ----- \n",
      " 0   Unnamed: 0   48314 non-null  int64 \n",
      " 1   testCase_ID  48314 non-null  int64 \n",
      " 2   filename     48314 non-null  object\n",
      " 3   code         48314 non-null  object\n",
      " 4   bug          48314 non-null  bool  \n",
      " 5   type         48314 non-null  object\n",
      "dtypes: bool(1), int64(2), object(3)\n",
      "memory usage: 1.9+ MB\n"
     ]
    }
   ],
   "source": [
    "data.info()"
   ]
  },
  {
   "cell_type": "code",
   "execution_count": 6,
   "metadata": {},
   "outputs": [],
   "source": [
    "y = data.iloc[:,4]"
   ]
  },
  {
   "cell_type": "code",
   "execution_count": 7,
   "metadata": {},
   "outputs": [],
   "source": [
    "y_label = y.iloc[x['type']]"
   ]
  },
  {
   "cell_type": "code",
   "execution_count": 8,
   "metadata": {},
   "outputs": [
    {
     "data": {
      "text/plain": [
       "0    True\n",
       "1    True\n",
       "2    True\n",
       "3    True\n",
       "4    True\n",
       "Name: bug, dtype: bool"
      ]
     },
     "execution_count": 8,
     "metadata": {},
     "output_type": "execute_result"
    }
   ],
   "source": [
    "y_label.head()"
   ]
  },
  {
   "cell_type": "code",
   "execution_count": 9,
   "metadata": {},
   "outputs": [],
   "source": [
    "x = x.drop(columns=\"type\")"
   ]
  },
  {
   "cell_type": "code",
   "execution_count": 10,
   "metadata": {},
   "outputs": [
    {
     "data": {
      "text/html": [
       "<div>\n",
       "<style scoped>\n",
       "    .dataframe tbody tr th:only-of-type {\n",
       "        vertical-align: middle;\n",
       "    }\n",
       "\n",
       "    .dataframe tbody tr th {\n",
       "        vertical-align: top;\n",
       "    }\n",
       "\n",
       "    .dataframe thead th {\n",
       "        text-align: right;\n",
       "    }\n",
       "</style>\n",
       "<table border=\"1\" class=\"dataframe\">\n",
       "  <thead>\n",
       "    <tr style=\"text-align: right;\">\n",
       "      <th></th>\n",
       "      <th>x_0</th>\n",
       "      <th>x_1</th>\n",
       "      <th>x_2</th>\n",
       "      <th>x_3</th>\n",
       "      <th>x_4</th>\n",
       "      <th>x_5</th>\n",
       "      <th>x_6</th>\n",
       "      <th>x_7</th>\n",
       "      <th>x_8</th>\n",
       "      <th>x_9</th>\n",
       "      <th>...</th>\n",
       "      <th>x_118</th>\n",
       "      <th>x_119</th>\n",
       "      <th>x_120</th>\n",
       "      <th>x_121</th>\n",
       "      <th>x_122</th>\n",
       "      <th>x_123</th>\n",
       "      <th>x_124</th>\n",
       "      <th>x_125</th>\n",
       "      <th>x_126</th>\n",
       "      <th>x_127</th>\n",
       "    </tr>\n",
       "  </thead>\n",
       "  <tbody>\n",
       "    <tr>\n",
       "      <th>0</th>\n",
       "      <td>-0.051220</td>\n",
       "      <td>-0.216992</td>\n",
       "      <td>-0.152501</td>\n",
       "      <td>0.247652</td>\n",
       "      <td>0.135584</td>\n",
       "      <td>-0.262947</td>\n",
       "      <td>-0.278204</td>\n",
       "      <td>-0.158894</td>\n",
       "      <td>0.016377</td>\n",
       "      <td>0.237381</td>\n",
       "      <td>...</td>\n",
       "      <td>-0.003988</td>\n",
       "      <td>-0.130687</td>\n",
       "      <td>0.141232</td>\n",
       "      <td>0.116191</td>\n",
       "      <td>0.205981</td>\n",
       "      <td>0.213995</td>\n",
       "      <td>0.182009</td>\n",
       "      <td>-0.110658</td>\n",
       "      <td>0.202499</td>\n",
       "      <td>0.109361</td>\n",
       "    </tr>\n",
       "    <tr>\n",
       "      <th>1</th>\n",
       "      <td>0.066820</td>\n",
       "      <td>-0.218466</td>\n",
       "      <td>-0.060026</td>\n",
       "      <td>0.045488</td>\n",
       "      <td>0.187107</td>\n",
       "      <td>-0.010816</td>\n",
       "      <td>-0.087921</td>\n",
       "      <td>-0.160062</td>\n",
       "      <td>-0.091605</td>\n",
       "      <td>0.273527</td>\n",
       "      <td>...</td>\n",
       "      <td>-0.033533</td>\n",
       "      <td>-0.000664</td>\n",
       "      <td>0.041900</td>\n",
       "      <td>0.100901</td>\n",
       "      <td>0.046852</td>\n",
       "      <td>0.108185</td>\n",
       "      <td>0.150027</td>\n",
       "      <td>-0.131574</td>\n",
       "      <td>0.082503</td>\n",
       "      <td>0.089754</td>\n",
       "    </tr>\n",
       "    <tr>\n",
       "      <th>2</th>\n",
       "      <td>0.103285</td>\n",
       "      <td>-0.168562</td>\n",
       "      <td>-0.103039</td>\n",
       "      <td>0.162417</td>\n",
       "      <td>0.090237</td>\n",
       "      <td>-0.059107</td>\n",
       "      <td>-0.100139</td>\n",
       "      <td>-0.001984</td>\n",
       "      <td>0.010526</td>\n",
       "      <td>0.149694</td>\n",
       "      <td>...</td>\n",
       "      <td>-0.053034</td>\n",
       "      <td>-0.060630</td>\n",
       "      <td>0.086172</td>\n",
       "      <td>0.079937</td>\n",
       "      <td>0.072070</td>\n",
       "      <td>-0.050989</td>\n",
       "      <td>0.100983</td>\n",
       "      <td>-0.041862</td>\n",
       "      <td>0.102133</td>\n",
       "      <td>0.047535</td>\n",
       "    </tr>\n",
       "    <tr>\n",
       "      <th>3</th>\n",
       "      <td>0.087244</td>\n",
       "      <td>-0.106975</td>\n",
       "      <td>-0.086988</td>\n",
       "      <td>0.244181</td>\n",
       "      <td>0.092653</td>\n",
       "      <td>-0.063273</td>\n",
       "      <td>-0.399026</td>\n",
       "      <td>0.112895</td>\n",
       "      <td>-0.128767</td>\n",
       "      <td>0.284334</td>\n",
       "      <td>...</td>\n",
       "      <td>-0.032305</td>\n",
       "      <td>-0.052849</td>\n",
       "      <td>-0.005530</td>\n",
       "      <td>0.043033</td>\n",
       "      <td>0.027237</td>\n",
       "      <td>-0.042379</td>\n",
       "      <td>0.164617</td>\n",
       "      <td>-0.199720</td>\n",
       "      <td>0.180401</td>\n",
       "      <td>0.063029</td>\n",
       "    </tr>\n",
       "    <tr>\n",
       "      <th>4</th>\n",
       "      <td>0.119627</td>\n",
       "      <td>-0.135367</td>\n",
       "      <td>-0.178513</td>\n",
       "      <td>0.087210</td>\n",
       "      <td>0.135977</td>\n",
       "      <td>0.113927</td>\n",
       "      <td>-0.423829</td>\n",
       "      <td>-0.156658</td>\n",
       "      <td>-0.071054</td>\n",
       "      <td>0.285942</td>\n",
       "      <td>...</td>\n",
       "      <td>-0.001151</td>\n",
       "      <td>0.062458</td>\n",
       "      <td>0.188769</td>\n",
       "      <td>0.197469</td>\n",
       "      <td>0.165676</td>\n",
       "      <td>0.067458</td>\n",
       "      <td>0.054947</td>\n",
       "      <td>-0.160134</td>\n",
       "      <td>0.039492</td>\n",
       "      <td>-0.057761</td>\n",
       "    </tr>\n",
       "  </tbody>\n",
       "</table>\n",
       "<p>5 rows × 128 columns</p>\n",
       "</div>"
      ],
      "text/plain": [
       "        x_0       x_1       x_2       x_3       x_4       x_5       x_6  \\\n",
       "0 -0.051220 -0.216992 -0.152501  0.247652  0.135584 -0.262947 -0.278204   \n",
       "1  0.066820 -0.218466 -0.060026  0.045488  0.187107 -0.010816 -0.087921   \n",
       "2  0.103285 -0.168562 -0.103039  0.162417  0.090237 -0.059107 -0.100139   \n",
       "3  0.087244 -0.106975 -0.086988  0.244181  0.092653 -0.063273 -0.399026   \n",
       "4  0.119627 -0.135367 -0.178513  0.087210  0.135977  0.113927 -0.423829   \n",
       "\n",
       "        x_7       x_8       x_9  ...     x_118     x_119     x_120     x_121  \\\n",
       "0 -0.158894  0.016377  0.237381  ... -0.003988 -0.130687  0.141232  0.116191   \n",
       "1 -0.160062 -0.091605  0.273527  ... -0.033533 -0.000664  0.041900  0.100901   \n",
       "2 -0.001984  0.010526  0.149694  ... -0.053034 -0.060630  0.086172  0.079937   \n",
       "3  0.112895 -0.128767  0.284334  ... -0.032305 -0.052849 -0.005530  0.043033   \n",
       "4 -0.156658 -0.071054  0.285942  ... -0.001151  0.062458  0.188769  0.197469   \n",
       "\n",
       "      x_122     x_123     x_124     x_125     x_126     x_127  \n",
       "0  0.205981  0.213995  0.182009 -0.110658  0.202499  0.109361  \n",
       "1  0.046852  0.108185  0.150027 -0.131574  0.082503  0.089754  \n",
       "2  0.072070 -0.050989  0.100983 -0.041862  0.102133  0.047535  \n",
       "3  0.027237 -0.042379  0.164617 -0.199720  0.180401  0.063029  \n",
       "4  0.165676  0.067458  0.054947 -0.160134  0.039492 -0.057761  \n",
       "\n",
       "[5 rows x 128 columns]"
      ]
     },
     "execution_count": 10,
     "metadata": {},
     "output_type": "execute_result"
    }
   ],
   "source": [
    "x.head()"
   ]
  },
  {
   "cell_type": "markdown",
   "metadata": {},
   "source": [
    "Splitting up the dataset into 80% train and 10 % test subsets"
   ]
  },
  {
   "cell_type": "code",
   "execution_count": 11,
   "metadata": {},
   "outputs": [],
   "source": [
    "x_train, x_test, y_train, y_test = train_test_split(x, y_label, test_size = 0.1, random_state = 42)"
   ]
  },
  {
   "cell_type": "code",
   "execution_count": 12,
   "metadata": {},
   "outputs": [
    {
     "data": {
      "text/plain": [
       "(43482,)"
      ]
     },
     "execution_count": 12,
     "metadata": {},
     "output_type": "execute_result"
    }
   ],
   "source": [
    "y_train.shape"
   ]
  },
  {
   "cell_type": "code",
   "execution_count": 13,
   "metadata": {},
   "outputs": [
    {
     "data": {
      "text/plain": [
       "(4832,)"
      ]
     },
     "execution_count": 13,
     "metadata": {},
     "output_type": "execute_result"
    }
   ],
   "source": [
    "y_test.shape"
   ]
  },
  {
   "cell_type": "code",
   "execution_count": 14,
   "metadata": {},
   "outputs": [
    {
     "data": {
      "text/plain": [
       "(43482, 128)"
      ]
     },
     "execution_count": 14,
     "metadata": {},
     "output_type": "execute_result"
    }
   ],
   "source": [
    "x_train.shape"
   ]
  },
  {
   "cell_type": "markdown",
   "metadata": {},
   "source": [
    "Training a linear SVM with default parameters"
   ]
  },
  {
   "cell_type": "code",
   "execution_count": 15,
   "metadata": {},
   "outputs": [
    {
     "name": "stderr",
     "output_type": "stream",
     "text": [
      "/home/feras/anaconda3/lib/python3.8/site-packages/sklearn/svm/_base.py:985: ConvergenceWarning: Liblinear failed to converge, increase the number of iterations.\n",
      "  warnings.warn(\"Liblinear failed to converge, increase \"\n"
     ]
    },
    {
     "data": {
      "text/plain": [
       "Pipeline(steps=[('scaler', StandardScaler()),\n",
       "                ('linear_svc', LinearSVC(C=1, loss='hinge'))])"
      ]
     },
     "execution_count": 15,
     "metadata": {},
     "output_type": "execute_result"
    }
   ],
   "source": [
    "svm_clf = Pipeline((\n",
    " (\"scaler\", StandardScaler()),\n",
    " (\"linear_svc\", LinearSVC(C=1, loss=\"hinge\")),\n",
    " ))\n",
    "svm_clf.fit(x_train, y_train)"
   ]
  },
  {
   "cell_type": "code",
   "execution_count": 16,
   "metadata": {},
   "outputs": [],
   "source": [
    "y_pred_svm=svm_clf.predict(x_test)"
   ]
  },
  {
   "cell_type": "markdown",
   "metadata": {},
   "source": [
    "Plotting the cofusion matrix and performance metrics"
   ]
  },
  {
   "cell_type": "code",
   "execution_count": 17,
   "metadata": {},
   "outputs": [
    {
     "data": {
      "image/png": "[encoded data removed]",
      "text/plain": [
       "<Figure size 432x288 with 2 Axes>"
      ]
     },
     "metadata": {
      "needs_background": "light"
     },
     "output_type": "display_data"
    },
    {
     "name": "stdout",
     "output_type": "stream",
     "text": [
      " Accuracy : 0.7019867549668874 \n",
      " Precision : 0.6949838187702265 \n",
      " Recall : 0.7146422628951747 \n",
      " F1 : 0.70467596390484 \n"
     ]
    }
   ],
   "source": [
    "confusion_matrix(y_test, y_pred_svm)\n",
    "plot_confusion_matrix(svm_clf, x_test, y_test)  \n",
    "plt.show()\n",
    "accuracy= accuracy_score(y_test, y_pred_svm)\n",
    "precision= precision_score(y_test, y_pred_svm, zero_division=1)\n",
    "recall= recall_score(y_test, y_pred_svm, zero_division=1)\n",
    "F1= f1_score(y_test,y_pred_svm, zero_division=1)\n",
    "print(\" Accuracy : {0} \\n Precision : {1} \\n Recall : {2} \\n F1 : {3} \".format(accuracy, precision, recall,F1, ))"
   ]
  },
  {
   "cell_type": "markdown",
   "metadata": {},
   "source": [
    "## 2) Implementing MLP"
   ]
  },
  {
   "cell_type": "code",
   "execution_count": 3,
   "metadata": {},
   "outputs": [],
   "source": [
    "# Get labels\n",
    "data = pd.read_csv(\"./Dataset/vdisc_CWE_119.csv.gz\") \n",
    "#Get embeddings\n",
    "x= pd.read_csv(\"./graph2vec/features/graphEmbedding_CWE_119.csv\")"
   ]
  },
  {
   "cell_type": "code",
   "execution_count": 4,
   "metadata": {},
   "outputs": [],
   "source": [
    "#convert true false values into integers\n",
    "data[\"bug\"] = data[\"bug\"].astype(int)"
   ]
  },
  {
   "cell_type": "code",
   "execution_count": 5,
   "metadata": {},
   "outputs": [
    {
     "data": {
      "text/html": [
       "<div>\n",
       "<style scoped>\n",
       "    .dataframe tbody tr th:only-of-type {\n",
       "        vertical-align: middle;\n",
       "    }\n",
       "\n",
       "    .dataframe tbody tr th {\n",
       "        vertical-align: top;\n",
       "    }\n",
       "\n",
       "    .dataframe thead th {\n",
       "        text-align: right;\n",
       "    }\n",
       "</style>\n",
       "<table border=\"1\" class=\"dataframe\">\n",
       "  <thead>\n",
       "    <tr style=\"text-align: right;\">\n",
       "      <th></th>\n",
       "      <th>Unnamed: 0</th>\n",
       "      <th>testCase_ID</th>\n",
       "      <th>filename</th>\n",
       "      <th>code</th>\n",
       "      <th>bug</th>\n",
       "      <th>type</th>\n",
       "    </tr>\n",
       "  </thead>\n",
       "  <tbody>\n",
       "    <tr>\n",
       "      <th>0</th>\n",
       "      <td>0</td>\n",
       "      <td>0</td>\n",
       "      <td>0_vdisc.c</td>\n",
       "      <td>CDE_create_path_symlink_dirs() {\\n  char *p;\\n...</td>\n",
       "      <td>1</td>\n",
       "      <td>CWE_119</td>\n",
       "    </tr>\n",
       "    <tr>\n",
       "      <th>1</th>\n",
       "      <td>1</td>\n",
       "      <td>1</td>\n",
       "      <td>1_vdisc.c</td>\n",
       "      <td>gperror(unsigned int code,\\n\\t     char *messa...</td>\n",
       "      <td>1</td>\n",
       "      <td>CWE_119</td>\n",
       "    </tr>\n",
       "    <tr>\n",
       "      <th>2</th>\n",
       "      <td>2</td>\n",
       "      <td>2</td>\n",
       "      <td>2_vdisc.c</td>\n",
       "      <td>test_date_rfc2822__format_rfc2822_positive_off...</td>\n",
       "      <td>1</td>\n",
       "      <td>CWE_119</td>\n",
       "    </tr>\n",
       "    <tr>\n",
       "      <th>3</th>\n",
       "      <td>3</td>\n",
       "      <td>3</td>\n",
       "      <td>3_vdisc.c</td>\n",
       "      <td>toggle_cb (GtkWidget *item, char *pref_name)\\n...</td>\n",
       "      <td>1</td>\n",
       "      <td>CWE_119</td>\n",
       "    </tr>\n",
       "    <tr>\n",
       "      <th>4</th>\n",
       "      <td>4</td>\n",
       "      <td>4</td>\n",
       "      <td>4_vdisc.c</td>\n",
       "      <td>fixgrid34(NCDAPCOMMON* nccomm, CDFnode* grid)\\...</td>\n",
       "      <td>1</td>\n",
       "      <td>CWE_119</td>\n",
       "    </tr>\n",
       "  </tbody>\n",
       "</table>\n",
       "</div>"
      ],
      "text/plain": [
       "   Unnamed: 0  testCase_ID   filename  \\\n",
       "0           0            0  0_vdisc.c   \n",
       "1           1            1  1_vdisc.c   \n",
       "2           2            2  2_vdisc.c   \n",
       "3           3            3  3_vdisc.c   \n",
       "4           4            4  4_vdisc.c   \n",
       "\n",
       "                                                code  bug     type  \n",
       "0  CDE_create_path_symlink_dirs() {\\n  char *p;\\n...    1  CWE_119  \n",
       "1  gperror(unsigned int code,\\n\\t     char *messa...    1  CWE_119  \n",
       "2  test_date_rfc2822__format_rfc2822_positive_off...    1  CWE_119  \n",
       "3  toggle_cb (GtkWidget *item, char *pref_name)\\n...    1  CWE_119  \n",
       "4  fixgrid34(NCDAPCOMMON* nccomm, CDFnode* grid)\\...    1  CWE_119  "
      ]
     },
     "execution_count": 5,
     "metadata": {},
     "output_type": "execute_result"
    }
   ],
   "source": [
    "data.head()"
   ]
  },
  {
   "cell_type": "code",
   "execution_count": 6,
   "metadata": {},
   "outputs": [
    {
     "name": "stdout",
     "output_type": "stream",
     "text": [
      "<class 'pandas.core.frame.DataFrame'>\n",
      "RangeIndex: 48314 entries, 0 to 48313\n",
      "Data columns (total 6 columns):\n",
      " #   Column       Non-Null Count  Dtype \n",
      "---  ------       --------------  ----- \n",
      " 0   Unnamed: 0   48314 non-null  int64 \n",
      " 1   testCase_ID  48314 non-null  int64 \n",
      " 2   filename     48314 non-null  object\n",
      " 3   code         48314 non-null  object\n",
      " 4   bug          48314 non-null  int64 \n",
      " 5   type         48314 non-null  object\n",
      "dtypes: int64(3), object(3)\n",
      "memory usage: 2.2+ MB\n"
     ]
    }
   ],
   "source": [
    "data.info()"
   ]
  },
  {
   "cell_type": "code",
   "execution_count": 7,
   "metadata": {},
   "outputs": [],
   "source": [
    "y = data.iloc[:,4]"
   ]
  },
  {
   "cell_type": "code",
   "execution_count": 8,
   "metadata": {},
   "outputs": [
    {
     "data": {
      "text/plain": [
       "0    1\n",
       "1    1\n",
       "2    1\n",
       "3    1\n",
       "4    1\n",
       "Name: bug, dtype: int64"
      ]
     },
     "execution_count": 8,
     "metadata": {},
     "output_type": "execute_result"
    }
   ],
   "source": [
    "y.head()"
   ]
  },
  {
   "cell_type": "code",
   "execution_count": 9,
   "metadata": {},
   "outputs": [
    {
     "data": {
      "text/html": [
       "<div>\n",
       "<style scoped>\n",
       "    .dataframe tbody tr th:only-of-type {\n",
       "        vertical-align: middle;\n",
       "    }\n",
       "\n",
       "    .dataframe tbody tr th {\n",
       "        vertical-align: top;\n",
       "    }\n",
       "\n",
       "    .dataframe thead th {\n",
       "        text-align: right;\n",
       "    }\n",
       "</style>\n",
       "<table border=\"1\" class=\"dataframe\">\n",
       "  <thead>\n",
       "    <tr style=\"text-align: right;\">\n",
       "      <th></th>\n",
       "      <th>type</th>\n",
       "      <th>x_0</th>\n",
       "      <th>x_1</th>\n",
       "      <th>x_2</th>\n",
       "      <th>x_3</th>\n",
       "      <th>x_4</th>\n",
       "      <th>x_5</th>\n",
       "      <th>x_6</th>\n",
       "      <th>x_7</th>\n",
       "      <th>x_8</th>\n",
       "      <th>...</th>\n",
       "      <th>x_118</th>\n",
       "      <th>x_119</th>\n",
       "      <th>x_120</th>\n",
       "      <th>x_121</th>\n",
       "      <th>x_122</th>\n",
       "      <th>x_123</th>\n",
       "      <th>x_124</th>\n",
       "      <th>x_125</th>\n",
       "      <th>x_126</th>\n",
       "      <th>x_127</th>\n",
       "    </tr>\n",
       "  </thead>\n",
       "  <tbody>\n",
       "    <tr>\n",
       "      <th>0</th>\n",
       "      <td>0</td>\n",
       "      <td>-0.051220</td>\n",
       "      <td>-0.216992</td>\n",
       "      <td>-0.152501</td>\n",
       "      <td>0.247652</td>\n",
       "      <td>0.135584</td>\n",
       "      <td>-0.262947</td>\n",
       "      <td>-0.278204</td>\n",
       "      <td>-0.158894</td>\n",
       "      <td>0.016377</td>\n",
       "      <td>...</td>\n",
       "      <td>-0.003988</td>\n",
       "      <td>-0.130687</td>\n",
       "      <td>0.141232</td>\n",
       "      <td>0.116191</td>\n",
       "      <td>0.205981</td>\n",
       "      <td>0.213995</td>\n",
       "      <td>0.182009</td>\n",
       "      <td>-0.110658</td>\n",
       "      <td>0.202499</td>\n",
       "      <td>0.109361</td>\n",
       "    </tr>\n",
       "    <tr>\n",
       "      <th>1</th>\n",
       "      <td>1</td>\n",
       "      <td>0.066820</td>\n",
       "      <td>-0.218466</td>\n",
       "      <td>-0.060026</td>\n",
       "      <td>0.045488</td>\n",
       "      <td>0.187107</td>\n",
       "      <td>-0.010816</td>\n",
       "      <td>-0.087921</td>\n",
       "      <td>-0.160062</td>\n",
       "      <td>-0.091605</td>\n",
       "      <td>...</td>\n",
       "      <td>-0.033533</td>\n",
       "      <td>-0.000664</td>\n",
       "      <td>0.041900</td>\n",
       "      <td>0.100901</td>\n",
       "      <td>0.046852</td>\n",
       "      <td>0.108185</td>\n",
       "      <td>0.150027</td>\n",
       "      <td>-0.131574</td>\n",
       "      <td>0.082503</td>\n",
       "      <td>0.089754</td>\n",
       "    </tr>\n",
       "    <tr>\n",
       "      <th>2</th>\n",
       "      <td>2</td>\n",
       "      <td>0.103285</td>\n",
       "      <td>-0.168562</td>\n",
       "      <td>-0.103039</td>\n",
       "      <td>0.162417</td>\n",
       "      <td>0.090237</td>\n",
       "      <td>-0.059107</td>\n",
       "      <td>-0.100139</td>\n",
       "      <td>-0.001984</td>\n",
       "      <td>0.010526</td>\n",
       "      <td>...</td>\n",
       "      <td>-0.053034</td>\n",
       "      <td>-0.060630</td>\n",
       "      <td>0.086172</td>\n",
       "      <td>0.079937</td>\n",
       "      <td>0.072070</td>\n",
       "      <td>-0.050989</td>\n",
       "      <td>0.100983</td>\n",
       "      <td>-0.041862</td>\n",
       "      <td>0.102133</td>\n",
       "      <td>0.047535</td>\n",
       "    </tr>\n",
       "    <tr>\n",
       "      <th>3</th>\n",
       "      <td>3</td>\n",
       "      <td>0.087244</td>\n",
       "      <td>-0.106975</td>\n",
       "      <td>-0.086988</td>\n",
       "      <td>0.244181</td>\n",
       "      <td>0.092653</td>\n",
       "      <td>-0.063273</td>\n",
       "      <td>-0.399026</td>\n",
       "      <td>0.112895</td>\n",
       "      <td>-0.128767</td>\n",
       "      <td>...</td>\n",
       "      <td>-0.032305</td>\n",
       "      <td>-0.052849</td>\n",
       "      <td>-0.005530</td>\n",
       "      <td>0.043033</td>\n",
       "      <td>0.027237</td>\n",
       "      <td>-0.042379</td>\n",
       "      <td>0.164617</td>\n",
       "      <td>-0.199720</td>\n",
       "      <td>0.180401</td>\n",
       "      <td>0.063029</td>\n",
       "    </tr>\n",
       "    <tr>\n",
       "      <th>4</th>\n",
       "      <td>4</td>\n",
       "      <td>0.119627</td>\n",
       "      <td>-0.135367</td>\n",
       "      <td>-0.178513</td>\n",
       "      <td>0.087210</td>\n",
       "      <td>0.135977</td>\n",
       "      <td>0.113927</td>\n",
       "      <td>-0.423829</td>\n",
       "      <td>-0.156658</td>\n",
       "      <td>-0.071054</td>\n",
       "      <td>...</td>\n",
       "      <td>-0.001151</td>\n",
       "      <td>0.062458</td>\n",
       "      <td>0.188769</td>\n",
       "      <td>0.197469</td>\n",
       "      <td>0.165676</td>\n",
       "      <td>0.067458</td>\n",
       "      <td>0.054947</td>\n",
       "      <td>-0.160134</td>\n",
       "      <td>0.039492</td>\n",
       "      <td>-0.057761</td>\n",
       "    </tr>\n",
       "  </tbody>\n",
       "</table>\n",
       "<p>5 rows × 129 columns</p>\n",
       "</div>"
      ],
      "text/plain": [
       "   type       x_0       x_1       x_2       x_3       x_4       x_5       x_6  \\\n",
       "0     0 -0.051220 -0.216992 -0.152501  0.247652  0.135584 -0.262947 -0.278204   \n",
       "1     1  0.066820 -0.218466 -0.060026  0.045488  0.187107 -0.010816 -0.087921   \n",
       "2     2  0.103285 -0.168562 -0.103039  0.162417  0.090237 -0.059107 -0.100139   \n",
       "3     3  0.087244 -0.106975 -0.086988  0.244181  0.092653 -0.063273 -0.399026   \n",
       "4     4  0.119627 -0.135367 -0.178513  0.087210  0.135977  0.113927 -0.423829   \n",
       "\n",
       "        x_7       x_8  ...     x_118     x_119     x_120     x_121     x_122  \\\n",
       "0 -0.158894  0.016377  ... -0.003988 -0.130687  0.141232  0.116191  0.205981   \n",
       "1 -0.160062 -0.091605  ... -0.033533 -0.000664  0.041900  0.100901  0.046852   \n",
       "2 -0.001984  0.010526  ... -0.053034 -0.060630  0.086172  0.079937  0.072070   \n",
       "3  0.112895 -0.128767  ... -0.032305 -0.052849 -0.005530  0.043033  0.027237   \n",
       "4 -0.156658 -0.071054  ... -0.001151  0.062458  0.188769  0.197469  0.165676   \n",
       "\n",
       "      x_123     x_124     x_125     x_126     x_127  \n",
       "0  0.213995  0.182009 -0.110658  0.202499  0.109361  \n",
       "1  0.108185  0.150027 -0.131574  0.082503  0.089754  \n",
       "2 -0.050989  0.100983 -0.041862  0.102133  0.047535  \n",
       "3 -0.042379  0.164617 -0.199720  0.180401  0.063029  \n",
       "4  0.067458  0.054947 -0.160134  0.039492 -0.057761  \n",
       "\n",
       "[5 rows x 129 columns]"
      ]
     },
     "execution_count": 9,
     "metadata": {},
     "output_type": "execute_result"
    }
   ],
   "source": [
    "x.head()"
   ]
  },
  {
   "cell_type": "code",
   "execution_count": 10,
   "metadata": {},
   "outputs": [],
   "source": [
    "y_label = y.iloc[x['type']]"
   ]
  },
  {
   "cell_type": "code",
   "execution_count": 11,
   "metadata": {},
   "outputs": [
    {
     "data": {
      "text/plain": [
       "0    1\n",
       "1    1\n",
       "2    1\n",
       "3    1\n",
       "4    1\n",
       "Name: bug, dtype: int64"
      ]
     },
     "execution_count": 11,
     "metadata": {},
     "output_type": "execute_result"
    }
   ],
   "source": [
    "y_label.head()"
   ]
  },
  {
   "cell_type": "code",
   "execution_count": 12,
   "metadata": {},
   "outputs": [],
   "source": [
    "x = x.drop(columns=\"type\")"
   ]
  },
  {
   "cell_type": "code",
   "execution_count": 13,
   "metadata": {},
   "outputs": [
    {
     "data": {
      "text/html": [
       "<div>\n",
       "<style scoped>\n",
       "    .dataframe tbody tr th:only-of-type {\n",
       "        vertical-align: middle;\n",
       "    }\n",
       "\n",
       "    .dataframe tbody tr th {\n",
       "        vertical-align: top;\n",
       "    }\n",
       "\n",
       "    .dataframe thead th {\n",
       "        text-align: right;\n",
       "    }\n",
       "</style>\n",
       "<table border=\"1\" class=\"dataframe\">\n",
       "  <thead>\n",
       "    <tr style=\"text-align: right;\">\n",
       "      <th></th>\n",
       "      <th>x_0</th>\n",
       "      <th>x_1</th>\n",
       "      <th>x_2</th>\n",
       "      <th>x_3</th>\n",
       "      <th>x_4</th>\n",
       "      <th>x_5</th>\n",
       "      <th>x_6</th>\n",
       "      <th>x_7</th>\n",
       "      <th>x_8</th>\n",
       "      <th>x_9</th>\n",
       "      <th>...</th>\n",
       "      <th>x_118</th>\n",
       "      <th>x_119</th>\n",
       "      <th>x_120</th>\n",
       "      <th>x_121</th>\n",
       "      <th>x_122</th>\n",
       "      <th>x_123</th>\n",
       "      <th>x_124</th>\n",
       "      <th>x_125</th>\n",
       "      <th>x_126</th>\n",
       "      <th>x_127</th>\n",
       "    </tr>\n",
       "  </thead>\n",
       "  <tbody>\n",
       "    <tr>\n",
       "      <th>0</th>\n",
       "      <td>-0.051220</td>\n",
       "      <td>-0.216992</td>\n",
       "      <td>-0.152501</td>\n",
       "      <td>0.247652</td>\n",
       "      <td>0.135584</td>\n",
       "      <td>-0.262947</td>\n",
       "      <td>-0.278204</td>\n",
       "      <td>-0.158894</td>\n",
       "      <td>0.016377</td>\n",
       "      <td>0.237381</td>\n",
       "      <td>...</td>\n",
       "      <td>-0.003988</td>\n",
       "      <td>-0.130687</td>\n",
       "      <td>0.141232</td>\n",
       "      <td>0.116191</td>\n",
       "      <td>0.205981</td>\n",
       "      <td>0.213995</td>\n",
       "      <td>0.182009</td>\n",
       "      <td>-0.110658</td>\n",
       "      <td>0.202499</td>\n",
       "      <td>0.109361</td>\n",
       "    </tr>\n",
       "    <tr>\n",
       "      <th>1</th>\n",
       "      <td>0.066820</td>\n",
       "      <td>-0.218466</td>\n",
       "      <td>-0.060026</td>\n",
       "      <td>0.045488</td>\n",
       "      <td>0.187107</td>\n",
       "      <td>-0.010816</td>\n",
       "      <td>-0.087921</td>\n",
       "      <td>-0.160062</td>\n",
       "      <td>-0.091605</td>\n",
       "      <td>0.273527</td>\n",
       "      <td>...</td>\n",
       "      <td>-0.033533</td>\n",
       "      <td>-0.000664</td>\n",
       "      <td>0.041900</td>\n",
       "      <td>0.100901</td>\n",
       "      <td>0.046852</td>\n",
       "      <td>0.108185</td>\n",
       "      <td>0.150027</td>\n",
       "      <td>-0.131574</td>\n",
       "      <td>0.082503</td>\n",
       "      <td>0.089754</td>\n",
       "    </tr>\n",
       "    <tr>\n",
       "      <th>2</th>\n",
       "      <td>0.103285</td>\n",
       "      <td>-0.168562</td>\n",
       "      <td>-0.103039</td>\n",
       "      <td>0.162417</td>\n",
       "      <td>0.090237</td>\n",
       "      <td>-0.059107</td>\n",
       "      <td>-0.100139</td>\n",
       "      <td>-0.001984</td>\n",
       "      <td>0.010526</td>\n",
       "      <td>0.149694</td>\n",
       "      <td>...</td>\n",
       "      <td>-0.053034</td>\n",
       "      <td>-0.060630</td>\n",
       "      <td>0.086172</td>\n",
       "      <td>0.079937</td>\n",
       "      <td>0.072070</td>\n",
       "      <td>-0.050989</td>\n",
       "      <td>0.100983</td>\n",
       "      <td>-0.041862</td>\n",
       "      <td>0.102133</td>\n",
       "      <td>0.047535</td>\n",
       "    </tr>\n",
       "    <tr>\n",
       "      <th>3</th>\n",
       "      <td>0.087244</td>\n",
       "      <td>-0.106975</td>\n",
       "      <td>-0.086988</td>\n",
       "      <td>0.244181</td>\n",
       "      <td>0.092653</td>\n",
       "      <td>-0.063273</td>\n",
       "      <td>-0.399026</td>\n",
       "      <td>0.112895</td>\n",
       "      <td>-0.128767</td>\n",
       "      <td>0.284334</td>\n",
       "      <td>...</td>\n",
       "      <td>-0.032305</td>\n",
       "      <td>-0.052849</td>\n",
       "      <td>-0.005530</td>\n",
       "      <td>0.043033</td>\n",
       "      <td>0.027237</td>\n",
       "      <td>-0.042379</td>\n",
       "      <td>0.164617</td>\n",
       "      <td>-0.199720</td>\n",
       "      <td>0.180401</td>\n",
       "      <td>0.063029</td>\n",
       "    </tr>\n",
       "    <tr>\n",
       "      <th>4</th>\n",
       "      <td>0.119627</td>\n",
       "      <td>-0.135367</td>\n",
       "      <td>-0.178513</td>\n",
       "      <td>0.087210</td>\n",
       "      <td>0.135977</td>\n",
       "      <td>0.113927</td>\n",
       "      <td>-0.423829</td>\n",
       "      <td>-0.156658</td>\n",
       "      <td>-0.071054</td>\n",
       "      <td>0.285942</td>\n",
       "      <td>...</td>\n",
       "      <td>-0.001151</td>\n",
       "      <td>0.062458</td>\n",
       "      <td>0.188769</td>\n",
       "      <td>0.197469</td>\n",
       "      <td>0.165676</td>\n",
       "      <td>0.067458</td>\n",
       "      <td>0.054947</td>\n",
       "      <td>-0.160134</td>\n",
       "      <td>0.039492</td>\n",
       "      <td>-0.057761</td>\n",
       "    </tr>\n",
       "  </tbody>\n",
       "</table>\n",
       "<p>5 rows × 128 columns</p>\n",
       "</div>"
      ],
      "text/plain": [
       "        x_0       x_1       x_2       x_3       x_4       x_5       x_6  \\\n",
       "0 -0.051220 -0.216992 -0.152501  0.247652  0.135584 -0.262947 -0.278204   \n",
       "1  0.066820 -0.218466 -0.060026  0.045488  0.187107 -0.010816 -0.087921   \n",
       "2  0.103285 -0.168562 -0.103039  0.162417  0.090237 -0.059107 -0.100139   \n",
       "3  0.087244 -0.106975 -0.086988  0.244181  0.092653 -0.063273 -0.399026   \n",
       "4  0.119627 -0.135367 -0.178513  0.087210  0.135977  0.113927 -0.423829   \n",
       "\n",
       "        x_7       x_8       x_9  ...     x_118     x_119     x_120     x_121  \\\n",
       "0 -0.158894  0.016377  0.237381  ... -0.003988 -0.130687  0.141232  0.116191   \n",
       "1 -0.160062 -0.091605  0.273527  ... -0.033533 -0.000664  0.041900  0.100901   \n",
       "2 -0.001984  0.010526  0.149694  ... -0.053034 -0.060630  0.086172  0.079937   \n",
       "3  0.112895 -0.128767  0.284334  ... -0.032305 -0.052849 -0.005530  0.043033   \n",
       "4 -0.156658 -0.071054  0.285942  ... -0.001151  0.062458  0.188769  0.197469   \n",
       "\n",
       "      x_122     x_123     x_124     x_125     x_126     x_127  \n",
       "0  0.205981  0.213995  0.182009 -0.110658  0.202499  0.109361  \n",
       "1  0.046852  0.108185  0.150027 -0.131574  0.082503  0.089754  \n",
       "2  0.072070 -0.050989  0.100983 -0.041862  0.102133  0.047535  \n",
       "3  0.027237 -0.042379  0.164617 -0.199720  0.180401  0.063029  \n",
       "4  0.165676  0.067458  0.054947 -0.160134  0.039492 -0.057761  \n",
       "\n",
       "[5 rows x 128 columns]"
      ]
     },
     "execution_count": 13,
     "metadata": {},
     "output_type": "execute_result"
    }
   ],
   "source": [
    "x.head()"
   ]
  },
  {
   "cell_type": "code",
   "execution_count": 14,
   "metadata": {},
   "outputs": [],
   "source": [
    "dataset = x.join(y_label)"
   ]
  },
  {
   "cell_type": "code",
   "execution_count": 15,
   "metadata": {},
   "outputs": [
    {
     "name": "stdout",
     "output_type": "stream",
     "text": [
      "<class 'pandas.core.frame.DataFrame'>\n",
      "RangeIndex: 48314 entries, 0 to 48313\n",
      "Columns: 129 entries, x_0 to bug\n",
      "dtypes: float64(128), int64(1)\n",
      "memory usage: 47.6 MB\n"
     ]
    }
   ],
   "source": [
    "dataset.info()"
   ]
  },
  {
   "cell_type": "code",
   "execution_count": 16,
   "metadata": {},
   "outputs": [
    {
     "data": {
      "text/html": [
       "<div>\n",
       "<style scoped>\n",
       "    .dataframe tbody tr th:only-of-type {\n",
       "        vertical-align: middle;\n",
       "    }\n",
       "\n",
       "    .dataframe tbody tr th {\n",
       "        vertical-align: top;\n",
       "    }\n",
       "\n",
       "    .dataframe thead th {\n",
       "        text-align: right;\n",
       "    }\n",
       "</style>\n",
       "<table border=\"1\" class=\"dataframe\">\n",
       "  <thead>\n",
       "    <tr style=\"text-align: right;\">\n",
       "      <th></th>\n",
       "      <th>x_0</th>\n",
       "      <th>x_1</th>\n",
       "      <th>x_2</th>\n",
       "      <th>x_3</th>\n",
       "      <th>x_4</th>\n",
       "      <th>x_5</th>\n",
       "      <th>x_6</th>\n",
       "      <th>x_7</th>\n",
       "      <th>x_8</th>\n",
       "      <th>x_9</th>\n",
       "      <th>...</th>\n",
       "      <th>x_119</th>\n",
       "      <th>x_120</th>\n",
       "      <th>x_121</th>\n",
       "      <th>x_122</th>\n",
       "      <th>x_123</th>\n",
       "      <th>x_124</th>\n",
       "      <th>x_125</th>\n",
       "      <th>x_126</th>\n",
       "      <th>x_127</th>\n",
       "      <th>bug</th>\n",
       "    </tr>\n",
       "  </thead>\n",
       "  <tbody>\n",
       "    <tr>\n",
       "      <th>0</th>\n",
       "      <td>-0.051220</td>\n",
       "      <td>-0.216992</td>\n",
       "      <td>-0.152501</td>\n",
       "      <td>0.247652</td>\n",
       "      <td>0.135584</td>\n",
       "      <td>-0.262947</td>\n",
       "      <td>-0.278204</td>\n",
       "      <td>-0.158894</td>\n",
       "      <td>0.016377</td>\n",
       "      <td>0.237381</td>\n",
       "      <td>...</td>\n",
       "      <td>-0.130687</td>\n",
       "      <td>0.141232</td>\n",
       "      <td>0.116191</td>\n",
       "      <td>0.205981</td>\n",
       "      <td>0.213995</td>\n",
       "      <td>0.182009</td>\n",
       "      <td>-0.110658</td>\n",
       "      <td>0.202499</td>\n",
       "      <td>0.109361</td>\n",
       "      <td>1</td>\n",
       "    </tr>\n",
       "    <tr>\n",
       "      <th>1</th>\n",
       "      <td>0.066820</td>\n",
       "      <td>-0.218466</td>\n",
       "      <td>-0.060026</td>\n",
       "      <td>0.045488</td>\n",
       "      <td>0.187107</td>\n",
       "      <td>-0.010816</td>\n",
       "      <td>-0.087921</td>\n",
       "      <td>-0.160062</td>\n",
       "      <td>-0.091605</td>\n",
       "      <td>0.273527</td>\n",
       "      <td>...</td>\n",
       "      <td>-0.000664</td>\n",
       "      <td>0.041900</td>\n",
       "      <td>0.100901</td>\n",
       "      <td>0.046852</td>\n",
       "      <td>0.108185</td>\n",
       "      <td>0.150027</td>\n",
       "      <td>-0.131574</td>\n",
       "      <td>0.082503</td>\n",
       "      <td>0.089754</td>\n",
       "      <td>1</td>\n",
       "    </tr>\n",
       "    <tr>\n",
       "      <th>2</th>\n",
       "      <td>0.103285</td>\n",
       "      <td>-0.168562</td>\n",
       "      <td>-0.103039</td>\n",
       "      <td>0.162417</td>\n",
       "      <td>0.090237</td>\n",
       "      <td>-0.059107</td>\n",
       "      <td>-0.100139</td>\n",
       "      <td>-0.001984</td>\n",
       "      <td>0.010526</td>\n",
       "      <td>0.149694</td>\n",
       "      <td>...</td>\n",
       "      <td>-0.060630</td>\n",
       "      <td>0.086172</td>\n",
       "      <td>0.079937</td>\n",
       "      <td>0.072070</td>\n",
       "      <td>-0.050989</td>\n",
       "      <td>0.100983</td>\n",
       "      <td>-0.041862</td>\n",
       "      <td>0.102133</td>\n",
       "      <td>0.047535</td>\n",
       "      <td>1</td>\n",
       "    </tr>\n",
       "    <tr>\n",
       "      <th>3</th>\n",
       "      <td>0.087244</td>\n",
       "      <td>-0.106975</td>\n",
       "      <td>-0.086988</td>\n",
       "      <td>0.244181</td>\n",
       "      <td>0.092653</td>\n",
       "      <td>-0.063273</td>\n",
       "      <td>-0.399026</td>\n",
       "      <td>0.112895</td>\n",
       "      <td>-0.128767</td>\n",
       "      <td>0.284334</td>\n",
       "      <td>...</td>\n",
       "      <td>-0.052849</td>\n",
       "      <td>-0.005530</td>\n",
       "      <td>0.043033</td>\n",
       "      <td>0.027237</td>\n",
       "      <td>-0.042379</td>\n",
       "      <td>0.164617</td>\n",
       "      <td>-0.199720</td>\n",
       "      <td>0.180401</td>\n",
       "      <td>0.063029</td>\n",
       "      <td>1</td>\n",
       "    </tr>\n",
       "    <tr>\n",
       "      <th>4</th>\n",
       "      <td>0.119627</td>\n",
       "      <td>-0.135367</td>\n",
       "      <td>-0.178513</td>\n",
       "      <td>0.087210</td>\n",
       "      <td>0.135977</td>\n",
       "      <td>0.113927</td>\n",
       "      <td>-0.423829</td>\n",
       "      <td>-0.156658</td>\n",
       "      <td>-0.071054</td>\n",
       "      <td>0.285942</td>\n",
       "      <td>...</td>\n",
       "      <td>0.062458</td>\n",
       "      <td>0.188769</td>\n",
       "      <td>0.197469</td>\n",
       "      <td>0.165676</td>\n",
       "      <td>0.067458</td>\n",
       "      <td>0.054947</td>\n",
       "      <td>-0.160134</td>\n",
       "      <td>0.039492</td>\n",
       "      <td>-0.057761</td>\n",
       "      <td>1</td>\n",
       "    </tr>\n",
       "  </tbody>\n",
       "</table>\n",
       "<p>5 rows × 129 columns</p>\n",
       "</div>"
      ],
      "text/plain": [
       "        x_0       x_1       x_2       x_3       x_4       x_5       x_6  \\\n",
       "0 -0.051220 -0.216992 -0.152501  0.247652  0.135584 -0.262947 -0.278204   \n",
       "1  0.066820 -0.218466 -0.060026  0.045488  0.187107 -0.010816 -0.087921   \n",
       "2  0.103285 -0.168562 -0.103039  0.162417  0.090237 -0.059107 -0.100139   \n",
       "3  0.087244 -0.106975 -0.086988  0.244181  0.092653 -0.063273 -0.399026   \n",
       "4  0.119627 -0.135367 -0.178513  0.087210  0.135977  0.113927 -0.423829   \n",
       "\n",
       "        x_7       x_8       x_9  ...     x_119     x_120     x_121     x_122  \\\n",
       "0 -0.158894  0.016377  0.237381  ... -0.130687  0.141232  0.116191  0.205981   \n",
       "1 -0.160062 -0.091605  0.273527  ... -0.000664  0.041900  0.100901  0.046852   \n",
       "2 -0.001984  0.010526  0.149694  ... -0.060630  0.086172  0.079937  0.072070   \n",
       "3  0.112895 -0.128767  0.284334  ... -0.052849 -0.005530  0.043033  0.027237   \n",
       "4 -0.156658 -0.071054  0.285942  ...  0.062458  0.188769  0.197469  0.165676   \n",
       "\n",
       "      x_123     x_124     x_125     x_126     x_127  bug  \n",
       "0  0.213995  0.182009 -0.110658  0.202499  0.109361    1  \n",
       "1  0.108185  0.150027 -0.131574  0.082503  0.089754    1  \n",
       "2 -0.050989  0.100983 -0.041862  0.102133  0.047535    1  \n",
       "3 -0.042379  0.164617 -0.199720  0.180401  0.063029    1  \n",
       "4  0.067458  0.054947 -0.160134  0.039492 -0.057761    1  \n",
       "\n",
       "[5 rows x 129 columns]"
      ]
     },
     "execution_count": 16,
     "metadata": {},
     "output_type": "execute_result"
    }
   ],
   "source": [
    "dataset.head()"
   ]
  },
  {
   "cell_type": "code",
   "execution_count": 17,
   "metadata": {},
   "outputs": [
    {
     "name": "stdout",
     "output_type": "stream",
     "text": [
      "1.0\n"
     ]
    }
   ],
   "source": [
    "example= dataset.loc[0]\n",
    "print(example.bug)"
   ]
  },
  {
   "cell_type": "code",
   "execution_count": 18,
   "metadata": {},
   "outputs": [],
   "source": [
    "#X=dataset[dataset.columns[0:127]]\n",
    "y=dataset['bug']"
   ]
  },
  {
   "cell_type": "markdown",
   "metadata": {},
   "source": [
    "Splitting up the datset into 80% training, 10% validation, and 10% test subsets"
   ]
  },
  {
   "cell_type": "code",
   "execution_count": 19,
   "metadata": {},
   "outputs": [],
   "source": [
    " x_train, x_test, y_train, y_test= train_test_split(x, y, test_size=0.2, random_state=1)\n",
    " x_train, x_val, y_train, y_val= train_test_split(x_train, y_train, test_size=0.25, random_state=1) # 0.25 x 0.8 = 0.2"
   ]
  },
  {
   "cell_type": "code",
   "execution_count": 20,
   "metadata": {},
   "outputs": [
    {
     "data": {
      "text/plain": [
       "28988"
      ]
     },
     "execution_count": 20,
     "metadata": {},
     "output_type": "execute_result"
    }
   ],
   "source": [
    "len(x_train)"
   ]
  },
  {
   "cell_type": "code",
   "execution_count": 21,
   "metadata": {},
   "outputs": [
    {
     "data": {
      "text/plain": [
       "9663"
      ]
     },
     "execution_count": 21,
     "metadata": {},
     "output_type": "execute_result"
    }
   ],
   "source": [
    "len(x_val)"
   ]
  },
  {
   "cell_type": "code",
   "execution_count": 22,
   "metadata": {},
   "outputs": [
    {
     "data": {
      "text/plain": [
       "9663"
      ]
     },
     "execution_count": 22,
     "metadata": {},
     "output_type": "execute_result"
    }
   ],
   "source": [
    "len(x_test)"
   ]
  },
  {
   "cell_type": "markdown",
   "metadata": {},
   "source": [
    "converting to tensors"
   ]
  },
  {
   "cell_type": "code",
   "execution_count": 23,
   "metadata": {},
   "outputs": [],
   "source": [
    "x_train_tensors = torch.FloatTensor(x_train.values)\n",
    "x_test_tensors = torch.FloatTensor(x_test.values)\n",
    "x_val_tensors = torch.FloatTensor(x_val.values)"
   ]
  },
  {
   "cell_type": "code",
   "execution_count": 24,
   "metadata": {},
   "outputs": [
    {
     "name": "stdout",
     "output_type": "stream",
     "text": [
      "tensor([ 0.0916, -0.1638, -0.0159,  0.0503,  0.0561, -0.0112, -0.0557, -0.0302,\n",
      "        -0.0244,  0.1812, -0.0251, -0.0938, -0.0660, -0.0697, -0.0267, -0.0160,\n",
      "        -0.0280,  0.0149,  0.0143, -0.0034, -0.0457, -0.0032, -0.0724, -0.0131,\n",
      "        -0.0067, -0.0024,  0.0008,  0.1327,  0.0510,  0.0961, -0.0868, -0.1005,\n",
      "        -0.0455,  0.1511,  0.0754, -0.0983, -0.0137, -0.0100,  0.0691, -0.0135,\n",
      "        -0.0490, -0.0079, -0.0567, -0.0672,  0.0252,  0.1045,  0.1184, -0.0089,\n",
      "        -0.0381, -0.0302,  0.0777,  0.1203, -0.0566,  0.0178,  0.0896, -0.0478,\n",
      "        -0.1588,  0.0624,  0.0388, -0.0321,  0.0023,  0.1453, -0.0303,  0.1105,\n",
      "         0.1054, -0.0268, -0.0152,  0.0093,  0.0685, -0.0968,  0.0947, -0.0015,\n",
      "        -0.0661, -0.0346, -0.0391, -0.0421, -0.0068, -0.0893,  0.0019, -0.0879,\n",
      "        -0.1601, -0.0044, -0.0194, -0.0117, -0.0821, -0.0081, -0.0723,  0.0589,\n",
      "         0.0854, -0.0104,  0.0608,  0.0433, -0.0659, -0.0312,  0.0607, -0.0231,\n",
      "         0.0162,  0.0785,  0.0145,  0.0625, -0.0491,  0.0136, -0.1117,  0.0288,\n",
      "        -0.0032,  0.0371,  0.0771,  0.0056, -0.0592,  0.0886, -0.0073, -0.0393,\n",
      "        -0.0800, -0.0216,  0.0879,  0.0053, -0.0284, -0.1350, -0.0815, -0.0321,\n",
      "         0.0331,  0.0664,  0.0959, -0.0026,  0.0998, -0.0598,  0.0436,  0.0826])\n"
     ]
    }
   ],
   "source": [
    "ex1= x_train_tensors[0]\n",
    "print(ex1)"
   ]
  },
  {
   "cell_type": "code",
   "execution_count": 25,
   "metadata": {},
   "outputs": [],
   "source": [
    "y_train_tensors = torch.tensor(y_train.values)\n",
    "y_test_tensors = torch.tensor(y_test.values)\n",
    "y_val_tensors = torch.tensor(y_val.values)"
   ]
  },
  {
   "cell_type": "code",
   "execution_count": 26,
   "metadata": {},
   "outputs": [
    {
     "name": "stdout",
     "output_type": "stream",
     "text": [
      "tensor(1)\n"
     ]
    }
   ],
   "source": [
    "ex1= y_test_tensors[775]\n",
    "print(ex1)"
   ]
  },
  {
   "cell_type": "markdown",
   "metadata": {},
   "source": [
    "The MLP model "
   ]
  },
  {
   "cell_type": "code",
   "execution_count": 27,
   "metadata": {},
   "outputs": [],
   "source": [
    "import torch.nn as nn\n",
    "class MLP(nn.Module):\n",
    "    def __init__(self):\n",
    "        super(MLP, self).__init__()\n",
    "        self.layers = nn.Sequential(\n",
    "            nn.Linear(128, 128),\n",
    "            nn.ReLU(),\n",
    "            nn.Linear(128, 128),\n",
    "            nn.ReLU(),\n",
    "            nn.Linear(128, 1),\n",
    "            nn.Sigmoid()\n",
    "        )\n",
    "\n",
    "    def forward(self, x):\n",
    "        x = self.layers(x)\n",
    "        return x"
   ]
  },
  {
   "cell_type": "code",
   "execution_count": 28,
   "metadata": {},
   "outputs": [
    {
     "name": "stdout",
     "output_type": "stream",
     "text": [
      "MLP(\n",
      "  (layers): Sequential(\n",
      "    (0): Linear(in_features=128, out_features=128, bias=True)\n",
      "    (1): ReLU()\n",
      "    (2): Linear(in_features=128, out_features=128, bias=True)\n",
      "    (3): ReLU()\n",
      "    (4): Linear(in_features=128, out_features=1, bias=True)\n",
      "    (5): Sigmoid()\n",
      "  )\n",
      ")\n"
     ]
    }
   ],
   "source": [
    "model = MLP()\n",
    "print(model)\n",
    "#print(\"Number of parameters: \", sum(p.numel() for p in model.parameters())) "
   ]
  },
  {
   "cell_type": "code",
   "execution_count": 29,
   "metadata": {},
   "outputs": [],
   "source": [
    "device = torch.device(\"cuda:0\" if torch.cuda.is_available() else \"cpu\")\n",
    "model = MLP().to(device)\n",
    "criterion = torch.nn.BCELoss()\n",
    "#optimizer = torch.optim.SGD(model.parameters(), lr = 0.01)\n",
    "optimizer = torch.optim.Adam(model.parameters(), lr=0.01)"
   ]
  },
  {
   "cell_type": "markdown",
   "metadata": {},
   "source": [
    "Printing out the loss before starting training to see the difference"
   ]
  },
  {
   "cell_type": "code",
   "execution_count": 30,
   "metadata": {},
   "outputs": [
    {
     "name": "stdout",
     "output_type": "stream",
     "text": [
      "Test loss before training 0.6935989260673523\n"
     ]
    }
   ],
   "source": [
    "model.eval()\n",
    "y_pred = model(x_test_tensors)\n",
    "before_train = criterion(y_pred.squeeze(), y_test_tensors.float())\n",
    "print('Test loss before training' , before_train.item())"
   ]
  },
  {
   "cell_type": "markdown",
   "metadata": {},
   "source": [
    "Training the model"
   ]
  },
  {
   "cell_type": "code",
   "execution_count": 31,
   "metadata": {},
   "outputs": [],
   "source": [
    "def train():\n",
    "    model.train()\n",
    "\n",
    "    optimizer.zero_grad()\n",
    "    # Forward pass\n",
    "    y_pred = model(x_train_tensors)    \n",
    "    # Compute Loss\n",
    "    loss = criterion(y_pred.squeeze(), y_train_tensors.float())\n",
    "    # Backward pass\n",
    "    loss.backward()\n",
    "    optimizer.step()\n",
    "\n",
    "    return loss"
   ]
  },
  {
   "cell_type": "code",
   "execution_count": 32,
   "metadata": {},
   "outputs": [],
   "source": [
    "def evaluate(x_tensors, y_tensors):\n",
    "    model.eval()\n",
    "    y_pred = model(x_tensors)\n",
    "    loss  = criterion(y_pred.squeeze(), y_tensors.float()) \n",
    "    return accuracy_score(y_tensors.detach().cpu().numpy(), np.rint(y_pred.cpu().detach().numpy())), loss"
   ]
  },
  {
   "cell_type": "code",
   "execution_count": 33,
   "metadata": {},
   "outputs": [
    {
     "name": "stdout",
     "output_type": "stream",
     "text": [
      "Starting training...\n",
      "Epoch 0 | Train Loss 0.6939480900764465 | Train Accuracy0.49813716020422244 | Validation Accuracy0.5012935941219083 | Validation loss0.6795520782470703\n",
      "Epoch 1 | Train Loss 0.6809227466583252 | Train Accuracy0.6810749275562301 | Validation Accuracy0.683535134016351 | Validation loss0.6523000001907349\n",
      "Epoch 2 | Train Loss 0.6542342901229858 | Train Accuracy0.6896301918035049 | Validation Accuracy0.6914001862775535 | Validation loss0.6208293437957764\n",
      "Epoch 3 | Train Loss 0.6240034699440002 | Train Accuracy0.6910790672002208 | Validation Accuracy0.6942978371106282 | Validation loss0.5984110832214355\n",
      "Epoch 4 | Train Loss 0.6029455065727234 | Train Accuracy0.6771422657651442 | Validation Accuracy0.6780502949394598 | Validation loss0.5984110832214355\n",
      "Epoch 5 | Train Loss 0.6070099472999573 | Train Accuracy0.6940113150269077 | Validation Accuracy0.6912966987478009 | Validation loss0.5984110832214355\n",
      "Epoch 6 | Train Loss 0.6581171751022339 | Train Accuracy0.6789361114944115 | Validation Accuracy0.6796026078857498 | Validation loss0.5984110832214355\n",
      "Epoch 7 | Train Loss 0.6064655184745789 | Train Accuracy0.6570994894439078 | Validation Accuracy0.6538342129773362 | Validation loss0.5984110832214355\n",
      "Epoch 8 | Train Loss 0.6250466704368591 | Train Accuracy0.6913205464330068 | Validation Accuracy0.6920211114560696 | Validation loss0.5862854719161987\n",
      "Epoch 9 | Train Loss 0.5864001512527466 | Train Accuracy0.7035669932385815 | Validation Accuracy0.702680327020594 | Validation loss0.5862854719161987\n",
      "Epoch 10 | Train Loss 0.5936128497123718 | Train Accuracy0.695080723057817 | Validation Accuracy0.6963675877056814 | Validation loss0.5862854719161987\n",
      "Epoch 11 | Train Loss 0.6016348004341125 | Train Accuracy0.7058093004001655 | Validation Accuracy0.7044396150263893 | Validation loss0.5862854719161987\n",
      "Epoch 12 | Train Loss 0.589214563369751 | Train Accuracy0.7032220229060301 | Validation Accuracy0.70330125219911 | Validation loss0.5856866240501404\n",
      "Epoch 13 | Train Loss 0.5857079029083252 | Train Accuracy0.6912170553332413 | Validation Accuracy0.6939873745213702 | Validation loss0.5856866240501404\n",
      "Epoch 14 | Train Loss 0.5906827449798584 | Train Accuracy0.6910100731337105 | Validation Accuracy0.6940908620511228 | Validation loss0.5856866240501404\n",
      "Epoch 15 | Train Loss 0.5892013907432556 | Train Accuracy0.7023251000413965 | Validation Accuracy0.7008175514850461 | Validation loss0.5796059370040894\n",
      "Epoch 16 | Train Loss 0.579925000667572 | Train Accuracy0.7039119635711328 | Validation Accuracy0.7046465900858947 | Validation loss0.5731696486473083\n",
      "Epoch 17 | Train Loss 0.5745299458503723 | Train Accuracy0.7045674072029805 | Validation Accuracy0.7040256649073786 | Validation loss0.5731696486473083\n",
      "Epoch 18 | Train Loss 0.5753894448280334 | Train Accuracy0.7068442113978198 | Validation Accuracy0.7043361274966367 | Validation loss0.5708116292953491\n",
      "Epoch 19 | Train Loss 0.5726634860038757 | Train Accuracy0.7082930867945356 | Validation Accuracy0.7073372658594639 | Validation loss0.5676655173301697\n",
      "Epoch 20 | Train Loss 0.5688056945800781 | Train Accuracy0.7068442113978198 | Validation Accuracy0.7082686536272379 | Validation loss0.5676655173301697\n",
      "Epoch 21 | Train Loss 0.5691226124763489 | Train Accuracy0.7078446253622188 | Validation Accuracy0.7081651660974853 | Validation loss0.5676655173301697\n",
      "Epoch 22 | Train Loss 0.5692286491394043 | Train Accuracy0.71060438802263 | Validation Accuracy0.7090965538652593 | Validation loss0.5665485262870789\n",
      "Epoch 23 | Train Loss 0.5660415291786194 | Train Accuracy0.7127777011177039 | Validation Accuracy0.7113732795198179 | Validation loss0.5649924278259277\n",
      "Epoch 24 | Train Loss 0.5646489858627319 | Train Accuracy0.7107423761556506 | Validation Accuracy0.7105453792817965 | Validation loss0.5649924278259277\n",
      "Epoch 25 | Train Loss 0.5646514892578125 | Train Accuracy0.7130881744170001 | Validation Accuracy0.7112697919900652 | Validation loss0.5633324980735779\n",
      "Epoch 26 | Train Loss 0.5623303651809692 | Train Accuracy0.7150890023457983 | Validation Accuracy0.7108558418710546 | Validation loss0.5628923773765564\n",
      "Epoch 27 | Train Loss 0.561104953289032 | Train Accuracy0.7143645646474404 | Validation Accuracy0.7117872296388286 | Validation loss0.5628923773765564\n",
      "Epoch 28 | Train Loss 0.5611502528190613 | Train Accuracy0.7168828480750655 | Validation Accuracy0.7118907171685812 | Validation loss0.5613723397254944\n",
      "Epoch 29 | Train Loss 0.5593907237052917 | Train Accuracy0.7159859252104319 | Validation Accuracy0.7118907171685812 | Validation loss0.5593822598457336\n",
      "Epoch 30 | Train Loss 0.5580775141716003 | Train Accuracy0.7150545053125431 | Validation Accuracy0.7119942046983339 | Validation loss0.5585982799530029\n",
      "Epoch 31 | Train Loss 0.5579339861869812 | Train Accuracy0.7161929074099628 | Validation Accuracy0.7119942046983339 | Validation loss0.557464599609375\n",
      "Epoch 32 | Train Loss 0.5566107630729675 | Train Accuracy0.716503380709259 | Validation Accuracy0.7105453792817965 | Validation loss0.5570739507675171\n",
      "Epoch 33 | Train Loss 0.5553882122039795 | Train Accuracy0.7161929074099628 | Validation Accuracy0.7118907171685812 | Validation loss0.5570739507675171\n",
      "Epoch 34 | Train Loss 0.5553159713745117 | Train Accuracy0.7166413688422796 | Validation Accuracy0.7112697919900652 | Validation loss0.5564131140708923\n",
      "Epoch 35 | Train Loss 0.5540018081665039 | Train Accuracy0.7166413688422796 | Validation Accuracy0.7117872296388286 | Validation loss0.5552390217781067\n",
      "Epoch 36 | Train Loss 0.5530657768249512 | Train Accuracy0.7168828480750655 | Validation Accuracy0.7124081548173445 | Validation loss0.5549677014350891\n",
      "Epoch 37 | Train Loss 0.5526561141014099 | Train Accuracy0.7178832620394646 | Validation Accuracy0.7138569802338818 | Validation loss0.5546101331710815\n",
      "Epoch 38 | Train Loss 0.5515657663345337 | Train Accuracy0.7181592383055058 | Validation Accuracy0.7144779054123978 | Validation loss0.5546101331710815\n",
      "Epoch 39 | Train Loss 0.5509312152862549 | Train Accuracy0.7181247412722506 | Validation Accuracy0.7141674428231398 | Validation loss0.5546101331710815\n",
      "Epoch 40 | Train Loss 0.5505773425102234 | Train Accuracy0.7188836760038637 | Validation Accuracy0.7160302183586877 | Validation loss0.5538485050201416\n",
      "Epoch 41 | Train Loss 0.5494880676269531 | Train Accuracy0.7199185870015179 | Validation Accuracy0.7145813929421505 | Validation loss0.5532150268554688\n",
      "Epoch 42 | Train Loss 0.5490312576293945 | Train Accuracy0.7205395336001104 | Validation Accuracy0.7153058056504191 | Validation loss0.5527337193489075\n",
      "Epoch 43 | Train Loss 0.5483195781707764 | Train Accuracy0.7196771077687318 | Validation Accuracy0.7158232432991825 | Validation loss0.5525344014167786\n",
      "Epoch 44 | Train Loss 0.5473806858062744 | Train Accuracy0.7194356285359459 | Validation Accuracy0.7179964814239884 | Validation loss0.5525344014167786\n",
      "Epoch 45 | Train Loss 0.5469264984130859 | Train Accuracy0.7206430246998758 | Validation Accuracy0.7166511435372037 | Validation loss0.5517027378082275\n",
      "Epoch 46 | Train Loss 0.5459294319152832 | Train Accuracy0.7210914861321926 | Validation Accuracy0.7161337058884405 | Validation loss0.5510985255241394\n",
      "Epoch 47 | Train Loss 0.5455090403556824 | Train Accuracy0.7214364564647441 | Validation Accuracy0.7168581185967091 | Validation loss0.5508924126625061\n",
      "Epoch 48 | Train Loss 0.544685959815979 | Train Accuracy0.7219539119635712 | Validation Accuracy0.7190313567215151 | Validation loss0.5508924126625061\n",
      "Epoch 49 | Train Loss 0.5441881418228149 | Train Accuracy0.7230923140609907 | Validation Accuracy0.7172720687157198 | Validation loss0.5505832433700562\n",
      "Epoch 50 | Train Loss 0.5433192849159241 | Train Accuracy0.7230923140609907 | Validation Accuracy0.7173755562454724 | Validation loss0.5501259565353394\n",
      "Epoch 51 | Train Loss 0.5428088903427124 | Train Accuracy0.7242307161584104 | Validation Accuracy0.7174790437752251 | Validation loss0.5500754117965698\n",
      "Epoch 52 | Train Loss 0.5418943166732788 | Train Accuracy0.7249551538567683 | Validation Accuracy0.7185139190727517 | Validation loss0.5500754117965698\n",
      "Epoch 53 | Train Loss 0.5413811802864075 | Train Accuracy0.7256450945218711 | Validation Accuracy0.719652281900031 | Validation loss0.5496948957443237\n",
      "Epoch 54 | Train Loss 0.5405262112617493 | Train Accuracy0.7250241479232786 | Validation Accuracy0.7201697195487944 | Validation loss0.5494502186775208\n",
      "Epoch 55 | Train Loss 0.5398656725883484 | Train Accuracy0.7261625500206982 | Validation Accuracy0.7198592569595363 | Validation loss0.5494502186775208\n",
      "Epoch 56 | Train Loss 0.5392242670059204 | Train Accuracy0.7265420173865048 | Validation Accuracy0.720273207078547 | Validation loss0.5493353605270386\n",
      "Epoch 57 | Train Loss 0.5383301377296448 | Train Accuracy0.726852490685801 | Validation Accuracy0.7203766946082997 | Validation loss0.5491340160369873\n",
      "Epoch 58 | Train Loss 0.5378180146217346 | Train Accuracy0.7277149165171796 | Validation Accuracy0.7188243816620097 | Validation loss0.5491340160369873\n",
      "Epoch 59 | Train Loss 0.537190854549408 | Train Accuracy0.728818821581344 | Validation Accuracy0.7207906447273104 | Validation loss0.5489494800567627\n",
      "Epoch 60 | Train Loss 0.5363408923149109 | Train Accuracy0.7289568097143646 | Validation Accuracy0.7206871571975577 | Validation loss0.5487860441207886\n",
      "Epoch 61 | Train Loss 0.535670816898346 | Train Accuracy0.7280598868497309 | Validation Accuracy0.723377832971127 | Validation loss0.5487860441207886\n",
      "Epoch 62 | Train Loss 0.5350918769836426 | Train Accuracy0.7289223126811094 | Validation Accuracy0.7213080823760737 | Validation loss0.5485717058181763\n",
      "Epoch 63 | Train Loss 0.5343992114067078 | Train Accuracy0.7291982889471506 | Validation Accuracy0.7234813205008797 | Validation loss0.5485717058181763\n",
      "Epoch 64 | Train Loss 0.5335997343063354 | Train Accuracy0.7289223126811094 | Validation Accuracy0.7236882955603849 | Validation loss0.5485717058181763\n",
      "Epoch 65 | Train Loss 0.5328888893127441 | Train Accuracy0.7287843245480888 | Validation Accuracy0.7225499327331056 | Validation loss0.5485464334487915\n",
      "Epoch 66 | Train Loss 0.5322378277778625 | Train Accuracy0.7304401821443356 | Validation Accuracy0.7234813205008797 | Validation loss0.5485464334487915\n",
      "Epoch 67 | Train Loss 0.5317642688751221 | Train Accuracy0.7293017800469159 | Validation Accuracy0.7214115699058263 | Validation loss0.5485464334487915\n",
      "Epoch 68 | Train Loss 0.5315678119659424 | Train Accuracy0.7291982889471506 | Validation Accuracy0.7219290075545897 | Validation loss0.5485464334487915\n",
      "Epoch 69 | Train Loss 0.531558632850647 | Train Accuracy0.7291637919138954 | Validation Accuracy0.721204594846321 | Validation loss0.5485464334487915\n",
      "Epoch 70 | Train Loss 0.5307486057281494 | Train Accuracy0.7316130812750103 | Validation Accuracy0.7214115699058263 | Validation loss0.5485464334487915\n",
      "Epoch 71 | Train Loss 0.5292079448699951 | Train Accuracy0.7316130812750103 | Validation Accuracy0.721515057435579 | Validation loss0.5485464334487915\n",
      "Early stopping due to no improvement.\n",
      "Finishing training with best validation loss: 0.5485464334487915\n"
     ]
    }
   ],
   "source": [
    "print(\"Starting training...\")\n",
    "train_losses = []\n",
    "val_losses = []\n",
    "val_acc_list= []\n",
    "train_acc_list= []\n",
    "mean_train_losses = []\n",
    "mean_val_losses = []\n",
    "best_loss = 1000\n",
    "early_stopping_counter = 0\n",
    "for epoch in range(200):\n",
    "    if early_stopping_counter <= 5: \n",
    "        loss = train()\n",
    "        train_losses.append(loss)\n",
    "        train_acc, train_loss = evaluate(x_train_tensors, y_train_tensors)   \n",
    "        val_acc, val_loss = evaluate(x_val_tensors, y_val_tensors)\n",
    "        val_losses.append(val_loss)\n",
    "        val_acc_list.append(val_acc)\n",
    "        train_acc_list.append(train_acc)\n",
    "        #mean_train_losses.append(np.mean(train_losses))\n",
    "        #mean_val_losses.append(np.mean(val_losses))\n",
    "        if float(val_loss) < best_loss:\n",
    "            best_loss = val_loss\n",
    "            # Save the currently best model \n",
    "            early_stopping_counter = 0\n",
    "        else:\n",
    "            early_stopping_counter += 1\n",
    "        print(f\"Epoch {epoch} | Train Loss {loss} | Train Accuracy{train_acc} | Validation Accuracy{val_acc} | Validation loss{best_loss}\")\n",
    "\n",
    "    else:\n",
    "        print(\"Early stopping due to no improvement.\")\n",
    "        break\n",
    "print(f\"Finishing training with best validation loss: {best_loss}\")"
   ]
  },
  {
   "cell_type": "markdown",
   "metadata": {},
   "source": [
    "Plotting learning curves"
   ]
  },
  {
   "cell_type": "code",
   "execution_count": 40,
   "metadata": {},
   "outputs": [
    {
     "name": "stderr",
     "output_type": "stream",
     "text": [
      "findfont: Font family ['serif'] not found. Falling back to DejaVu Sans.\n"
     ]
    },
    {
     "data": {
      "image/png": "[encoded data removed]",
      "text/plain": [
       "<Figure size 1440x936 with 2 Axes>"
      ]
     },
     "metadata": {
      "needs_background": "light"
     },
     "output_type": "display_data"
    }
   ],
   "source": [
    "#plt.rcParams.update({\n",
    "#    \"text.usetex\": True,\n",
    "#    \"font.family\": \"serif\",\n",
    "#    \"font.serif\": [\"Computer Modern Roman\"],\n",
    "#})\n",
    "with torch.no_grad():\n",
    "    fig, (ax1, ax2) = plt.subplots(nrows=1, ncols=2, figsize=(20, 13))\n",
    "    ax1.plot(train_losses, label=\"$train\\_loss$\")\n",
    "    ax1.plot(val_losses, label=\"$val\\_loss$\")\n",
    "    ax1.set_ylabel('Loss')\n",
    "    ax1.set_xlabel('Epochs')\n",
    "    lines, labels = ax1.get_legend_handles_labels()\n",
    "    ax1.legend(lines, labels, loc='best')\n",
    "\n",
    "    ax2.plot(train_acc_list, label='train\\_acc')\n",
    "    ax2.plot(val_acc_list, label='val\\_acc')\n",
    "    ax2.legend()\n",
    "    ax2.set_ylabel('Accuracy')\n",
    "    ax2.set_xlabel('Epochs')\n",
    "    #plt.rc('font', family='serif)\n",
    "    plt.savefig('CWE_469_losses_test.png')"
   ]
  },
  {
   "cell_type": "code",
   "execution_count": 34,
   "metadata": {},
   "outputs": [
    {
     "data": {
      "text/html": [
       "<div>\n",
       "<style scoped>\n",
       "    .dataframe tbody tr th:only-of-type {\n",
       "        vertical-align: middle;\n",
       "    }\n",
       "\n",
       "    .dataframe tbody tr th {\n",
       "        vertical-align: top;\n",
       "    }\n",
       "\n",
       "    .dataframe thead th {\n",
       "        text-align: right;\n",
       "    }\n",
       "</style>\n",
       "<table border=\"1\" class=\"dataframe\">\n",
       "  <thead>\n",
       "    <tr style=\"text-align: right;\">\n",
       "      <th></th>\n",
       "      <th>y_pred</th>\n",
       "    </tr>\n",
       "  </thead>\n",
       "  <tbody>\n",
       "    <tr>\n",
       "      <th>0</th>\n",
       "      <td>[0.9125254154205322]</td>\n",
       "    </tr>\n",
       "    <tr>\n",
       "      <th>1</th>\n",
       "      <td>[0.2667907476425171]</td>\n",
       "    </tr>\n",
       "    <tr>\n",
       "      <th>2</th>\n",
       "      <td>[0.554583728313446]</td>\n",
       "    </tr>\n",
       "    <tr>\n",
       "      <th>3</th>\n",
       "      <td>[0.5940422415733337]</td>\n",
       "    </tr>\n",
       "    <tr>\n",
       "      <th>4</th>\n",
       "      <td>[0.38740089535713196]</td>\n",
       "    </tr>\n",
       "    <tr>\n",
       "      <th>...</th>\n",
       "      <td>...</td>\n",
       "    </tr>\n",
       "    <tr>\n",
       "      <th>9658</th>\n",
       "      <td>[0.08703138679265976]</td>\n",
       "    </tr>\n",
       "    <tr>\n",
       "      <th>9659</th>\n",
       "      <td>[0.6761210560798645]</td>\n",
       "    </tr>\n",
       "    <tr>\n",
       "      <th>9660</th>\n",
       "      <td>[0.9424304962158203]</td>\n",
       "    </tr>\n",
       "    <tr>\n",
       "      <th>9661</th>\n",
       "      <td>[0.0559699684381485]</td>\n",
       "    </tr>\n",
       "    <tr>\n",
       "      <th>9662</th>\n",
       "      <td>[0.7313982248306274]</td>\n",
       "    </tr>\n",
       "  </tbody>\n",
       "</table>\n",
       "<p>9663 rows × 1 columns</p>\n",
       "</div>"
      ],
      "text/plain": [
       "                     y_pred\n",
       "0      [0.9125254154205322]\n",
       "1      [0.2667907476425171]\n",
       "2       [0.554583728313446]\n",
       "3      [0.5940422415733337]\n",
       "4     [0.38740089535713196]\n",
       "...                     ...\n",
       "9658  [0.08703138679265976]\n",
       "9659   [0.6761210560798645]\n",
       "9660   [0.9424304962158203]\n",
       "9661   [0.0559699684381485]\n",
       "9662   [0.7313982248306274]\n",
       "\n",
       "[9663 rows x 1 columns]"
      ]
     },
     "execution_count": 34,
     "metadata": {},
     "output_type": "execute_result"
    }
   ],
   "source": [
    "# Analyze the results\n",
    "test_batch = next(iter(x_test_tensors))\n",
    "with torch.no_grad():\n",
    "    y_pred = model(x_test_tensors) \n",
    "    df = pd.DataFrame()\n",
    "    df[\"y_pred\"] = y_pred.tolist()\n",
    "df"
   ]
  },
  {
   "cell_type": "code",
   "execution_count": 35,
   "metadata": {},
   "outputs": [],
   "source": [
    "df[\"y_real\"] = y_test_tensors.tolist()"
   ]
  },
  {
   "cell_type": "code",
   "execution_count": 36,
   "metadata": {},
   "outputs": [
    {
     "data": {
      "text/html": [
       "<div>\n",
       "<style scoped>\n",
       "    .dataframe tbody tr th:only-of-type {\n",
       "        vertical-align: middle;\n",
       "    }\n",
       "\n",
       "    .dataframe tbody tr th {\n",
       "        vertical-align: top;\n",
       "    }\n",
       "\n",
       "    .dataframe thead th {\n",
       "        text-align: right;\n",
       "    }\n",
       "</style>\n",
       "<table border=\"1\" class=\"dataframe\">\n",
       "  <thead>\n",
       "    <tr style=\"text-align: right;\">\n",
       "      <th></th>\n",
       "      <th>y_pred</th>\n",
       "      <th>y_real</th>\n",
       "    </tr>\n",
       "  </thead>\n",
       "  <tbody>\n",
       "    <tr>\n",
       "      <th>0</th>\n",
       "      <td>[0.9125254154205322]</td>\n",
       "      <td>1</td>\n",
       "    </tr>\n",
       "    <tr>\n",
       "      <th>1</th>\n",
       "      <td>[0.2667907476425171]</td>\n",
       "      <td>1</td>\n",
       "    </tr>\n",
       "    <tr>\n",
       "      <th>2</th>\n",
       "      <td>[0.554583728313446]</td>\n",
       "      <td>1</td>\n",
       "    </tr>\n",
       "    <tr>\n",
       "      <th>3</th>\n",
       "      <td>[0.5940422415733337]</td>\n",
       "      <td>1</td>\n",
       "    </tr>\n",
       "    <tr>\n",
       "      <th>4</th>\n",
       "      <td>[0.38740089535713196]</td>\n",
       "      <td>1</td>\n",
       "    </tr>\n",
       "    <tr>\n",
       "      <th>...</th>\n",
       "      <td>...</td>\n",
       "      <td>...</td>\n",
       "    </tr>\n",
       "    <tr>\n",
       "      <th>9658</th>\n",
       "      <td>[0.08703138679265976]</td>\n",
       "      <td>0</td>\n",
       "    </tr>\n",
       "    <tr>\n",
       "      <th>9659</th>\n",
       "      <td>[0.6761210560798645]</td>\n",
       "      <td>0</td>\n",
       "    </tr>\n",
       "    <tr>\n",
       "      <th>9660</th>\n",
       "      <td>[0.9424304962158203]</td>\n",
       "      <td>1</td>\n",
       "    </tr>\n",
       "    <tr>\n",
       "      <th>9661</th>\n",
       "      <td>[0.0559699684381485]</td>\n",
       "      <td>0</td>\n",
       "    </tr>\n",
       "    <tr>\n",
       "      <th>9662</th>\n",
       "      <td>[0.7313982248306274]</td>\n",
       "      <td>1</td>\n",
       "    </tr>\n",
       "  </tbody>\n",
       "</table>\n",
       "<p>9663 rows × 2 columns</p>\n",
       "</div>"
      ],
      "text/plain": [
       "                     y_pred  y_real\n",
       "0      [0.9125254154205322]       1\n",
       "1      [0.2667907476425171]       1\n",
       "2       [0.554583728313446]       1\n",
       "3      [0.5940422415733337]       1\n",
       "4     [0.38740089535713196]       1\n",
       "...                     ...     ...\n",
       "9658  [0.08703138679265976]       0\n",
       "9659   [0.6761210560798645]       0\n",
       "9660   [0.9424304962158203]       1\n",
       "9661   [0.0559699684381485]       0\n",
       "9662   [0.7313982248306274]       1\n",
       "\n",
       "[9663 rows x 2 columns]"
      ]
     },
     "execution_count": 36,
     "metadata": {},
     "output_type": "execute_result"
    }
   ],
   "source": [
    "df"
   ]
  },
  {
   "cell_type": "markdown",
   "metadata": {},
   "source": [
    "printing out the performance measures "
   ]
  },
  {
   "cell_type": "code",
   "execution_count": 37,
   "metadata": {},
   "outputs": [
    {
     "name": "stdout",
     "output_type": "stream",
     "text": [
      " Accuracy : 0.721204594846321 \n",
      " Precision : 0.7130842949344808 \n",
      " Recall : 0.7482043915452493 \n",
      " F1 : 0.7302223112357301\n"
     ]
    }
   ],
   "source": [
    "# y_test = y_test_tensors.detach().cpu().numpy()\n",
    "y_pred = np.rint(y_pred)\n",
    "# confusion_matrix(y_test, y_pred)\n",
    "# plot_confusion_matrix(model, x_test_tensors, y_test_tensors)  \n",
    "# plt.show()\n",
    "accuracy= accuracy_score(y_test_tensors, y_pred)\n",
    "precision= precision_score(y_test_tensors, y_pred, zero_division=1)\n",
    "recall= recall_score(y_test_tensors, y_pred, zero_division=1)\n",
    "F1= f1_score(y_test_tensors,y_pred, zero_division=1)\n",
    "print(\" Accuracy : {0} \\n Precision : {1} \\n Recall : {2} \\n F1 : {3}\".format(accuracy, precision, recall, F1))"
   ]
  },
  {
   "cell_type": "code",
   "execution_count": 39,
   "metadata": {},
   "outputs": [
    {
     "name": "stdout",
     "output_type": "stream",
     "text": [
      "Test loss after training 0.619390606880188\n"
     ]
    }
   ],
   "source": [
    "model.eval()\n",
    "y_pred = model(x_test_tensors)\n",
    "after_train = criterion(y_pred.squeeze(), y_test_tensors.float())\n",
    "print('Test loss after training' , after_train.item())"
   ]
  },
  {
   "cell_type": "code",
   "execution_count": null,
   "metadata": {},
   "outputs": [],
   "source": []
  }
 ],
 "metadata": {
  "interpreter": {
   "hash": "ed38e45ff0aaff95ccfc69f4fb6b3b80052ffc6235959bf5d9d2fb5b2218aec2"
  },
  "kernelspec": {
   "display_name": "Python 3.8.10 64-bit ('base': conda)",
   "name": "python3"
  },
  "language_info": {
   "codemirror_mode": {
    "name": "ipython",
    "version": 3
   },
   "file_extension": ".py",
   "mimetype": "text/x-python",
   "name": "python",
   "nbconvert_exporter": "python",
   "pygments_lexer": "ipython3",
   "version": "3.8.10"
  },
  "orig_nbformat": 2
 },
 "nbformat": 4,
 "nbformat_minor": 2
}