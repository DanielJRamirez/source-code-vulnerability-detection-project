{
 "cells": [
  {
   "cell_type": "markdown",
   "metadata": {},
   "source": [
    "This notebook shows the steps of extracting ASTs, building the dataset on Pytorch Geometric and then applying GNN model for graph embedding as well as predicting"
   ]
  },
  {
   "cell_type": "code",
   "execution_count": 1,
   "metadata": {},
   "outputs": [],
   "source": [
    "import torch\n",
    "from torch_geometric.data import InMemoryDataset\n",
    "from tqdm import tqdm\n",
    "from torch_geometric.data import Data\n",
    "from sklearn.metrics import confusion_matrix, f1_score, \\\n",
    "    accuracy_score, precision_score, recall_score\n",
    "from torch_geometric.data import Dataset"
   ]
  },
  {
   "cell_type": "code",
   "execution_count": 2,
   "metadata": {},
   "outputs": [],
   "source": [
    "import clang.cindex\n",
    "import os\n",
    "import numpy as np\n",
    "import pandas as pd\n",
    "import matplotlib.pyplot as plt\n",
    "from matplotlib import rc\n",
    "rc('font',**{'family':'serif','serif':['Palatino'], 'size'   : 24})\n",
    "rc('text', usetex=True)"
   ]
  },
  {
   "cell_type": "code",
   "execution_count": 3,
   "metadata": {},
   "outputs": [],
   "source": [
    "import matplotlib\n",
    "matplotlib.font_manager._rebuild()"
   ]
  },
  {
   "cell_type": "markdown",
   "metadata": {},
   "source": [
    "Uploading a processed CWE type:"
   ]
  },
  {
   "cell_type": "code",
   "execution_count": 4,
   "metadata": {},
   "outputs": [],
   "source": [
    "vdisc = pd.read_csv(\"./Dataset/vdisc_CWE_119.csv.gz\")\n",
    "vdisc[\"bug\"] = vdisc[\"bug\"].astype(int)"
   ]
  },
  {
   "cell_type": "code",
   "execution_count": 5,
   "metadata": {},
   "outputs": [
    {
     "data": {
      "text/html": [
       "<div>\n",
       "<style scoped>\n",
       "    .dataframe tbody tr th:only-of-type {\n",
       "        vertical-align: middle;\n",
       "    }\n",
       "\n",
       "    .dataframe tbody tr th {\n",
       "        vertical-align: top;\n",
       "    }\n",
       "\n",
       "    .dataframe thead th {\n",
       "        text-align: right;\n",
       "    }\n",
       "</style>\n",
       "<table border=\"1\" class=\"dataframe\">\n",
       "  <thead>\n",
       "    <tr style=\"text-align: right;\">\n",
       "      <th></th>\n",
       "      <th>Unnamed: 0</th>\n",
       "      <th>testCase_ID</th>\n",
       "      <th>filename</th>\n",
       "      <th>code</th>\n",
       "      <th>bug</th>\n",
       "      <th>type</th>\n",
       "    </tr>\n",
       "  </thead>\n",
       "  <tbody>\n",
       "    <tr>\n",
       "      <th>0</th>\n",
       "      <td>0</td>\n",
       "      <td>0</td>\n",
       "      <td>0_vdisc.c</td>\n",
       "      <td>CDE_create_path_symlink_dirs() {\\n  char *p;\\n...</td>\n",
       "      <td>1</td>\n",
       "      <td>CWE_119</td>\n",
       "    </tr>\n",
       "    <tr>\n",
       "      <th>1</th>\n",
       "      <td>1</td>\n",
       "      <td>1</td>\n",
       "      <td>1_vdisc.c</td>\n",
       "      <td>gperror(unsigned int code,\\n\\t     char *messa...</td>\n",
       "      <td>1</td>\n",
       "      <td>CWE_119</td>\n",
       "    </tr>\n",
       "    <tr>\n",
       "      <th>2</th>\n",
       "      <td>2</td>\n",
       "      <td>2</td>\n",
       "      <td>2_vdisc.c</td>\n",
       "      <td>test_date_rfc2822__format_rfc2822_positive_off...</td>\n",
       "      <td>1</td>\n",
       "      <td>CWE_119</td>\n",
       "    </tr>\n",
       "    <tr>\n",
       "      <th>3</th>\n",
       "      <td>3</td>\n",
       "      <td>3</td>\n",
       "      <td>3_vdisc.c</td>\n",
       "      <td>toggle_cb (GtkWidget *item, char *pref_name)\\n...</td>\n",
       "      <td>1</td>\n",
       "      <td>CWE_119</td>\n",
       "    </tr>\n",
       "    <tr>\n",
       "      <th>4</th>\n",
       "      <td>4</td>\n",
       "      <td>4</td>\n",
       "      <td>4_vdisc.c</td>\n",
       "      <td>fixgrid34(NCDAPCOMMON* nccomm, CDFnode* grid)\\...</td>\n",
       "      <td>1</td>\n",
       "      <td>CWE_119</td>\n",
       "    </tr>\n",
       "  </tbody>\n",
       "</table>\n",
       "</div>"
      ],
      "text/plain": [
       "   Unnamed: 0  testCase_ID   filename  \\\n",
       "0           0            0  0_vdisc.c   \n",
       "1           1            1  1_vdisc.c   \n",
       "2           2            2  2_vdisc.c   \n",
       "3           3            3  3_vdisc.c   \n",
       "4           4            4  4_vdisc.c   \n",
       "\n",
       "                                                code  bug     type  \n",
       "0  CDE_create_path_symlink_dirs() {\\n  char *p;\\n...    1  CWE_119  \n",
       "1  gperror(unsigned int code,\\n\\t     char *messa...    1  CWE_119  \n",
       "2  test_date_rfc2822__format_rfc2822_positive_off...    1  CWE_119  \n",
       "3  toggle_cb (GtkWidget *item, char *pref_name)\\n...    1  CWE_119  \n",
       "4  fixgrid34(NCDAPCOMMON* nccomm, CDFnode* grid)\\...    1  CWE_119  "
      ]
     },
     "execution_count": 5,
     "metadata": {},
     "output_type": "execute_result"
    }
   ],
   "source": [
    "vdisc.head()"
   ]
  },
  {
   "cell_type": "code",
   "execution_count": 6,
   "metadata": {},
   "outputs": [
    {
     "name": "stdout",
     "output_type": "stream",
     "text": [
      "<class 'pandas.core.frame.DataFrame'>\n",
      "RangeIndex: 48314 entries, 0 to 48313\n",
      "Data columns (total 6 columns):\n",
      " #   Column       Non-Null Count  Dtype \n",
      "---  ------       --------------  ----- \n",
      " 0   Unnamed: 0   48314 non-null  int64 \n",
      " 1   testCase_ID  48314 non-null  int64 \n",
      " 2   filename     48314 non-null  object\n",
      " 3   code         48314 non-null  object\n",
      " 4   bug          48314 non-null  int64 \n",
      " 5   type         48314 non-null  object\n",
      "dtypes: int64(3), object(3)\n",
      "memory usage: 2.2+ MB\n"
     ]
    }
   ],
   "source": [
    "vdisc.info()"
   ]
  },
  {
   "cell_type": "markdown",
   "metadata": {},
   "source": [
    "Extracting AST"
   ]
  },
  {
   "cell_type": "code",
   "execution_count": 7,
   "metadata": {},
   "outputs": [],
   "source": [
    "def save_ast(node):\n",
    "   \n",
    "    node.children = list(node.get_children())\n",
    "\n",
    "    for child in node.children:\n",
    "        counter = save_ast(child)"
   ]
  },
  {
   "cell_type": "code",
   "execution_count": 8,
   "metadata": {},
   "outputs": [],
   "source": [
    "def numbering_ast_nodes(node, counter=1):\n",
    "  \n",
    "    node.identifier = counter\n",
    "    counter += 1\n",
    "\n",
    "    node.children = list(node.get_children())\n",
    "    for child in node.children:\n",
    "        counter = numbering_ast_nodes(child, counter)\n",
    "\n",
    "    return counter"
   ]
  },
  {
   "cell_type": "code",
   "execution_count": 9,
   "metadata": {},
   "outputs": [],
   "source": [
    "def generate_edgelist(ast_root):\n",
    "  \n",
    "    edges = [[],[]]\n",
    "\n",
    "    def walk_tree_and_add_edges(node):\n",
    "        for child in node.children:\n",
    "            # edges.append([node.identifier, child.identifier])\n",
    "            # walk_tree_and_add_edges(child)\n",
    "            edg_0 = (node.identifier)-1\n",
    "            edg_1 = (child.identifier)-1\n",
    "            # edges[0].append(node.identifier)\n",
    "            # edges[1].append(child.identifier)\n",
    "            edges[0].append(edg_0)\n",
    "            edges[1].append(edg_1)\n",
    "            walk_tree_and_add_edges(child)\n",
    "\n",
    "    walk_tree_and_add_edges(ast_root)\n",
    "    return  torch.tensor(edges, dtype=torch.long)"
   ]
  },
  {
   "cell_type": "code",
   "execution_count": 10,
   "metadata": {},
   "outputs": [],
   "source": [
    "def generate_features(ast_root):\n",
    "  \n",
    "    features = []\n",
    "\n",
    "    def walk_tree_and_set_features(node):\n",
    "        out_degree = len(node.children)\n",
    "        #in_degree = 1\n",
    "        #degree = out_degree + in_degree\n",
    "        degree = out_degree \n",
    "        node_id = node.identifier\n",
    "        features.append([node_id, degree])\n",
    "\n",
    "        for child in node.children:\n",
    "            walk_tree_and_set_features(child)\n",
    "\n",
    "    walk_tree_and_set_features(ast_root)\n",
    "\n",
    "    features_array = np.asarray(features)\n",
    "    # nodes_tensor = torch.from_numpy(features_array).float()\n",
    "    nodes_tensor = torch.tensor(features_array, dtype=torch.float)\n",
    "    # nodes_tensor = torch.LongTensor(features).unsqueeze(1)\n",
    "    return nodes_tensor"
   ]
  },
  {
   "cell_type": "code",
   "execution_count": 11,
   "metadata": {},
   "outputs": [],
   "source": [
    "def clang_process(testcase, **kwargs):\n",
    " \n",
    "    parse_list = [\n",
    "        (testcase.filename, testcase.code)\n",
    "        \n",
    "    ]\n",
    "\n",
    "    # source_file= get_source_file(testcase)\n",
    "\n",
    "    # Parsing the source code and extracting AST using clang\n",
    "    index = clang.cindex.Index.create()\n",
    "    translation_unit = index.parse(\n",
    "        path=testcase.filename,\n",
    "        unsaved_files=parse_list,\n",
    "    )\n",
    "    ast_root = translation_unit.cursor\n",
    "\n",
    "    save_ast(ast_root)\n",
    "    numbering_ast_nodes(ast_root)\n",
    "\n",
    "    graphs_embedding = generate_edgelist(ast_root)\n",
    "\n",
    "    nodes_embedding = generate_features(ast_root)\n",
    "   \n",
    "\n",
    "    y = torch.tensor([testcase.bug], dtype=torch.int64)\n",
    "\n",
    "\n",
    "\n",
    "    # delete clang objects\n",
    "    del translation_unit\n",
    "    del ast_root\n",
    "    del index\n",
    "\n",
    "    return Data(x=nodes_embedding, edge_index=graphs_embedding, y=y)"
   ]
  },
  {
   "cell_type": "markdown",
   "metadata": {},
   "source": [
    "Building the dataset on Pytorch geometrics"
   ]
  },
  {
   "cell_type": "code",
   "execution_count": 13,
   "metadata": {},
   "outputs": [],
   "source": [
    "class MyOwnDataset(Dataset):\n",
    "    def __init__(self, root, transform=None, pre_transform=None):\n",
    "        super(MyOwnDataset, self).__init__(root, transform, pre_transform)\n",
    "\n",
    "    @property\n",
    "    def raw_file_names(self):\n",
    "        return []\n",
    "\n",
    "    @property\n",
    "    def processed_file_names(self):\n",
    "        return 'not_implemented.pt'\n",
    "\n",
    "    def download(self):\n",
    "        # Download to `self.raw_dir`.\n",
    "        pass\n",
    "\n",
    "    def process(self):\n",
    "        self.data = pd.read_csv(\"./Dataset/vdisc_CWE_119.csv.gz\")\n",
    "        for index, vuln in tqdm(self.data.iterrows(), total=self.data.shape[0]):\n",
    "            data = clang_process(vuln)\n",
    "            torch.save(data, os.path.join(self.processed_dir, f'data_{index}.pt'))\n",
    "\n",
    "    def len(self):\n",
    "        return self.data.shape[0]\n",
    "\n",
    "    def get(self, idx):\n",
    "        data = torch.load(os.path.join(self.processed_dir, \n",
    "                                 f'data_{idx}.pt'))\n",
    "        return data"
   ]
  },
  {
   "cell_type": "code",
   "execution_count": 14,
   "metadata": {},
   "outputs": [
    {
     "name": "stdout",
     "output_type": "stream",
     "text": [
      "Processing...\n"
     ]
    },
    {
     "name": "stderr",
     "output_type": "stream",
     "text": [
      "100%|██████████| 48314/48314 [03:01<00:00, 265.75it/s]"
     ]
    },
    {
     "name": "stdout",
     "output_type": "stream",
     "text": [
      "Done!\n"
     ]
    },
    {
     "name": "stderr",
     "output_type": "stream",
     "text": [
      "\n"
     ]
    }
   ],
   "source": [
    "dataset = MyOwnDataset(root='./Dataset/')"
   ]
  },
  {
   "cell_type": "code",
   "execution_count": 15,
   "metadata": {},
   "outputs": [
    {
     "data": {
      "text/plain": [
       "48314"
      ]
     },
     "execution_count": 15,
     "metadata": {},
     "output_type": "execute_result"
    }
   ],
   "source": [
    "len(dataset)"
   ]
  },
  {
   "cell_type": "code",
   "execution_count": 16,
   "metadata": {},
   "outputs": [
    {
     "name": "stdout",
     "output_type": "stream",
     "text": [
      "Number of features: 2\n"
     ]
    }
   ],
   "source": [
    "print(f'Number of features: {dataset.num_features}')"
   ]
  },
  {
   "cell_type": "code",
   "execution_count": 17,
   "metadata": {},
   "outputs": [
    {
     "name": "stdout",
     "output_type": "stream",
     "text": [
      "Number of nodes: 5\n",
      "Number of edges: 4\n"
     ]
    }
   ],
   "source": [
    "data1 = dataset[2]  # Get the first graph object.\n",
    "print(f'Number of nodes: {data1.num_nodes}')\n",
    "print(f'Number of edges: {data1.num_edges}')"
   ]
  },
  {
   "cell_type": "code",
   "execution_count": 18,
   "metadata": {},
   "outputs": [
    {
     "name": "stdout",
     "output_type": "stream",
     "text": [
      "tensor([[0, 1],\n",
      "        [1, 2],\n",
      "        [2, 3],\n",
      "        [3, 4]])\n"
     ]
    }
   ],
   "source": [
    "print(dataset[2].edge_index.t())"
   ]
  },
  {
   "cell_type": "code",
   "execution_count": 19,
   "metadata": {},
   "outputs": [
    {
     "name": "stdout",
     "output_type": "stream",
     "text": [
      "tensor([[1., 1.],\n",
      "        [2., 1.],\n",
      "        [3., 1.],\n",
      "        [4., 1.],\n",
      "        [5., 0.]])\n"
     ]
    }
   ],
   "source": [
    "print(dataset[2].x)"
   ]
  },
  {
   "cell_type": "code",
   "execution_count": 20,
   "metadata": {},
   "outputs": [
    {
     "name": "stdout",
     "output_type": "stream",
     "text": [
      "tensor([1])\n"
     ]
    }
   ],
   "source": [
    "print(dataset[2].y)"
   ]
  },
  {
   "cell_type": "markdown",
   "metadata": {},
   "source": [
    "Split up the dataset"
   ]
  },
  {
   "cell_type": "code",
   "execution_count": 21,
   "metadata": {},
   "outputs": [
    {
     "data": {
      "text/plain": [
       "(38648, 4831, 4835)"
      ]
     },
     "execution_count": 21,
     "metadata": {},
     "output_type": "execute_result"
    }
   ],
   "source": [
    "dataset = dataset.shuffle()\n",
    "#one_tenth_length = int(len(dataset) * 0.1)\n",
    "one_tenth_length = int(len(dataset) * 0.1)\n",
    "train_dataset = dataset[:one_tenth_length * 8]\n",
    "val_dataset = dataset[one_tenth_length*8:one_tenth_length * 9]\n",
    "test_dataset = dataset[one_tenth_length*9:]\n",
    "#test_dataset = dataset[one_tenth_length*8:one_tenth_length * 10]\n",
    "len(train_dataset), len(val_dataset), len(test_dataset)\n",
    "#len(train_dataset), len(test_dataset)"
   ]
  },
  {
   "cell_type": "code",
   "execution_count": 22,
   "metadata": {},
   "outputs": [],
   "source": [
    "from torch_geometric.data import DataLoader\n",
    "NUM_GRAPHS_PER_BATCH = 256\n",
    "train_loader = DataLoader(train_dataset, batch_size=NUM_GRAPHS_PER_BATCH,drop_last=True, shuffle=True)\n",
    "val_loader = DataLoader(val_dataset, batch_size=NUM_GRAPHS_PER_BATCH,drop_last=True, shuffle=True)\n",
    "test_loader = DataLoader(test_dataset, batch_size=NUM_GRAPHS_PER_BATCH,drop_last=True, shuffle=True)"
   ]
  },
  {
   "cell_type": "markdown",
   "metadata": {},
   "source": [
    "Building the GNN model"
   ]
  },
  {
   "cell_type": "code",
   "execution_count": 23,
   "metadata": {},
   "outputs": [
    {
     "name": "stdout",
     "output_type": "stream",
     "text": [
      "GCN(\n",
      "  (initial_conv): GCNConv(2, 128)\n",
      "  (conv1): GCNConv(128, 128)\n",
      "  (conv2): GCNConv(128, 128)\n",
      "  (lin1): Linear(in_features=256, out_features=128, bias=True)\n",
      "  (lin2): Linear(in_features=128, out_features=128, bias=True)\n",
      "  (lin3): Linear(in_features=128, out_features=1, bias=True)\n",
      "  (act1): ReLU()\n",
      "  (act2): ReLU()\n",
      ")\n",
      "Number of parameters:  82945\n"
     ]
    }
   ],
   "source": [
    "import torch\n",
    "from torch.nn import Linear, Dropout\n",
    "import torch.nn.functional as F \n",
    "from torch_geometric.nn import GCNConv, TopKPooling, global_mean_pool, TopKPooling\n",
    "from torch_geometric.nn import global_mean_pool as gap, global_max_pool as gmp\n",
    "embedding_size = 128\n",
    "class GCN(torch.nn.Module):\n",
    "    def __init__(self):\n",
    "        # Init parent\n",
    "        super(GCN, self).__init__()\n",
    "        torch.manual_seed(42)\n",
    "\n",
    "        # GCN layers\n",
    "        self.initial_conv = GCNConv(dataset.num_features, embedding_size) #to  translate our node features into the size of the embedding\n",
    "        self.conv1 = GCNConv(embedding_size, embedding_size)\n",
    "        self.conv2 = GCNConv(embedding_size, embedding_size)\n",
    "        # pooling layer\n",
    "        #self.pool = TopKPooling(embedding_size, ratio=0.8)\n",
    "        #dropout layer\n",
    "        #self.dropout = Dropout(p=0.2)\n",
    "\n",
    "        # Output layer\n",
    "        self.lin1 = Linear(embedding_size*2, 128) # linear output layer ensures that we get a continuous unbounded output value. It input is the flattened vector (embedding size *2) from the pooling layer (mean and max)\n",
    "        self.lin2 = Linear(128, 128)\n",
    "        self.lin3 = Linear(128, 1)\n",
    "\n",
    "        self.act1 = torch.nn.ReLU()\n",
    "        self.act2 = torch.nn.ReLU()\n",
    "\n",
    "    def forward(self, x, edge_index, batch_index):\n",
    "        # First Conv layer\n",
    "        hidden = self.initial_conv(x, edge_index)\n",
    "        hidden = F.relu(hidden)\n",
    "\n",
    "        # Other Conv layers\n",
    "        hidden = self.conv1(hidden, edge_index)\n",
    "        hidden = F.relu(hidden)\n",
    "\n",
    "        hidden = self.conv2(hidden, edge_index)\n",
    "        hidden = F.relu(hidden)\n",
    "        #hidden = self.dropout(hidden)\n",
    "        # Global Pooling (stack different aggregations)\n",
    "        hidden = torch.cat([gmp(hidden, batch_index), \n",
    "                            gap(hidden, batch_index)], dim=1)\n",
    "        # Apply a final (linear) classifier.\n",
    "        out = self.lin1(hidden)\n",
    "        out = self.act1(out)\n",
    "        out = self.lin2(out)\n",
    "        out = self.act2(out)\n",
    "        #out = F.dropout(out, p=0.5, training=self.training)\n",
    "        out = self.lin3(out)\n",
    "        out = torch.sigmoid(out)\n",
    "\n",
    "        # return out, hidden\n",
    "        return out\n",
    "\n",
    "model = GCN()\n",
    "print(model)\n",
    "print(\"Number of parameters: \", sum(p.numel() for p in model.parameters())) "
   ]
  },
  {
   "cell_type": "code",
   "execution_count": 24,
   "metadata": {},
   "outputs": [],
   "source": [
    "def train():\n",
    "    model.train()\n",
    "\n",
    "    loss_all = 0\n",
    "    for data in train_loader:\n",
    "        data = data.to(device)\n",
    "        optimizer.zero_grad()\n",
    "        output = model(data.x.float(), data.edge_index, data.batch)\n",
    "        label = data.y.to(device)\n",
    "        #loss = torch.sqrt(loss_fn(output, label))  \n",
    "        loss = loss_fn(output.squeeze(), label.float())  \n",
    "        loss.backward()\n",
    "        loss_all += data.num_graphs * loss.item()\n",
    "        optimizer.step()\n",
    "    return loss_all / len(train_dataset)"
   ]
  },
  {
   "cell_type": "code",
   "execution_count": 25,
   "metadata": {},
   "outputs": [],
   "source": [
    "from sklearn.metrics import roc_auc_score\n",
    "def evaluate(loader):\n",
    "    model.eval()\n",
    "\n",
    "    predictions = []\n",
    "    labels = []\n",
    "\n",
    "    with torch.no_grad():\n",
    "        for data in loader:\n",
    "\n",
    "            data = data.to(device)\n",
    "            # pred = model(data.x.float(), data.edge_index, data.batch).detach().cpu().numpy()\n",
    "            pred = model(data.x.float(), data.edge_index, data.batch)\n",
    "            label_true = data.y.to(device)\n",
    "            label = data.y.detach().cpu().numpy()\n",
    "            # predictions.append(pred)\n",
    "            # labels.append(label)\n",
    "            predictions.append(np.rint(pred.cpu().detach().numpy()))\n",
    "            labels.append(label)\n",
    "            loss = loss_fn(pred.squeeze(), label_true.float())\n",
    "    # predictions = np.hstack(predictions)\n",
    "    # labels = np.hstack(labels)\n",
    "    predictions = np.concatenate(predictions).ravel()\n",
    "    labels = np.concatenate(labels).ravel()\n",
    "\n",
    "    # print(predictions)\n",
    "    # print(labels)\n",
    "    return accuracy_score(labels, predictions), loss\n",
    "    "
   ]
  },
  {
   "cell_type": "markdown",
   "metadata": {},
   "source": [
    "Training the model"
   ]
  },
  {
   "cell_type": "code",
   "execution_count": 26,
   "metadata": {},
   "outputs": [
    {
     "name": "stdout",
     "output_type": "stream",
     "text": [
      "Starting training...\n",
      "Epoch 0 | Train Loss 0.6144500808226251 | Train Accuracy0.6822135416666667 | Validation Accuracy0.6736111111111112 | Validation loss0.5998484492301941\n",
      "Epoch 1 | Train Loss 0.5824475502577955 | Train Accuracy0.6945572916666667 | Validation Accuracy0.6905381944444444 | Validation loss0.591886043548584\n",
      "Epoch 2 | Train Loss 0.5750601773823647 | Train Accuracy0.7051302083333333 | Validation Accuracy0.7003038194444444 | Validation loss0.5541628003120422\n",
      "Epoch 3 | Train Loss 0.5631807007865614 | Train Accuracy0.7145833333333333 | Validation Accuracy0.7152777777777778 | Validation loss0.5898100733757019\n",
      "Epoch 4 | Train Loss 0.5562117595747622 | Train Accuracy0.708515625 | Validation Accuracy0.7102864583333334 | Validation loss0.5421066880226135\n",
      "Epoch 5 | Train Loss 0.5503564470180985 | Train Accuracy0.7259375 | Validation Accuracy0.7289496527777778 | Validation loss0.55777907371521\n",
      "Epoch 6 | Train Loss 0.5475679643157599 | Train Accuracy0.72390625 | Validation Accuracy0.7274305555555556 | Validation loss0.5484406352043152\n",
      "Epoch 7 | Train Loss 0.541925069832254 | Train Accuracy0.720625 | Validation Accuracy0.7204861111111112 | Validation loss0.5689477324485779\n",
      "Epoch 8 | Train Loss 0.540131038475471 | Train Accuracy0.7287760416666667 | Validation Accuracy0.7328559027777778 | Validation loss0.5501673221588135\n",
      "Epoch 9 | Train Loss 0.5421168985289833 | Train Accuracy0.7303125 | Validation Accuracy0.73828125 | Validation loss0.5534713268280029\n",
      "Epoch 10 | Train Loss 0.5314153133527361 | Train Accuracy0.725078125 | Validation Accuracy0.7235243055555556 | Validation loss0.5931233167648315\n",
      "Early stopping due to no improvement.\n",
      "Finishing training with best val loss: 0.5421066880226135\n"
     ]
    }
   ],
   "source": [
    "device = torch.device(\"cuda:0\" if torch.cuda.is_available() else \"cpu\")\n",
    "model = GCN().to(device)\n",
    "optimizer = torch.optim.Adam(model.parameters(), lr=0.01)\n",
    "\n",
    "loss_fn = torch.nn.BCELoss()\n",
    "\n",
    "\n",
    "print(\"Starting training...\")\n",
    "train_losses = []\n",
    "val_losses = []\n",
    "val_acc_list= []\n",
    "train_acc_list= []\n",
    "best_loss = 1000\n",
    "early_stopping_counter = 0\n",
    "for epoch in range(200):\n",
    "    if early_stopping_counter <=  5: # = x * 5 \n",
    "        loss = train()\n",
    "        train_losses.append(loss)\n",
    "        train_acc, train_loss = evaluate(train_loader)\n",
    "        #val_acc = evaluate(val_loader)    \n",
    "        val_acc, val_loss = evaluate(val_loader)\n",
    "        val_losses.append(val_loss)\n",
    "        val_acc_list.append(val_acc)\n",
    "        train_acc_list.append(train_acc)\n",
    "    \n",
    "        if float(val_loss) < best_loss:\n",
    "            best_loss = val_loss\n",
    "            # Save the currently best model \n",
    "            early_stopping_counter = 0\n",
    "        else:\n",
    "            early_stopping_counter += 1\n",
    "        print(f\"Epoch {epoch} | Train Loss {loss} | Train Accuracy{train_acc} | Validation Accuracy{val_acc} | Validation loss{val_loss}\")\n",
    "\n",
    "    else:\n",
    "        print(\"Early stopping due to no improvement.\")\n",
    "        break\n",
    "print(f\"Finishing training with best val loss: {best_loss}\")"
   ]
  },
  {
   "cell_type": "markdown",
   "metadata": {},
   "source": [
    "Plotting the learning curves"
   ]
  },
  {
   "cell_type": "code",
   "execution_count": 32,
   "metadata": {},
   "outputs": [
    {
     "name": "stderr",
     "output_type": "stream",
     "text": [
      "findfont: Font family ['serif'] not found. Falling back to DejaVu Sans.\n"
     ]
    },
    {
     "data": {
      "image/png": "[encoded data removed]",
      "text/plain": [
       "<Figure size 1440x936 with 2 Axes>"
      ]
     },
     "metadata": {
      "needs_background": "light"
     },
     "output_type": "display_data"
    }
   ],
   "source": [
    "with torch.no_grad():\n",
    "    fig, (ax1, ax2) = plt.subplots(nrows=1, ncols=2, figsize=(20, 13))\n",
    "    ax1.plot(train_losses, label=\"$train\\_loss$\")\n",
    "    ax1.plot(val_losses, label=\"$val\\_loss$\")\n",
    "    ax1.set_ylabel('Loss')\n",
    "    ax1.set_xlabel('Epochs')\n",
    "    lines, labels = ax1.get_legend_handles_labels()\n",
    "    ax1.legend(lines, labels, loc='best')\n",
    "\n",
    "    ax2.plot(train_acc_list, label='train\\_acc')\n",
    "    ax2.plot(val_acc_list, label='val\\_acc')\n",
    "    ax2.legend()\n",
    "    ax2.set_ylabel('Accuracy')\n",
    "    ax2.set_xlabel('Epochs')\n",
    "    #plt.rc('font', family='serif')\n",
    "    plt.savefig('CWE_COMBINED_gnn_losses.png')"
   ]
  },
  {
   "cell_type": "code",
   "execution_count": 33,
   "metadata": {},
   "outputs": [
    {
     "data": {
      "text/plain": [
       "<AxesSubplot:>"
      ]
     },
     "execution_count": 33,
     "metadata": {},
     "output_type": "execute_result"
    },
    {
     "data": {
      "image/png": "[encoded data removed]",
      "text/plain": [
       "<Figure size 432x288 with 1 Axes>"
      ]
     },
     "metadata": {
      "needs_background": "light"
     },
     "output_type": "display_data"
    }
   ],
   "source": [
    "# Visualize learning (training loss)\n",
    "import seaborn as sns\n",
    "losses_float = [float(loss) for loss in train_losses] \n",
    "loss_indices = [i for i,l in enumerate(losses_float)] \n",
    "plt = sns.lineplot(loss_indices, losses_float)\n",
    "plt"
   ]
  },
  {
   "cell_type": "markdown",
   "metadata": {},
   "source": [
    "Printing out the performance metrics"
   ]
  },
  {
   "cell_type": "code",
   "execution_count": 27,
   "metadata": {},
   "outputs": [],
   "source": [
    "NUM_GRAPHS_PER_BATCH_1 = 4835\n",
    "test_loader_all = DataLoader(test_dataset, batch_size=NUM_GRAPHS_PER_BATCH_1,drop_last=True, shuffle=True)"
   ]
  },
  {
   "cell_type": "code",
   "execution_count": 28,
   "metadata": {},
   "outputs": [
    {
     "name": "stdout",
     "output_type": "stream",
     "text": [
      "\n",
      " Confusion matrix: \n",
      " [[1620  844]\n",
      " [ 461 1910]]\n",
      "\n",
      " Accuracy: 0.7300930713547052\n",
      "\n",
      " Precision: 0.6935366739288308\n",
      "\n",
      " Recall: 0.8055672711935892\n",
      "\n",
      " F1 Score: 0.7453658536585365\n"
     ]
    },
    {
     "data": {
      "text/html": [
       "<div>\n",
       "<style scoped>\n",
       "    .dataframe tbody tr th:only-of-type {\n",
       "        vertical-align: middle;\n",
       "    }\n",
       "\n",
       "    .dataframe tbody tr th {\n",
       "        vertical-align: top;\n",
       "    }\n",
       "\n",
       "    .dataframe thead th {\n",
       "        text-align: right;\n",
       "    }\n",
       "</style>\n",
       "<table border=\"1\" class=\"dataframe\">\n",
       "  <thead>\n",
       "    <tr style=\"text-align: right;\">\n",
       "      <th></th>\n",
       "      <th>y_real</th>\n",
       "      <th>y_pred</th>\n",
       "    </tr>\n",
       "  </thead>\n",
       "  <tbody>\n",
       "    <tr>\n",
       "      <th>0</th>\n",
       "      <td>1</td>\n",
       "      <td>[0.4110952913761139]</td>\n",
       "    </tr>\n",
       "    <tr>\n",
       "      <th>1</th>\n",
       "      <td>1</td>\n",
       "      <td>[0.6756953597068787]</td>\n",
       "    </tr>\n",
       "    <tr>\n",
       "      <th>2</th>\n",
       "      <td>0</td>\n",
       "      <td>[0.11998370289802551]</td>\n",
       "    </tr>\n",
       "    <tr>\n",
       "      <th>3</th>\n",
       "      <td>0</td>\n",
       "      <td>[0.7369117140769958]</td>\n",
       "    </tr>\n",
       "    <tr>\n",
       "      <th>4</th>\n",
       "      <td>0</td>\n",
       "      <td>[0.13293148577213287]</td>\n",
       "    </tr>\n",
       "    <tr>\n",
       "      <th>...</th>\n",
       "      <td>...</td>\n",
       "      <td>...</td>\n",
       "    </tr>\n",
       "    <tr>\n",
       "      <th>4830</th>\n",
       "      <td>1</td>\n",
       "      <td>[0.12243560701608658]</td>\n",
       "    </tr>\n",
       "    <tr>\n",
       "      <th>4831</th>\n",
       "      <td>1</td>\n",
       "      <td>[0.8020007014274597]</td>\n",
       "    </tr>\n",
       "    <tr>\n",
       "      <th>4832</th>\n",
       "      <td>0</td>\n",
       "      <td>[0.5188013911247253]</td>\n",
       "    </tr>\n",
       "    <tr>\n",
       "      <th>4833</th>\n",
       "      <td>1</td>\n",
       "      <td>[0.6873726844787598]</td>\n",
       "    </tr>\n",
       "    <tr>\n",
       "      <th>4834</th>\n",
       "      <td>0</td>\n",
       "      <td>[0.218715101480484]</td>\n",
       "    </tr>\n",
       "  </tbody>\n",
       "</table>\n",
       "<p>4835 rows × 2 columns</p>\n",
       "</div>"
      ],
      "text/plain": [
       "      y_real                 y_pred\n",
       "0          1   [0.4110952913761139]\n",
       "1          1   [0.6756953597068787]\n",
       "2          0  [0.11998370289802551]\n",
       "3          0   [0.7369117140769958]\n",
       "4          0  [0.13293148577213287]\n",
       "...      ...                    ...\n",
       "4830       1  [0.12243560701608658]\n",
       "4831       1   [0.8020007014274597]\n",
       "4832       0   [0.5188013911247253]\n",
       "4833       1   [0.6873726844787598]\n",
       "4834       0    [0.218715101480484]\n",
       "\n",
       "[4835 rows x 2 columns]"
      ]
     },
     "execution_count": 28,
     "metadata": {},
     "output_type": "execute_result"
    }
   ],
   "source": [
    "# Analyze the results for all graphs\n",
    "test_batch = next(iter(test_loader_all))\n",
    "with torch.no_grad():\n",
    "    test_batch.to(device)\n",
    "    pred = model(test_batch.x.float(), test_batch.edge_index, test_batch.batch) \n",
    "    accuracy= accuracy_score(test_batch.y, np.rint(pred))\n",
    "    precision= precision_score(test_batch.y, np.rint(pred), zero_division=1)\n",
    "    recall= recall_score(test_batch.y, np.rint(pred), zero_division=1)\n",
    "    df = pd.DataFrame()\n",
    "    df[\"y_real\"] = test_batch.y.tolist()\n",
    "    df[\"y_pred\"] = pred.tolist()\n",
    "    print(f\"\\n Confusion matrix: \\n {confusion_matrix(test_batch.y, np.rint(pred))}\")\n",
    "    print(f\"\\n Accuracy: {accuracy_score(test_batch.y, np.rint(pred))}\")\n",
    "    print(f\"\\n Precision: {precision_score(test_batch.y, np.rint(pred))}\")\n",
    "    print(f\"\\n Recall: {recall_score(test_batch.y, np.rint(pred))}\")\n",
    "    print(f\"\\n F1 Score: {f1_score(test_batch.y, np.rint(pred))}\")\n",
    "df"
   ]
  },
  {
   "cell_type": "code",
   "execution_count": null,
   "metadata": {},
   "outputs": [],
   "source": []
  }
 ],
 "metadata": {
  "interpreter": {
   "hash": "ed38e45ff0aaff95ccfc69f4fb6b3b80052ffc6235959bf5d9d2fb5b2218aec2"
  },
  "kernelspec": {
   "display_name": "Python 3.8.10 64-bit ('base': conda)",
   "name": "python3"
  },
  "language_info": {
   "name": "python",
   "version": ""
  },
  "orig_nbformat": 2
 },
 "nbformat": 4,
 "nbformat_minor": 2
}