{
 "cells": [
  {
   "cell_type": "markdown",
   "metadata": {},
   "source": [
    "This notebook shows an example of extracting and plotting an AST from a source code."
   ]
  },
  {
   "cell_type": "markdown",
   "metadata": {},
   "source": [
    "In this notebook some functions are written with some help from the following documentations as well as tutorials: \n",
    "\n",
    "Clang documentation:\n",
    "\n",
    "https://libclang.readthedocs.io/en/latest/index.html\n",
    "\n",
    "An example of parsing C ++ code using libclang in Python:\n",
    "\n",
    "https://sudonull.com/post/907-An-example-of-parsing-C-code-using-libclang-in-Python\n",
    "\n",
    "Clang tutorial:\n",
    "\n",
    "https://jonasdevlieghere.com/understanding-the-clang-ast/#cursors"
   ]
  },
  {
   "cell_type": "code",
   "execution_count": 36,
   "metadata": {},
   "outputs": [
    {
     "data": {
      "text/plain": [
       "'0.16'"
      ]
     },
     "execution_count": 36,
     "metadata": {},
     "output_type": "execute_result"
    }
   ],
   "source": [
    "import clang.cindex\n",
    "import pandas as pd\n",
    "import logging\n",
    "\n",
    "import graphviz\n",
    "\n",
    "logging.basicConfig(format='[%(levelname)s@%(name)s] %(message)s', level=logging.DEBUG)\n",
    "\n",
    "graphviz.__version__"
   ]
  },
  {
   "cell_type": "code",
   "execution_count": 37,
   "metadata": {},
   "outputs": [],
   "source": [
    "vdisc = pd.read_csv(\"./Dataset/vdisc_buffer_examples.csv.gz\")"
   ]
  },
  {
   "cell_type": "code",
   "execution_count": 38,
   "metadata": {},
   "outputs": [
    {
     "data": {
      "text/html": [
       "<div>\n",
       "<style scoped>\n",
       "    .dataframe tbody tr th:only-of-type {\n",
       "        vertical-align: middle;\n",
       "    }\n",
       "\n",
       "    .dataframe tbody tr th {\n",
       "        vertical-align: top;\n",
       "    }\n",
       "\n",
       "    .dataframe thead th {\n",
       "        text-align: right;\n",
       "    }\n",
       "</style>\n",
       "<table border=\"1\" class=\"dataframe\">\n",
       "  <thead>\n",
       "    <tr style=\"text-align: right;\">\n",
       "      <th></th>\n",
       "      <th>Unnamed: 0</th>\n",
       "      <th>testCase_ID</th>\n",
       "      <th>filename</th>\n",
       "      <th>code</th>\n",
       "      <th>bug</th>\n",
       "      <th>type</th>\n",
       "    </tr>\n",
       "  </thead>\n",
       "  <tbody>\n",
       "    <tr>\n",
       "      <th>0</th>\n",
       "      <td>0</td>\n",
       "      <td>0</td>\n",
       "      <td>0_vdisc.c</td>\n",
       "      <td>create_NUBspline_1d_z (NUgrid* x_grid, BCtype_...</td>\n",
       "      <td>True</td>\n",
       "      <td>CWE_120</td>\n",
       "    </tr>\n",
       "    <tr>\n",
       "      <th>1</th>\n",
       "      <td>1</td>\n",
       "      <td>1</td>\n",
       "      <td>1_vdisc.c</td>\n",
       "      <td>m92_startup(void)\\r\\n{\\r\\n\\tunsigned char *RAM...</td>\n",
       "      <td>True</td>\n",
       "      <td>CWE_120</td>\n",
       "    </tr>\n",
       "    <tr>\n",
       "      <th>2</th>\n",
       "      <td>2</td>\n",
       "      <td>2</td>\n",
       "      <td>2_vdisc.c</td>\n",
       "      <td>chirp_multi_lookup(const char *volume, const c...</td>\n",
       "      <td>True</td>\n",
       "      <td>CWE_120</td>\n",
       "    </tr>\n",
       "    <tr>\n",
       "      <th>3</th>\n",
       "      <td>3</td>\n",
       "      <td>3</td>\n",
       "      <td>3_vdisc.c</td>\n",
       "      <td>_parse(VisuConfigFileEntry *entry, gchar **tok...</td>\n",
       "      <td>True</td>\n",
       "      <td>CWE_120</td>\n",
       "    </tr>\n",
       "    <tr>\n",
       "      <th>4</th>\n",
       "      <td>4</td>\n",
       "      <td>4</td>\n",
       "      <td>4_vdisc.c</td>\n",
       "      <td>CDE_create_path_symlink_dirs() {\\n  char *p;\\n...</td>\n",
       "      <td>True</td>\n",
       "      <td>CWE_120</td>\n",
       "    </tr>\n",
       "  </tbody>\n",
       "</table>\n",
       "</div>"
      ],
      "text/plain": [
       "   Unnamed: 0  testCase_ID   filename  \\\n",
       "0           0            0  0_vdisc.c   \n",
       "1           1            1  1_vdisc.c   \n",
       "2           2            2  2_vdisc.c   \n",
       "3           3            3  3_vdisc.c   \n",
       "4           4            4  4_vdisc.c   \n",
       "\n",
       "                                                code   bug     type  \n",
       "0  create_NUBspline_1d_z (NUgrid* x_grid, BCtype_...  True  CWE_120  \n",
       "1  m92_startup(void)\\r\\n{\\r\\n\\tunsigned char *RAM...  True  CWE_120  \n",
       "2  chirp_multi_lookup(const char *volume, const c...  True  CWE_120  \n",
       "3  _parse(VisuConfigFileEntry *entry, gchar **tok...  True  CWE_120  \n",
       "4  CDE_create_path_symlink_dirs() {\\n  char *p;\\n...  True  CWE_120  "
      ]
     },
     "execution_count": 38,
     "metadata": {},
     "output_type": "execute_result"
    }
   ],
   "source": [
    "vdisc.head()"
   ]
  },
  {
   "cell_type": "code",
   "execution_count": 39,
   "metadata": {},
   "outputs": [
    {
     "name": "stdout",
     "output_type": "stream",
     "text": [
      "<class 'pandas.core.frame.DataFrame'>\n",
      "RangeIndex: 95320 entries, 0 to 95319\n",
      "Data columns (total 6 columns):\n",
      " #   Column       Non-Null Count  Dtype \n",
      "---  ------       --------------  ----- \n",
      " 0   Unnamed: 0   95320 non-null  int64 \n",
      " 1   testCase_ID  95320 non-null  int64 \n",
      " 2   filename     95320 non-null  object\n",
      " 3   code         95320 non-null  object\n",
      " 4   bug          95320 non-null  bool  \n",
      " 5   type         95320 non-null  object\n",
      "dtypes: bool(1), int64(2), object(3)\n",
      "memory usage: 3.7+ MB\n"
     ]
    }
   ],
   "source": [
    "vdisc.info()"
   ]
  },
  {
   "cell_type": "code",
   "execution_count": 78,
   "metadata": {},
   "outputs": [],
   "source": [
    "vdisc_example = vdisc.iloc[95300]"
   ]
  },
  {
   "cell_type": "code",
   "execution_count": 79,
   "metadata": {},
   "outputs": [
    {
     "name": "stdout",
     "output_type": "stream",
     "text": [
      "GetFileType(gpointer handle)\n",
      "{\n",
      "\tWapiHandleType type;\n",
      "\n",
      "\tif (!_WAPI_PRIVATE_HAVE_SLOT (handle)) {\n",
      "\t\tSetLastError (ERROR_INVALID_HANDLE);\n",
      "\t\treturn(FILE_TYPE_UNKNOWN);\n",
      "\t}\n",
      "\n",
      "\ttype = _wapi_handle_type (handle);\n",
      "\t\n",
      "\tif (io_ops[type].getfiletype == NULL) {\n",
      "\t\tSetLastError (ERROR_INVALID_HANDLE);\n",
      "\t\treturn(FILE_TYPE_UNKNOWN);\n",
      "\t}\n",
      "\t\n",
      "\treturn(io_ops[type].getfiletype ());\n",
      "}\n"
     ]
    }
   ],
   "source": [
    "print(vdisc_example.code)"
   ]
  },
  {
   "cell_type": "markdown",
   "metadata": {},
   "source": [
    "Parsing Source code and extracting AST using Clang "
   ]
  },
  {
   "cell_type": "code",
   "execution_count": 24,
   "metadata": {},
   "outputs": [],
   "source": [
    "index = clang.cindex.Index.create()\n",
    "translation_unit = index.parse(path=vdisc_example.filename, unsaved_files=[(vdisc_example.filename, vdisc_example.code)])\n",
    "ast_root = translation_unit.cursor"
   ]
  },
  {
   "cell_type": "markdown",
   "metadata": {},
   "source": [
    "To see the tokens"
   ]
  },
  {
   "cell_type": "code",
   "execution_count": 25,
   "metadata": {
    "scrolled": false
   },
   "outputs": [
    {
     "name": "stdout",
     "output_type": "stream",
     "text": [
      "TokenKind.IDENTIFIER\n",
      "TokenKind.PUNCTUATION\n",
      "TokenKind.KEYWORD\n",
      "TokenKind.PUNCTUATION\n",
      "TokenKind.PUNCTUATION\n",
      "TokenKind.IDENTIFIER\n",
      "TokenKind.IDENTIFIER\n",
      "TokenKind.PUNCTUATION\n",
      "TokenKind.PUNCTUATION\n",
      "TokenKind.LITERAL\n",
      "TokenKind.PUNCTUATION\n",
      "TokenKind.LITERAL\n",
      "TokenKind.PUNCTUATION\n",
      "TokenKind.PUNCTUATION\n",
      "TokenKind.KEYWORD\n",
      "TokenKind.IDENTIFIER\n",
      "TokenKind.PUNCTUATION\n",
      "TokenKind.IDENTIFIER\n",
      "TokenKind.PUNCTUATION\n",
      "TokenKind.PUNCTUATION\n",
      "TokenKind.IDENTIFIER\n",
      "TokenKind.PUNCTUATION\n",
      "TokenKind.IDENTIFIER\n",
      "TokenKind.PUNCTUATION\n",
      "TokenKind.IDENTIFIER\n",
      "TokenKind.PUNCTUATION\n",
      "TokenKind.KEYWORD\n",
      "TokenKind.PUNCTUATION\n",
      "TokenKind.IDENTIFIER\n",
      "TokenKind.PUNCTUATION\n",
      "TokenKind.PUNCTUATION\n",
      "TokenKind.PUNCTUATION\n",
      "TokenKind.IDENTIFIER\n",
      "TokenKind.PUNCTUATION\n",
      "TokenKind.PUNCTUATION\n",
      "TokenKind.PUNCTUATION\n",
      "TokenKind.IDENTIFIER\n",
      "TokenKind.PUNCTUATION\n",
      "TokenKind.IDENTIFIER\n",
      "TokenKind.PUNCTUATION\n",
      "TokenKind.IDENTIFIER\n",
      "TokenKind.PUNCTUATION\n",
      "TokenKind.LITERAL\n",
      "TokenKind.PUNCTUATION\n",
      "TokenKind.PUNCTUATION\n",
      "TokenKind.LITERAL\n",
      "TokenKind.PUNCTUATION\n",
      "TokenKind.PUNCTUATION\n",
      "TokenKind.PUNCTUATION\n"
     ]
    }
   ],
   "source": [
    "for i in translation_unit.get_tokens(extent=translation_unit.cursor.extent):\n",
    "    print (i.kind)"
   ]
  },
  {
   "cell_type": "markdown",
   "metadata": {},
   "source": [
    "# Print AST"
   ]
  },
  {
   "cell_type": "code",
   "execution_count": 26,
   "metadata": {
    "tags": [
     "outputPrepend"
    ]
   },
   "outputs": [
    {
     "name": "stdout",
     "output_type": "stream",
     "text": [
      " CursorKind.TRANSLATION_UNIT 10_vdisc.c\n",
      "     CursorKind.FUNCTION_DECL test_date_rfc2822__format_rfc2822_positive_offset\n",
      "         CursorKind.COMPOUND_STMT \n",
      "             CursorKind.DECL_STMT \n",
      "                 CursorKind.VAR_DECL buf\n"
     ]
    }
   ],
   "source": [
    "def print_ast(cursor, deep=0):\n",
    "    print(' '.join((deep*'    ', str(cursor.kind), str(cursor.spelling))))\n",
    "    for child in cursor.get_children():\n",
    "        print_ast(child, deep+1)\n",
    "\n",
    "print_ast(ast_root)"
   ]
  },
  {
   "cell_type": "markdown",
   "metadata": {},
   "source": [
    "# Visualizing AST'S"
   ]
  },
  {
   "cell_type": "code",
   "execution_count": 27,
   "metadata": {},
   "outputs": [],
   "source": [
    "def get_ast(example):\n",
    "    index = clang.cindex.Index.create()\n",
    "    translation_unit = index.parse(path=example.filename, unsaved_files=[(example.filename, example.code)])\n",
    "    ast_root = translation_unit.cursor\n",
    "    save_ast(ast_root)\n",
    "    numbering_ast_nodes(ast_root)\n",
    "\n",
    "    return ast_root"
   ]
  },
  {
   "cell_type": "code",
   "execution_count": 28,
   "metadata": {},
   "outputs": [],
   "source": [
    "def save_ast(node):\n",
    "   \n",
    "    node.children = list(node.get_children())\n",
    "\n",
    "    for child in node.children:\n",
    "        counter = save_ast(child)"
   ]
  },
  {
   "cell_type": "code",
   "execution_count": 29,
   "metadata": {},
   "outputs": [],
   "source": [
    "def numbering_ast_nodes(node, counter=1):\n",
    "  \n",
    "    node.identifier = counter\n",
    "    counter += 1\n",
    "\n",
    "    node.children = list(node.get_children())\n",
    "    for child in node.children:\n",
    "        counter = numbering_ast_nodes(child, counter)\n",
    "\n",
    "    return counter"
   ]
  },
  {
   "cell_type": "code",
   "execution_count": 30,
   "metadata": {},
   "outputs": [],
   "source": [
    "def generate_edgelist(ast_root):\n",
    " \n",
    "    edges = []\n",
    "\n",
    "    def walk_tree_and_add_edges(node):\n",
    "        for child in node.children:\n",
    "            edges.append([node.identifier, child.identifier])\n",
    "            walk_tree_and_add_edges(child)\n",
    "\n",
    "    walk_tree_and_add_edges(ast_root)\n",
    "\n",
    "    return edges"
   ]
  },
  {
   "cell_type": "code",
   "execution_count": 31,
   "metadata": {},
   "outputs": [],
   "source": [
    "def generate_features(ast_root):\n",
    "    features = {}\n",
    "\n",
    "    def walk_tree_and_set_features(node):\n",
    "        out_degree = len(node.children)\n",
    "        in_degree = 1\n",
    "        degree = out_degree + in_degree\n",
    "\n",
    "        features[node.identifier] = [degree, str(node.kind), node.displayname]\n",
    "\n",
    "        for child in node.children:\n",
    "            walk_tree_and_set_features(child)\n",
    "\n",
    "    walk_tree_and_set_features(ast_root)\n",
    "\n",
    "    return features"
   ]
  },
  {
   "cell_type": "code",
   "execution_count": 32,
   "metadata": {},
   "outputs": [],
   "source": [
    "def ast_to_dot(ast_root):\n",
    "    ast_edgelist = '\\n                '.join([\n",
    "        make_dot_edge((str(start), str(end)))\n",
    "        for start, end in generate_edgelist(ast_root)\n",
    "    ])\n",
    "    node_labels = '\\n                '.join([\n",
    "        str(node_id)\n",
    "        + ' [label=\"' + str(node_features[1].replace(\"CursorKind.\", \"\")) + \" \"+ str(node_features[2]) + '\"]'\n",
    "        for node_id, node_features in generate_features(ast_root).items()\n",
    "    ])\n",
    "    return \"\"\"\n",
    "        digraph g {\n",
    "            {  # NODE LABELS\n",
    "                \n",
    "                \"\"\" + node_labels + \"\"\"\n",
    "            }\n",
    "            {  # Edges\n",
    "               \n",
    "                \"\"\" + ast_edgelist + \"\"\"\n",
    "            }\n",
    "        }\n",
    "    \"\"\""
   ]
  },
  {
   "cell_type": "code",
   "execution_count": 33,
   "metadata": {},
   "outputs": [],
   "source": [
    "def make_dot_edge(edge):\n",
    "    start, end = edge\n",
    "    return start + \" -> \" + end"
   ]
  },
  {
   "cell_type": "code",
   "execution_count": 34,
   "metadata": {},
   "outputs": [],
   "source": [
    "vdisc_ast_example = get_ast(vdisc_example)"
   ]
  },
  {
   "cell_type": "code",
   "execution_count": 35,
   "metadata": {
    "tags": [
     "outputPrepend"
    ]
   },
   "outputs": [
    {
     "name": "stdout",
     "output_type": "stream",
     "text": [
      "\n",
      "        digraph g {\n",
      "            {  # NODE LABELS\n",
      "                \n",
      "                1 [label=\"TRANSLATION_UNIT 10_vdisc.c\"]\n",
      "                2 [label=\"FUNCTION_DECL test_date_rfc2822__format_rfc2822_positive_offset()\"]\n",
      "                3 [label=\"COMPOUND_STMT \"]\n",
      "                4 [label=\"DECL_STMT \"]\n",
      "                5 [label=\"VAR_DECL buf\"]\n",
      "            }\n",
      "            {  # Edges\n",
      "               \n",
      "                1 -> 2\n",
      "                2 -> 3\n",
      "                3 -> 4\n",
      "                4 -> 5\n",
      "            }\n",
      "        }\n",
      "    \n"
     ]
    }
   ],
   "source": [
    "vdisc_ast_dot= ast_to_dot(vdisc_ast_example)\n",
    "print(vdisc_ast_dot)"
   ]
  },
  {
   "cell_type": "code",
   "execution_count": 196,
   "metadata": {},
   "outputs": [
    {
     "name": "stderr",
     "output_type": "stream",
     "text": [
      "[DEBUG@graphviz.files] write 532 bytes to './Dataset/test2.dot'\n"
     ]
    },
    {
     "data": {
      "text/plain": [
       "'./Dataset/test2.dot'"
      ]
     },
     "execution_count": 196,
     "metadata": {},
     "output_type": "execute_result"
    }
   ],
   "source": [
    "dot = graphviz.Digraph()\n",
    "\n",
    "\n",
    "dot.node('1', 'TRANSLATION_UNIT 95300_vdisc.c\"')\n",
    "dot.node('2', 'FUNCTION_DECL GetFileType(int)')\n",
    "dot.node('3', 'PARM_DECL handle')\n",
    "dot.node('4', 'COMPOUND_STMT')\n",
    "dot.node('5', 'IF_STMT')\n",
    "dot.node('6', 'UNEXPOSED_EXPR')\n",
    "dot.node('7', 'COMPOUND_STMT')\n",
    "dot.node('8', 'IF_STMT')\n",
    "dot.node('9', 'UNEXPOSED_EXPR')\n",
    "dot.node('10', 'COMPOUND_STMT')\n",
    "\n",
    "\n",
    "\n",
    "dot.edge('1', '2', constraint='true')\n",
    "dot.edge('2', '3', constraint='true')\n",
    "dot.edge('2', '4', constraint='true')\n",
    "dot.edge('4', '5', constraint='true')\n",
    "dot.edge('5', '6', constraint='true')\n",
    "dot.edge('5', '7', constraint='true')\n",
    "dot.edge('4', '8', constraint='true')\n",
    "dot.edge('8', '9', constraint='true')\n",
    "dot.edge('8', '10', constraint='true')\n",
    "\n",
    "\n",
    "dot\n",
    "dot.save('test2.dot','./Dataset/')"
   ]
  },
  {
   "cell_type": "code",
   "execution_count": null,
   "metadata": {},
   "outputs": [],
   "source": []
  }
 ],
 "metadata": {
  "interpreter": {
   "hash": "ed38e45ff0aaff95ccfc69f4fb6b3b80052ffc6235959bf5d9d2fb5b2218aec2"
  },
  "kernelspec": {
   "display_name": "Python 3.8.10 64-bit ('base': conda)",
   "name": "python3"
  },
  "language_info": {
   "name": "python",
   "version": ""
  }
 },
 "nbformat": 4,
 "nbformat_minor": 2
}