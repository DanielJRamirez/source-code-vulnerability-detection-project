{
 "cells": [
  {
   "cell_type": "markdown",
   "metadata": {},
   "source": [
    "# Software Vulnerability Detection using Deep Learning (Experiment Replication)"
   ]
  },
  {
   "cell_type": "markdown",
   "metadata": {},
   "source": [
    "### Single column experiment (CWE-119)"
   ]
  },
  {
   "cell_type": "markdown",
   "metadata": {},
   "source": [
    "* This is from Russell et. al work (Automated Vulnerability Detection in Source Code Using Deep Representation Learning) https://arxiv.org/abs/1807.04320\n",
    "* Datasets downloaded from https://osf.io/d45bw/\n",
    "* Datasets distribution: Training (80%), Validation (10%), Testing (10%)\n",
    "* The dataset consists of the source code of 1.27 million functions mined from open source software, labeled by static analysis for potential vulnerabilities.\n",
    "* Each function's raw source code, starting from the function name, is stored as a variable-length UTF-8 string. Five binary 'vulnerability' labels are provided for each function, corresponding to the four most common CWEs in our data plus all others: \n",
    " * CWE-120 (3.7% of functions)\n",
    " * CWE-119 (1.9% of functions)\n",
    " * CWE-469 (0.95% of functions)\n",
    " * CWE-476 (0.21% of functions)\n",
    " * CWE-other (2.7% of functions)\n",
    "* Functions may have more than one detected CWE each.\n",
    "* Python 3.6 and Tensorflow 2.0.0"
   ]
  },
  {
   "cell_type": "markdown",
   "metadata": {},
   "source": [
    "## Pre-processing"
   ]
  },
  {
   "cell_type": "markdown",
   "metadata": {},
   "source": [
    "Converting the HDF5 files for training/validation/testing datasets to python pickle for ease of future usage"
   ]
  },
  {
   "cell_type": "code",
   "execution_count": 9,
   "metadata": {},
   "outputs": [],
   "source": [
    "import h5py\n",
    "import pandas as pd"
   ]
  },
  {
   "cell_type": "code",
   "execution_count": 15,
   "metadata": {},
   "outputs": [],
   "source": [
    "# 3 datasets available\n",
    "\n",
    "data = h5py.File(\"VDISC_train.hdf5\",'r')\n",
    "#data = h5py.File(\"VDISC_validate.hdf5\",'r')\n",
    "#data = h5py.File(\"VDISC_test.hdf5\",'r')"
   ]
  },
  {
   "cell_type": "code",
   "execution_count": 30,
   "metadata": {},
   "outputs": [
    {
     "name": "stdout",
     "output_type": "stream",
     "text": [
      "CWE-119\n",
      "CWE-120\n",
      "CWE-469\n",
      "CWE-476\n",
      "CWE-other\n",
      "functionSource\n"
     ]
    }
   ],
   "source": [
    "# List all groups\n",
    "data.visit(print)"
   ]
  },
  {
   "cell_type": "markdown",
   "metadata": {},
   "source": [
    "Create a new dataframe from the HDF5 file"
   ]
  },
  {
   "cell_type": "code",
   "execution_count": 16,
   "metadata": {},
   "outputs": [],
   "source": [
    "mydf = pd.DataFrame(list(data['functionSource']))"
   ]
  },
  {
   "cell_type": "code",
   "execution_count": 17,
   "metadata": {},
   "outputs": [],
   "source": [
    "mydf['CWE-119']=list(data['CWE-119']); mydf['CWE-120']=list(data['CWE-120']); mydf['CWE-469']=list(data['CWE-469']); mydf['CWE-476']=list(data['CWE-476']); mydf['CWE-other']=list(data['CWE-other']) "
   ]
  },
  {
   "cell_type": "code",
   "execution_count": 18,
   "metadata": {},
   "outputs": [],
   "source": [
    "mydf.rename(columns={0:'functionSource'},inplace=True)"
   ]
  },
  {
   "cell_type": "code",
   "execution_count": 71,
   "metadata": {},
   "outputs": [
    {
     "data": {
      "text/html": [
       "<div>\n",
       "<style scoped>\n",
       "    .dataframe tbody tr th:only-of-type {\n",
       "        vertical-align: middle;\n",
       "    }\n",
       "\n",
       "    .dataframe tbody tr th {\n",
       "        vertical-align: top;\n",
       "    }\n",
       "\n",
       "    .dataframe thead th {\n",
       "        text-align: right;\n",
       "    }\n",
       "</style>\n",
       "<table border=\"1\" class=\"dataframe\">\n",
       "  <thead>\n",
       "    <tr style=\"text-align: right;\">\n",
       "      <th></th>\n",
       "      <th>functionSource</th>\n",
       "      <th>CWE-119</th>\n",
       "      <th>CWE-120</th>\n",
       "      <th>CWE-469</th>\n",
       "      <th>CWE-476</th>\n",
       "      <th>CWE-other</th>\n",
       "    </tr>\n",
       "  </thead>\n",
       "  <tbody>\n",
       "    <tr>\n",
       "      <th>0</th>\n",
       "      <td>clear_area(int startx, int starty, int xsize, ...</td>\n",
       "      <td>False</td>\n",
       "      <td>False</td>\n",
       "      <td>False</td>\n",
       "      <td>False</td>\n",
       "      <td>False</td>\n",
       "    </tr>\n",
       "    <tr>\n",
       "      <th>1</th>\n",
       "      <td>ReconstructDuList(Statement* head)\\n{\\n    Sta...</td>\n",
       "      <td>False</td>\n",
       "      <td>False</td>\n",
       "      <td>False</td>\n",
       "      <td>False</td>\n",
       "      <td>False</td>\n",
       "    </tr>\n",
       "    <tr>\n",
       "      <th>2</th>\n",
       "      <td>free_speaker(void)\\n{\\n   if(Lengths)\\n       ...</td>\n",
       "      <td>False</td>\n",
       "      <td>False</td>\n",
       "      <td>False</td>\n",
       "      <td>False</td>\n",
       "      <td>False</td>\n",
       "    </tr>\n",
       "    <tr>\n",
       "      <th>3</th>\n",
       "      <td>mlx4_register_device(struct mlx4_dev *dev)\\n{\\...</td>\n",
       "      <td>False</td>\n",
       "      <td>False</td>\n",
       "      <td>False</td>\n",
       "      <td>False</td>\n",
       "      <td>False</td>\n",
       "    </tr>\n",
       "    <tr>\n",
       "      <th>4</th>\n",
       "      <td>Parse_Env_Var(void)\\n{\\n  char *p = getenv(\"LI...</td>\n",
       "      <td>True</td>\n",
       "      <td>True</td>\n",
       "      <td>False</td>\n",
       "      <td>False</td>\n",
       "      <td>True</td>\n",
       "    </tr>\n",
       "  </tbody>\n",
       "</table>\n",
       "</div>"
      ],
      "text/plain": [
       "                                      functionSource  CWE-119  CWE-120  \\\n",
       "0  clear_area(int startx, int starty, int xsize, ...    False    False   \n",
       "1  ReconstructDuList(Statement* head)\\n{\\n    Sta...    False    False   \n",
       "2  free_speaker(void)\\n{\\n   if(Lengths)\\n       ...    False    False   \n",
       "3  mlx4_register_device(struct mlx4_dev *dev)\\n{\\...    False    False   \n",
       "4  Parse_Env_Var(void)\\n{\\n  char *p = getenv(\"LI...     True     True   \n",
       "\n",
       "   CWE-469  CWE-476  CWE-other  \n",
       "0    False    False      False  \n",
       "1    False    False      False  \n",
       "2    False    False      False  \n",
       "3    False    False      False  \n",
       "4    False    False       True  "
      ]
     },
     "execution_count": 71,
     "metadata": {},
     "output_type": "execute_result"
    }
   ],
   "source": [
    "mydf.iloc[0:5,0:]"
   ]
  },
  {
   "cell_type": "code",
   "execution_count": 19,
   "metadata": {},
   "outputs": [],
   "source": [
    "mydf.to_pickle(\"VDISC_train.pickle\")\n",
    "#mydf.to_pickle(\"VDISC_validate.pickle\")\n",
    "#mydf.to_pickle(\"VDISC_test.pickle\")"
   ]
  },
  {
   "cell_type": "markdown",
   "metadata": {},
   "source": [
    "## Learning Phase"
   ]
  },
  {
   "cell_type": "markdown",
   "metadata": {},
   "source": [
    "### Importing libraries"
   ]
  },
  {
   "cell_type": "code",
   "execution_count": 1,
   "metadata": {},
   "outputs": [
    {
     "name": "stdout",
     "output_type": "stream",
     "text": [
      "Tensorlfow version:  2.0.0\n",
      "Eager mode:  True\n",
      "GPU is available\n"
     ]
    }
   ],
   "source": [
    "import tensorflow as tf\n",
    "import numpy as np\n",
    "import pandas as pd\n",
    "import matplotlib.pyplot as plt\n",
    "import sklearn.metrics\n",
    "import pickle\n",
    "\n",
    "print(\"Tensorlfow version: \", tf.__version__)\n",
    "print(\"Eager mode: \", tf.executing_eagerly())\n",
    "print(\"GPU is\", \"available\" if tf.test.is_gpu_available() else \"NOT AVAILABLE\")"
   ]
  },
  {
   "cell_type": "markdown",
   "metadata": {},
   "source": [
    "### Setting static and global variables"
   ]
  },
  {
   "cell_type": "code",
   "execution_count": 2,
   "metadata": {},
   "outputs": [
    {
     "name": "stdout",
     "output_type": "stream",
     "text": [
      "Random seed is: 71926\n"
     ]
    }
   ],
   "source": [
    "# Generate random seed\n",
    "#myrand=np.random.randint(1, 99999 + 1)\n",
    "myrand=71926\n",
    "np.random.seed(myrand)\n",
    "tf.random.set_seed(myrand)\n",
    "print(\"Random seed is:\",myrand)"
   ]
  },
  {
   "cell_type": "code",
   "execution_count": 3,
   "metadata": {},
   "outputs": [],
   "source": [
    "# Set the global value\n",
    "WORDS_SIZE=10000\n",
    "INPUT_SIZE=500\n",
    "NUM_CLASSES=2\n",
    "MODEL_NUM=0\n",
    "EPOCHS=10"
   ]
  },
  {
   "cell_type": "markdown",
   "metadata": {},
   "source": [
    "### Importing processed datasets"
   ]
  },
  {
   "cell_type": "code",
   "execution_count": 4,
   "metadata": {},
   "outputs": [],
   "source": [
    "train=pd.read_pickle(\"newtrain.pickle\")\n",
    "validate=pd.read_pickle(\"newval.pickle\")\n",
    "test=pd.read_pickle(\"newtest.pickle\")\n",
    "\n",
    "for dataset in [train,validate,test]:\n",
    "    dataset.iloc[:,6] = dataset.iloc[:,6].map({False: 0, True: 1})\n",
    "\n",
    "# Create source code sdata for tokenization\n",
    "x_all = train['functionSource']\n",
    "#x_all = x_all.append(validate['functionSource'])\n",
    "#x_all = x_all.append(test['functionSource'])"
   ]
  },
  {
   "cell_type": "markdown",
   "metadata": {},
   "source": [
    "### Tokenizing the source codes"
   ]
  },
  {
   "cell_type": "code",
   "execution_count": 5,
   "metadata": {},
   "outputs": [
    {
     "name": "stdout",
     "output_type": "stream",
     "text": [
      "Number of tokens:  1094129\n"
     ]
    }
   ],
   "source": [
    "# Tokenizer with word-level\n",
    "tokenizer = tf.keras.preprocessing.text.Tokenizer(char_level=False)\n",
    "tokenizer.fit_on_texts(list(x_all))\n",
    "del(x_all)\n",
    "print('Number of tokens: ',len(tokenizer.word_counts))"
   ]
  },
  {
   "cell_type": "code",
   "execution_count": 6,
   "metadata": {},
   "outputs": [],
   "source": [
    "# Reducing to top N words\n",
    "tokenizer.num_words = WORDS_SIZE"
   ]
  },
  {
   "cell_type": "code",
   "execution_count": 9,
   "metadata": {},
   "outputs": [
    {
     "data": {
      "text/plain": [
       "[('if', 3908040),\n",
       " ('0', 2633095),\n",
       " ('return', 2182544),\n",
       " ('i', 1720280),\n",
       " ('1', 1483872),\n",
       " ('int', 1271988),\n",
       " ('null', 1222633),\n",
       " ('the', 990541),\n",
       " ('t', 917046),\n",
       " ('n', 892342)]"
      ]
     },
     "execution_count": 9,
     "metadata": {},
     "output_type": "execute_result"
    }
   ],
   "source": [
    "# Top 10 words\n",
    "sorted(tokenizer.word_counts.items(), key=lambda x:x[1], reverse=True)[0:10]"
   ]
  },
  {
   "cell_type": "markdown",
   "metadata": {},
   "source": [
    "### Create sequence files from the tokens"
   ]
  },
  {
   "cell_type": "code",
   "execution_count": 7,
   "metadata": {},
   "outputs": [],
   "source": [
    "## Tokkenizing train data and create matrix\n",
    "list_tokenized_train = tokenizer.texts_to_sequences(train['functionSource'])\n",
    "x_train = tf.keras.preprocessing.sequence.pad_sequences(list_tokenized_train, \n",
    "                                  maxlen=INPUT_SIZE,\n",
    "                                  padding='post')\n",
    "x_train = x_train.astype(np.int64)"
   ]
  },
  {
   "cell_type": "code",
   "execution_count": 8,
   "metadata": {},
   "outputs": [],
   "source": [
    "## Tokkenizing test data and create matrix\n",
    "list_tokenized_test = tokenizer.texts_to_sequences(test['functionSource'])\n",
    "x_test = tf.keras.preprocessing.sequence.pad_sequences(list_tokenized_test, \n",
    "                                 maxlen=INPUT_SIZE,\n",
    "                                 padding='post')\n",
    "x_test = x_test.astype(np.int64)"
   ]
  },
  {
   "cell_type": "code",
   "execution_count": 9,
   "metadata": {},
   "outputs": [],
   "source": [
    "## Tokkenizing validate data and create matrix\n",
    "list_tokenized_validate = tokenizer.texts_to_sequences(validate['functionSource'])\n",
    "x_validate = tf.keras.preprocessing.sequence.pad_sequences(list_tokenized_validate, \n",
    "                                 maxlen=INPUT_SIZE,\n",
    "                                 padding='post')\n",
    "x_validate = x_validate.astype(np.int64)"
   ]
  },
  {
   "cell_type": "markdown",
   "metadata": {},
   "source": [
    "### Model Definition (CNN with Gaussian Noise and 1 Output Split)"
   ]
  },
  {
   "cell_type": "code",
   "execution_count": 10,
   "metadata": {},
   "outputs": [],
   "source": [
    "# Create a random weights matrix\n",
    "\n",
    "random_weights = np.random.normal(size=(WORDS_SIZE, 13),scale=0.01)"
   ]
  },
  {
   "cell_type": "code",
   "execution_count": 11,
   "metadata": {},
   "outputs": [
    {
     "name": "stdout",
     "output_type": "stream",
     "text": [
      "CNN model built: \n",
      "Model: \"CNN\"\n",
      "_________________________________________________________________\n",
      "Layer (type)                 Output Shape              Param #   \n",
      "=================================================================\n",
      "embedding (Embedding)        (None, 500, 13)           130000    \n",
      "_________________________________________________________________\n",
      "conv1d (Conv1D)              (None, 500, 512)          60416     \n",
      "_________________________________________________________________\n",
      "max_pooling1d (MaxPooling1D) (None, 125, 512)          0         \n",
      "_________________________________________________________________\n",
      "dropout (Dropout)            (None, 125, 512)          0         \n",
      "_________________________________________________________________\n",
      "flatten (Flatten)            (None, 64000)             0         \n",
      "_________________________________________________________________\n",
      "dense (Dense)                (None, 64)                4096064   \n",
      "_________________________________________________________________\n",
      "dense_1 (Dense)              (None, 16)                1040      \n",
      "_________________________________________________________________\n",
      "dense_2 (Dense)              (None, 1)                 17        \n",
      "=================================================================\n",
      "Total params: 4,287,537\n",
      "Trainable params: 4,287,537\n",
      "Non-trainable params: 0\n",
      "_________________________________________________________________\n"
     ]
    }
   ],
   "source": [
    "# Must use non-sequential model building to create branches in the output layer\n",
    "model = tf.keras.Sequential(name=\"CNN\")\n",
    "model.add(tf.keras.layers.Embedding(input_dim = WORDS_SIZE,\n",
    "                                    output_dim = 13,\n",
    "                                    weights=[random_weights],\n",
    "                                    input_length = INPUT_SIZE))\n",
    "#model.add(tf.keras.layers.GaussianNoise(stddev=0.01))\n",
    "model.add(tf.keras.layers.Convolution1D(filters=512, kernel_size=(9), padding='same', activation='relu'))\n",
    "model.add(tf.keras.layers.MaxPool1D(pool_size=4))\n",
    "model.add(tf.keras.layers.Dropout(0.5))\n",
    "model.add(tf.keras.layers.Flatten())\n",
    "model.add(tf.keras.layers.Dense(64, activation='relu'))\n",
    "model.add(tf.keras.layers.Dense(16, activation='relu'))\n",
    "model.add(tf.keras.layers.Dense(1, activation='sigmoid'))\n",
    "\n",
    "# Define custom optimizers\n",
    "adam = tf.keras.optimizers.Adam(lr=0.005, beta_1=0.9, beta_2=0.999, epsilon=1, decay=0.0, amsgrad=False)\n",
    "\n",
    "## Compile model with metrics\n",
    "model.compile(optimizer=adam, loss='binary_crossentropy', metrics=['accuracy'])\n",
    "print(\"CNN model built: \")\n",
    "model.summary()"
   ]
  },
  {
   "cell_type": "markdown",
   "metadata": {},
   "source": [
    "### Tensorboard Callbacks"
   ]
  },
  {
   "cell_type": "code",
   "execution_count": 12,
   "metadata": {},
   "outputs": [],
   "source": [
    "## Create TensorBoard callbacks\n",
    "\n",
    "callbackdir= 'D:\\\\temp\\\\cb'\n",
    "\n",
    "tbCallback = tf.keras.callbacks.TensorBoard(log_dir=callbackdir, \n",
    "                         histogram_freq=1,\n",
    "                         embeddings_freq=1,\n",
    "                         write_graph=True, \n",
    "                         write_images=True)\n",
    "\n",
    "tbCallback.set_model(model)\n",
    "mld = 'model/model-COMB-{epoch:02d}-single.hdf5'\n",
    "\n",
    "## Create best model callback\n",
    "mcp = tf.keras.callbacks.ModelCheckpoint(filepath=mld, \n",
    "                                         monitor=\"val_loss\",\n",
    "                                         save_best_only=True, \n",
    "                                         mode='auto', \n",
    "                                         save_freq='epoch', \n",
    "                                         verbose=1)"
   ]
  },
  {
   "cell_type": "markdown",
   "metadata": {},
   "source": [
    "### Model Training"
   ]
  },
  {
   "cell_type": "code",
   "execution_count": 13,
   "metadata": {},
   "outputs": [
    {
     "name": "stdout",
     "output_type": "stream",
     "text": [
      "Train on 1019471 samples, validate on 127476 samples\n",
      "Epoch 1/30\n",
      "WARNING:tensorflow:Method (on_train_batch_end) is slow compared to the batch update (0.263286). Check your callbacks.\n",
      "WARNING:tensorflow:Method (on_train_batch_end) is slow compared to the batch update (0.252271). Check your callbacks.\n",
      "WARNING:tensorflow:Method (on_train_batch_end) is slow compared to the batch update (0.126136). Check your callbacks.\n",
      "\n",
      "Epoch 00001: val_loss improved from inf to 0.48608, saving model to model/model-COMB-01-single.hdf5\n",
      "1019471/1019471 - 171s - loss: 0.5024 - accuracy: 0.9348 - val_loss: 0.4861 - val_accuracy: 0.9353\n",
      "Epoch 2/30\n",
      "\n",
      "Epoch 00002: val_loss improved from 0.48608 to 0.42399, saving model to model/model-COMB-02-single.hdf5\n",
      "1019471/1019471 - 166s - loss: 0.4563 - accuracy: 0.9288 - val_loss: 0.4240 - val_accuracy: 0.9193\n",
      "Epoch 3/30\n",
      "\n",
      "Epoch 00003: val_loss improved from 0.42399 to 0.40203, saving model to model/model-COMB-03-single.hdf5\n",
      "1019471/1019471 - 166s - loss: 0.4122 - accuracy: 0.9161 - val_loss: 0.4020 - val_accuracy: 0.9176\n",
      "Epoch 4/30\n",
      "\n",
      "Epoch 00004: val_loss improved from 0.40203 to 0.38034, saving model to model/model-COMB-04-single.hdf5\n",
      "1019471/1019471 - 166s - loss: 0.3900 - accuracy: 0.9135 - val_loss: 0.3803 - val_accuracy: 0.9121\n",
      "Epoch 5/30\n",
      "\n",
      "Epoch 00005: val_loss improved from 0.38034 to 0.36831, saving model to model/model-COMB-05-single.hdf5\n",
      "1019471/1019471 - 166s - loss: 0.3709 - accuracy: 0.9116 - val_loss: 0.3683 - val_accuracy: 0.9129\n",
      "Epoch 6/30\n",
      "\n",
      "Epoch 00006: val_loss improved from 0.36831 to 0.36569, saving model to model/model-COMB-06-single.hdf5\n",
      "1019471/1019471 - 165s - loss: 0.3604 - accuracy: 0.9100 - val_loss: 0.3657 - val_accuracy: 0.9157\n",
      "Epoch 7/30\n",
      "\n",
      "Epoch 00007: val_loss improved from 0.36569 to 0.35825, saving model to model/model-COMB-07-single.hdf5\n",
      "1019471/1019471 - 166s - loss: 0.3547 - accuracy: 0.9091 - val_loss: 0.3582 - val_accuracy: 0.9070\n",
      "Epoch 8/30\n",
      "\n",
      "Epoch 00008: val_loss improved from 0.35825 to 0.35625, saving model to model/model-COMB-08-single.hdf5\n",
      "1019471/1019471 - 166s - loss: 0.3510 - accuracy: 0.9087 - val_loss: 0.3562 - val_accuracy: 0.9039\n",
      "Epoch 9/30\n",
      "\n",
      "Epoch 00009: val_loss did not improve from 0.35625\n",
      "1019471/1019471 - 166s - loss: 0.3484 - accuracy: 0.9085 - val_loss: 0.3564 - val_accuracy: 0.9065\n",
      "Epoch 10/30\n",
      "\n",
      "Epoch 00010: val_loss improved from 0.35625 to 0.35441, saving model to model/model-COMB-10-single.hdf5\n",
      "1019471/1019471 - 165s - loss: 0.3457 - accuracy: 0.9085 - val_loss: 0.3544 - val_accuracy: 0.9034\n",
      "Epoch 11/30\n",
      "\n",
      "Epoch 00011: val_loss improved from 0.35441 to 0.35171, saving model to model/model-COMB-11-single.hdf5\n",
      "1019471/1019471 - 166s - loss: 0.3437 - accuracy: 0.9087 - val_loss: 0.3517 - val_accuracy: 0.9059\n",
      "Epoch 12/30\n",
      "\n",
      "Epoch 00012: val_loss improved from 0.35171 to 0.35148, saving model to model/model-COMB-12-single.hdf5\n",
      "1019471/1019471 - 166s - loss: 0.3418 - accuracy: 0.9084 - val_loss: 0.3515 - val_accuracy: 0.9073\n",
      "Epoch 13/30\n",
      "\n",
      "Epoch 00013: val_loss did not improve from 0.35148\n",
      "1019471/1019471 - 168s - loss: 0.3401 - accuracy: 0.9086 - val_loss: 0.3522 - val_accuracy: 0.9097\n",
      "Epoch 14/30\n",
      "\n",
      "Epoch 00014: val_loss improved from 0.35148 to 0.34995, saving model to model/model-COMB-14-single.hdf5\n",
      "1019471/1019471 - 167s - loss: 0.3387 - accuracy: 0.9084 - val_loss: 0.3499 - val_accuracy: 0.9054\n",
      "Epoch 15/30\n",
      "\n",
      "Epoch 00015: val_loss did not improve from 0.34995\n",
      "1019471/1019471 - 166s - loss: 0.3372 - accuracy: 0.9084 - val_loss: 0.3570 - val_accuracy: 0.9127\n",
      "Epoch 16/30\n",
      "\n",
      "Epoch 00016: val_loss did not improve from 0.34995\n",
      "1019471/1019471 - 166s - loss: 0.3357 - accuracy: 0.9083 - val_loss: 0.3500 - val_accuracy: 0.9040\n",
      "Epoch 17/30\n",
      "\n",
      "Epoch 00017: val_loss improved from 0.34995 to 0.34953, saving model to model/model-COMB-17-single.hdf5\n",
      "1019471/1019471 - 166s - loss: 0.3345 - accuracy: 0.9084 - val_loss: 0.3495 - val_accuracy: 0.9056\n",
      "Epoch 18/30\n",
      "\n",
      "Epoch 00018: val_loss improved from 0.34953 to 0.34895, saving model to model/model-COMB-18-single.hdf5\n",
      "1019471/1019471 - 166s - loss: 0.3332 - accuracy: 0.9084 - val_loss: 0.3490 - val_accuracy: 0.9078\n",
      "Epoch 19/30\n",
      "\n",
      "Epoch 00019: val_loss improved from 0.34895 to 0.34786, saving model to model/model-COMB-19-single.hdf5\n",
      "1019471/1019471 - 165s - loss: 0.3322 - accuracy: 0.9084 - val_loss: 0.3479 - val_accuracy: 0.9097\n",
      "Epoch 20/30\n",
      "\n",
      "Epoch 00020: val_loss did not improve from 0.34786\n",
      "1019471/1019471 - 165s - loss: 0.3309 - accuracy: 0.9087 - val_loss: 0.3483 - val_accuracy: 0.9076\n",
      "Epoch 21/30\n",
      "\n",
      "Epoch 00021: val_loss improved from 0.34786 to 0.34643, saving model to model/model-COMB-21-single.hdf5\n",
      "1019471/1019471 - 166s - loss: 0.3295 - accuracy: 0.9085 - val_loss: 0.3464 - val_accuracy: 0.9039\n",
      "Epoch 22/30\n",
      "\n",
      "Epoch 00022: val_loss improved from 0.34643 to 0.34592, saving model to model/model-COMB-22-single.hdf5\n",
      "1019471/1019471 - 166s - loss: 0.3283 - accuracy: 0.9088 - val_loss: 0.3459 - val_accuracy: 0.9063\n",
      "Epoch 23/30\n",
      "\n",
      "Epoch 00023: val_loss improved from 0.34592 to 0.34466, saving model to model/model-COMB-23-single.hdf5\n",
      "1019471/1019471 - 165s - loss: 0.3272 - accuracy: 0.9087 - val_loss: 0.3447 - val_accuracy: 0.9090\n",
      "Epoch 24/30\n",
      "\n",
      "Epoch 00024: val_loss did not improve from 0.34466\n",
      "1019471/1019471 - 166s - loss: 0.3258 - accuracy: 0.9090 - val_loss: 0.3466 - val_accuracy: 0.9014\n",
      "Epoch 25/30\n",
      "\n",
      "Epoch 00025: val_loss improved from 0.34466 to 0.34399, saving model to model/model-COMB-25-single.hdf5\n",
      "1019471/1019471 - 166s - loss: 0.3245 - accuracy: 0.9094 - val_loss: 0.3440 - val_accuracy: 0.9051\n",
      "Epoch 26/30\n",
      "\n",
      "Epoch 00026: val_loss improved from 0.34399 to 0.34368, saving model to model/model-COMB-26-single.hdf5\n",
      "1019471/1019471 - 166s - loss: 0.3230 - accuracy: 0.9094 - val_loss: 0.3437 - val_accuracy: 0.9066\n",
      "Epoch 27/30\n",
      "\n",
      "Epoch 00027: val_loss did not improve from 0.34368\n",
      "1019471/1019471 - 165s - loss: 0.3218 - accuracy: 0.9090 - val_loss: 0.3475 - val_accuracy: 0.9087\n",
      "Epoch 28/30\n",
      "\n",
      "Epoch 00028: val_loss improved from 0.34368 to 0.34303, saving model to model/model-COMB-28-single.hdf5\n",
      "1019471/1019471 - 166s - loss: 0.3205 - accuracy: 0.9095 - val_loss: 0.3430 - val_accuracy: 0.9046\n",
      "Epoch 29/30\n",
      "\n",
      "Epoch 00029: val_loss did not improve from 0.34303\n",
      "1019471/1019471 - 166s - loss: 0.3191 - accuracy: 0.9098 - val_loss: 0.3431 - val_accuracy: 0.9042\n",
      "Epoch 30/30\n",
      "\n",
      "Epoch 00030: val_loss improved from 0.34303 to 0.34077, saving model to model/model-COMB-30-single.hdf5\n",
      "1019471/1019471 - 166s - loss: 0.3176 - accuracy: 0.9097 - val_loss: 0.3408 - val_accuracy: 0.9070\n"
     ]
    }
   ],
   "source": [
    "class_weights = {0: 1., 1: 3.}\n",
    "\n",
    "history = model.fit(x = x_train,\n",
    "          y = train.iloc[:,6].to_numpy(),\n",
    "          validation_data = (x_validate, validate.iloc[:,6].to_numpy()),\n",
    "          epochs = 30,\n",
    "          batch_size = 128,\n",
    "          verbose =2,\n",
    "          class_weight= class_weights,\n",
    "          callbacks=[mcp,tbCallback])\n",
    "\n",
    "with open('history/history-Epoch30-COMB', 'wb') as file_pi:\n",
    "    pickle.dump(history.history, file_pi)"
   ]
  },
  {
   "cell_type": "markdown",
   "metadata": {},
   "source": [
    "### Code to Continue Training (Optional)"
   ]
  },
  {
   "cell_type": "code",
   "execution_count": null,
   "metadata": {},
   "outputs": [],
   "source": [
    "# Continue training for another 100 epochs\n",
    "\n",
    "history40 = model.fit(x = x_train,\n",
    "          y = train.iloc[:,6].to_numpy(),\n",
    "          validation_data = (x_validate, validate.iloc[:,6].to_numpy()),\n",
    "          epochs = 20,\n",
    "          batch_size = 128,\n",
    "          verbose =2,\n",
    "          class_weight= class_weights,\n",
    "          callbacks=[mcp,tbCallback])\n",
    "\n",
    "with open('history/history-Epoch40-CNN-single', 'wb') as file_pi:\n",
    "    pickle.dump(history40.history, file_pi)\n"
   ]
  },
  {
   "cell_type": "markdown",
   "metadata": {},
   "source": [
    "### Load the model"
   ]
  },
  {
   "cell_type": "code",
   "execution_count": 14,
   "metadata": {},
   "outputs": [],
   "source": [
    "# Load model\n",
    "model = tf.keras.models.load_model(\"model/model-COMB-30-single.hdf5\")"
   ]
  },
  {
   "cell_type": "markdown",
   "metadata": {},
   "source": [
    "### Model Evaluation using Training Set"
   ]
  },
  {
   "cell_type": "code",
   "execution_count": null,
   "metadata": {},
   "outputs": [],
   "source": [
    "results = model.evaluate(x_train[[*one,*zero[0:ceiling]],:], train.iloc[[*one,*zero[0:ceiling]],1].to_numpy(), verbose=0, batch_size=128, )\n",
    "for num in range(0,len(model.metrics_names)):\n",
    "    print(model.metrics_names[num]+': '+str(results[num]))\n",
    "\n",
    "predicted = model.predict_classes(x_train[[*one,*zero[0:ceiling]],:])\n",
    "predicted_prob = model.predict(x_train[[*one,*zero[0:ceiling]],:])\n",
    "\n",
    "print('\\nConfusion Matrix')\n",
    "#predicted = model.predict_classes(x_test)\n",
    "confusion = sklearn.metrics.confusion_matrix(y_true=train.iloc[[*one,*zero[0:ceiling]],1].to_numpy(), y_pred=predicted)\n",
    "print(confusion)\n",
    "\n",
    "tn, fp, fn, tp = confusion.ravel()\n",
    "print('\\nTP:',tp)\n",
    "print('FP:',fp)\n",
    "print('TN:',tn)\n",
    "print('FN:',fn)\n",
    "\n",
    "## Performance measure\n",
    "print('\\nAccuracy: '+ str(sklearn.metrics.accuracy_score(y_true=train.iloc[[*one,*zero[0:ceiling]],1].to_numpy(), y_pred=predicted)))\n",
    "print('Precision: '+ str(sklearn.metrics.precision_score(y_true=train.iloc[[*one,*zero[0:ceiling]],1].to_numpy(), y_pred=predicted)))\n",
    "print('Recall: '+ str(sklearn.metrics.recall_score(y_true=train.iloc[[*one,*zero[0:ceiling]],1].to_numpy(), y_pred=predicted)))\n",
    "print('F-measure: '+ str(sklearn.metrics.f1_score(y_true=train.iloc[[*one,*zero[0:ceiling]],1].to_numpy(), y_pred=predicted)))\n",
    "print('Precision-Recall AUC: '+ str(sklearn.metrics.average_precision_score(y_true=train.iloc[[*one,*zero[0:ceiling]],1].to_numpy(), y_score=predicted_prob)))\n",
    "print('AUC: '+ str(sklearn.metrics.roc_auc_score(y_true=train.iloc[[*one,*zero[0:ceiling]],1].to_numpy(), y_score=predicted_prob)))\n",
    "print('MCC: '+ str(sklearn.metrics.matthews_corrcoef(y_true=train.iloc[[*one,*zero[0:ceiling]],1].to_numpy(), y_pred=predicted)))"
   ]
  },
  {
   "cell_type": "markdown",
   "metadata": {},
   "source": [
    "### Model Evaluation using Testing Set"
   ]
  },
  {
   "cell_type": "code",
   "execution_count": 15,
   "metadata": {},
   "outputs": [
    {
     "name": "stderr",
     "output_type": "stream",
     "text": [
      "IOPub data rate exceeded.\n",
      "The notebook server will temporarily stop sending output\n",
      "to the client in order to avoid crashing it.\n",
      "To change this limit, set the config variable\n",
      "`--NotebookApp.iopub_data_rate_limit`.\n",
      "\n",
      "Current values:\n",
      "NotebookApp.iopub_data_rate_limit=1000000.0 (bytes/sec)\n",
      "NotebookApp.rate_limit_window=3.0 (secs)\n",
      "\n"
     ]
    },
    {
     "name": "stdout",
     "output_type": "stream",
     "text": [
      "loss: 0.20374799665427878\n",
      "accuracy: 0.9071881\n",
      "[[110500   8666]\n",
      " [  3160   5093]]\n",
      "\n",
      "TP: 5093\n",
      "FP: 8666\n",
      "TN: 110500\n",
      "FN: 3160\n",
      "\n",
      "Accuracy: 0.9071880959668496\n",
      "Precision: 0.3701577149502144\n",
      "Recall: 0.6171089300860293\n",
      "F-measure: 0.4627475922224241\n",
      "Precision-Recall AUC: 0.36650726158948616\n",
      "AUC: 0.8830663434591075\n",
      "MCC: 0.4317103534745538\n"
     ]
    }
   ],
   "source": [
    "## Test data\n",
    "\n",
    "results = model.evaluate(x_test, test.iloc[:,6].to_numpy(), batch_size=128)\n",
    "for num in range(0,len(model.metrics_names)):\n",
    "    print(model.metrics_names[num]+': '+str(results[num]))\n",
    "\n",
    "predicted = model.predict_classes(x_test)\n",
    "predicted_prob = model.predict(x_test)\n",
    "\n",
    "confusion = sklearn.metrics.confusion_matrix(y_true=test.iloc[:,6].to_numpy(), y_pred=predicted)\n",
    "print(confusion)\n",
    "tn, fp, fn, tp = confusion.ravel()\n",
    "print('\\nTP:',tp)\n",
    "print('FP:',fp)\n",
    "print('TN:',tn)\n",
    "print('FN:',fn)\n",
    "\n",
    "## Performance measure\n",
    "print('\\nAccuracy: '+ str(sklearn.metrics.accuracy_score(y_true=test.iloc[:,6].to_numpy(), y_pred=predicted)))\n",
    "print('Precision: '+ str(sklearn.metrics.precision_score(y_true=test.iloc[:,6].to_numpy(), y_pred=predicted)))\n",
    "print('Recall: '+ str(sklearn.metrics.recall_score(y_true=test.iloc[:,6].to_numpy(), y_pred=predicted)))\n",
    "print('F-measure: '+ str(sklearn.metrics.f1_score(y_true=test.iloc[:,6].to_numpy(), y_pred=predicted)))\n",
    "print('Precision-Recall AUC: '+ str(sklearn.metrics.average_precision_score(y_true=test.iloc[:,6].to_numpy(), y_score=predicted_prob)))\n",
    "print('AUC: '+ str(sklearn.metrics.roc_auc_score(y_true=test.iloc[:,6].to_numpy(), y_score=predicted_prob)))\n",
    "print('MCC: '+ str(sklearn.metrics.matthews_corrcoef(y_true=test.iloc[:,6].to_numpy(), y_pred=predicted)))"
   ]
  },
  {
   "cell_type": "markdown",
   "metadata": {},
   "source": [
    "### Plot The Model's Training History"
   ]
  },
  {
   "cell_type": "code",
   "execution_count": 18,
   "metadata": {},
   "outputs": [
    {
     "data": {
      "text/plain": [
       "['loss', 'accuracy']"
      ]
     },
     "execution_count": 18,
     "metadata": {},
     "output_type": "execute_result"
    }
   ],
   "source": [
    "model.metrics_names"
   ]
  },
  {
   "cell_type": "code",
   "execution_count": 22,
   "metadata": {},
   "outputs": [
    {
     "data": {
      "text/plain": [
       "<matplotlib.legend.Legend at 0x2d0f705ae10>"
      ]
     },
     "execution_count": 22,
     "metadata": {},
     "output_type": "execute_result"
    },
    {
     "data": {
      "image/png": "[encoded data removed]",
      "text/plain": [
       "<Figure size 720x360 with 1 Axes>"
      ]
     },
     "metadata": {
      "needs_background": "light"
     },
     "output_type": "display_data"
    },
    {
     "data": {
      "image/png": "[encoded data removed]",
      "text/plain": [
       "<Figure size 720x360 with 1 Axes>"
      ]
     },
     "metadata": {
      "needs_background": "light"
     },
     "output_type": "display_data"
    }
   ],
   "source": [
    "epochs_range = range(len(history.history[model.metrics_names[1]]))\n",
    "\n",
    "\n",
    "plt.figure(figsize=(10,5))\n",
    "plt.plot(epochs_range, history.history[(model.metrics_names[1])], 'b', label='Accuracy', color='red')\n",
    "plt.plot(epochs_range, history.history['val_%s'%(model.metrics_names[1])], 'b', label='Val accuracy', color='green')\n",
    "plt.title('Training & validation accuracy (Result 4)')\n",
    "plt.legend()\n",
    "\n",
    "plt.figure(figsize=(10,5))\n",
    "plt.plot(epochs_range, history.history[model.metrics_names[0]], 'b', label='Loss', color='red')\n",
    "plt.plot(epochs_range, history.history['val_%s'%model.metrics_names[0]], 'b', label='Val loss', color='green')\n",
    "plt.title('Training & validation loss (Result 4)')\n",
    "plt.legend()\n",
    "\n"
   ]
  },
  {
   "cell_type": "markdown",
   "metadata": {},
   "source": [
    "## Table (Testing set results only)\n",
    "\n",
    "The results are as below (30 epochs unless stated):\n",
    "\n",
    "| No.| Learning_Rate|MaxPool|Weights (0 : 1)|TP|FP|TN|FN|Acc|Precision|Recall|PR-AUC|AUC|MCC|F1|\n",
    "|---\t|---\t|---\t|---\t|---\t|---\t|---\t|---\t|---\t|---\t|---\t|---\t|---\t|---\t|---\t|\n",
    "|  1\t|  0.005|  4\t| 1 : 5|  5817 \t|  11376  \t| 107790  \t|2436| 0.8916  \t|  0.3383 \t| 0.7048  \t| 0.3858| 0.8871|0.4389| 0.4572|\n",
    "|  2\t| 0.0005|  4\t| 1 : 5|  4668 \t|  9702  \t| 109464  \t|3585| 0.8957  \t|  0.3248 \t| 0.5656  \t| 0.3172| 0.8595|0.3767| 0.4126|\n",
    "|  3\t| 0.005 |  5\t| 1 : 5|  5924 \t|  12066  \t| 107100  \t|2329| 0.8870  \t|  0.3292 \t| 0.7177  \t| 0.3761| 0.8866|0.4357| 0.4514|\n",
    "|  4\t| 0.005 |  4\t| 1 : 3|  5093 \t|  8666  \t| 110500  \t|3160| 0.9071  \t|  0.3701 \t| 0.6171  \t| 0.3665| 0.8830|0.4317| 0.4627|\n",
    "\n"
   ]
  },
  {
   "cell_type": "code",
   "execution_count": null,
   "metadata": {},
   "outputs": [],
   "source": []
  }
 ],
 "metadata": {
  "kernelspec": {
   "display_name": "Python 3",
   "language": "python",
   "name": "python3"
  },
  "language_info": {
   "codemirror_mode": {
    "name": "ipython",
    "version": 3
   },
   "file_extension": ".py",
   "mimetype": "text/x-python",
   "name": "python",
   "nbconvert_exporter": "python",
   "pygments_lexer": "ipython3",
   "version": "3.6.9"
  }
 },
 "nbformat": 4,
 "nbformat_minor": 4
}
